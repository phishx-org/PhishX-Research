{
 "cells": [
  {
   "cell_type": "code",
   "execution_count": 1,
   "id": "e6893f1e",
   "metadata": {
    "_cell_guid": "cbda6ce1-f3ff-4964-aa59-f812700072c1",
    "_uuid": "b82e2310-d335-4fb2-a57e-f1ad540844e0",
    "collapsed": false,
    "execution": {
     "iopub.execute_input": "2021-07-24T05:40:24.176154Z",
     "iopub.status.busy": "2021-07-24T05:40:24.174982Z",
     "iopub.status.idle": "2021-07-24T05:40:32.348792Z",
     "shell.execute_reply": "2021-07-24T05:40:32.349563Z",
     "shell.execute_reply.started": "2021-07-23T17:07:02.422283Z"
    },
    "jupyter": {
     "outputs_hidden": false
    },
    "papermill": {
     "duration": 8.227963,
     "end_time": "2021-07-24T05:40:32.350172",
     "exception": false,
     "start_time": "2021-07-24T05:40:24.122209",
     "status": "completed"
    },
    "tags": []
   },
   "outputs": [
    {
     "name": "stdout",
     "output_type": "stream",
     "text": [
      "/kaggle/input/phishing-july/phish_8_july_phishing.csv\n",
      "/kaggle/input/phishing-july/phish_8_july_alexa.csv\n",
      "/kaggle/input/phishing-july/phishdb_8_july.csv\n"
     ]
    }
   ],
   "source": [
    "# This Python 3 environment comes with many helpful analytics libraries installed\n",
    "# It is defined by the kaggle/python Docker image: https://github.com/kaggle/docker-python\n",
    "# For example, here's several helpful packages to load\n",
    "import warnings\n",
    "warnings.filterwarnings(\"ignore\")\n",
    "import numpy as np # linear algebra\n",
    "import pandas as pd # data processing, CSV file I/O (e.g. pd.read_csv)\n",
    "from sklearn.model_selection import StratifiedKFold\n",
    "from imblearn.over_sampling import RandomOverSampler\n",
    "from sklearn.model_selection import train_test_split\n",
    "from keras.models import Sequential\n",
    "from keras.layers import Dense, Dropout, Activation, Embedding, Flatten\n",
    "from keras.layers import LSTM, SimpleRNN, GRU, Bidirectional, BatchNormalization,Convolution1D,MaxPooling1D, Reshape, GlobalAveragePooling1D\n",
    "from keras.utils import to_categorical\n",
    "from sklearn import metrics\n",
    "import matplotlib.pyplot as plt\n",
    "from xgboost import XGBClassifier\n",
    "from sklearn.model_selection import train_test_split\n",
    "from sklearn.metrics import accuracy_score\n",
    "import catboost as cb\n",
    "from sklearn.preprocessing import LabelEncoder, StandardScaler\n",
    "from sklearn.metrics import confusion_matrix\n",
    "from sklearn.model_selection import train_test_split\n",
    "from sklearn import svm, datasets\n",
    "import matplotlib.pyplot as plt\n",
    "import numpy as np\n",
    "from sklearn.neighbors import KNeighborsClassifier\n",
    "from sklearn.metrics import classification_report, confusion_matrix, accuracy_score\n",
    "from sklearn.tree import DecisionTreeClassifier\n",
    "from sklearn.ensemble import RandomForestClassifier\n",
    "from sklearn.naive_bayes import GaussianNB\n",
    "from collections import Counter\n",
    "from imblearn.over_sampling import RandomOverSampler\n",
    "from imblearn.under_sampling import RandomUnderSampler\n",
    "import re\n",
    "import urllib.request\n",
    "import requests\n",
    "import lxml.html as lh\n",
    "import pandas as pd\n",
    "#from bs4 import BeautifulSoup, Comment\n",
    "import pymongo\n",
    "from keras.utils import np_utils\n",
    "\n",
    "# Input data files are available in the read-only \"../input/\" directory\n",
    "# For example, running this (by clicking run or pressing Shift+Enter) will list all files under the input directory\n",
    "\n",
    "import os\n",
    "for dirname, _, filenames in os.walk('/kaggle/input'):\n",
    "    for filename in filenames:\n",
    "        print(os.path.join(dirname, filename))"
   ]
  },
  {
   "cell_type": "code",
   "execution_count": 2,
   "id": "e0a36a0c",
   "metadata": {
    "_cell_guid": "dd3a7885-809c-40b6-bd58-581d16862bd3",
    "_uuid": "ec6e77bb-0ac5-4d52-bf2c-58f2748c6c35",
    "collapsed": false,
    "execution": {
     "iopub.execute_input": "2021-07-24T05:40:32.470621Z",
     "iopub.status.busy": "2021-07-24T05:40:32.469799Z",
     "iopub.status.idle": "2021-07-24T05:40:35.676697Z",
     "shell.execute_reply": "2021-07-24T05:40:35.676123Z",
     "shell.execute_reply.started": "2021-07-23T17:07:02.443099Z"
    },
    "jupyter": {
     "outputs_hidden": false
    },
    "papermill": {
     "duration": 3.276824,
     "end_time": "2021-07-24T05:40:35.676864",
     "exception": false,
     "start_time": "2021-07-24T05:40:32.400040",
     "status": "completed"
    },
    "tags": []
   },
   "outputs": [],
   "source": [
    "def plot_confusion_matrix(cm,\n",
    "                          target_names,\n",
    "                          title='Confusion matrix',\n",
    "                          cmap=None,\n",
    "                          normalize=True):\n",
    "    \n",
    "    import matplotlib.pyplot as plt\n",
    "    import numpy as np\n",
    "    import itertools\n",
    "\n",
    "    accuracy = np.trace(cm) / float(np.sum(cm))\n",
    "    misclass = 1 - accuracy\n",
    "\n",
    "    if cmap is None:\n",
    "        cmap = plt.get_cmap('Blues')\n",
    "\n",
    "    plt.figure(figsize=(8, 6))\n",
    "    plt.imshow(cm, interpolation='nearest', cmap=cmap)\n",
    "    plt.title(title)\n",
    "    plt.colorbar()\n",
    "\n",
    "    if target_names is not None:\n",
    "        tick_marks = np.arange(len(target_names))\n",
    "        plt.xticks(tick_marks, target_names, rotation=45)\n",
    "        plt.yticks(tick_marks, target_names)\n",
    "\n",
    "    if normalize:\n",
    "        cm = cm.astype('float') / cm.sum(axis=1)[:, np.newaxis]\n",
    "\n",
    "\n",
    "    thresh = cm.max() / 1.5 if normalize else cm.max() / 2\n",
    "    for i, j in itertools.product(range(cm.shape[0]), range(cm.shape[1])):\n",
    "        if normalize:\n",
    "            plt.text(j, i, \"{:0.4f}\".format(cm[i, j]),\n",
    "                     horizontalalignment=\"center\",\n",
    "                     color=\"white\" if cm[i, j] > thresh else \"black\")\n",
    "        else:\n",
    "            plt.text(j, i, \"{:,}\".format(cm[i, j]),\n",
    "                     horizontalalignment=\"center\",\n",
    "                     color=\"white\" if cm[i, j] > thresh else \"black\")\n",
    "\n",
    "\n",
    "    plt.tight_layout()\n",
    "    plt.ylabel('True label')\n",
    "    plt.xlabel('Predicted label\\naccuracy={:0.4f}; misclass={:0.4f}'.format(accuracy, misclass))\n",
    "    plt.show()\n",
    "def encode_text_dummy(df, name):\n",
    "    dummies = pd.get_dummies(df[name])\n",
    "    for x in dummies.columns:\n",
    "        dummy_name = f\"{name}-{x}\"\n",
    "        df[dummy_name] = dummies[x]\n",
    "    df.drop(name, axis=1, inplace=True)\n",
    "    \n",
    "#Function to min-max normalize\n",
    "def normalize(df, cols):\n",
    "    \"\"\"\n",
    "    @param df pandas DataFrame\n",
    "    @param cols a list of columns to encode\n",
    "    @return a DataFrame with normalized specified features\n",
    "    \"\"\"\n",
    "    result = df.copy() # do not touch the original df\n",
    "    for feature_name in cols:\n",
    "        if feature_name not in ['Result']:\n",
    "            max_value = df[feature_name].astype(float).max()\n",
    "            min_value = df[feature_name].astype(float).min()\n",
    "            if max_value > min_value:\n",
    "                result[feature_name] = (df[feature_name].astype(float) - min_value) / (max_value - min_value)\n",
    "    return result\n",
    "\n",
    "df_alexa = pd.read_csv(\"../input/phishing-july/phish_8_july_alexa.csv\")\n",
    "df_phish = pd.read_csv(\"../input/phishing-july/phishdb_8_july.csv\")"
   ]
  },
  {
   "cell_type": "code",
   "execution_count": 3,
   "id": "2d63ce1b",
   "metadata": {
    "execution": {
     "iopub.execute_input": "2021-07-24T05:40:35.785370Z",
     "iopub.status.busy": "2021-07-24T05:40:35.780181Z",
     "iopub.status.idle": "2021-07-24T05:40:35.788163Z",
     "shell.execute_reply": "2021-07-24T05:40:35.788635Z",
     "shell.execute_reply.started": "2021-07-23T17:07:04.549491Z"
    },
    "papermill": {
     "duration": 0.064571,
     "end_time": "2021-07-24T05:40:35.788819",
     "exception": false,
     "start_time": "2021-07-24T05:40:35.724248",
     "status": "completed"
    },
    "tags": []
   },
   "outputs": [],
   "source": [
    "df_alexa['phishing'] = 0\n",
    "df_phish['phishing'] = 1"
   ]
  },
  {
   "cell_type": "code",
   "execution_count": 4,
   "id": "ac07f5c4",
   "metadata": {
    "execution": {
     "iopub.execute_input": "2021-07-24T05:40:35.889260Z",
     "iopub.status.busy": "2021-07-24T05:40:35.888552Z",
     "iopub.status.idle": "2021-07-24T05:40:35.893686Z",
     "shell.execute_reply": "2021-07-24T05:40:35.892850Z",
     "shell.execute_reply.started": "2021-07-23T17:07:04.557963Z"
    },
    "papermill": {
     "duration": 0.057467,
     "end_time": "2021-07-24T05:40:35.893895",
     "exception": false,
     "start_time": "2021-07-24T05:40:35.836428",
     "status": "completed"
    },
    "tags": []
   },
   "outputs": [
    {
     "name": "stdout",
     "output_type": "stream",
     "text": [
      "198\n",
      "160\n"
     ]
    }
   ],
   "source": [
    "print(len(df_alexa.columns))\n",
    "print(len(df_phish.columns))"
   ]
  },
  {
   "cell_type": "code",
   "execution_count": 5,
   "id": "5ba24dbb",
   "metadata": {
    "execution": {
     "iopub.execute_input": "2021-07-24T05:40:36.001452Z",
     "iopub.status.busy": "2021-07-24T05:40:36.000799Z",
     "iopub.status.idle": "2021-07-24T05:40:36.418453Z",
     "shell.execute_reply": "2021-07-24T05:40:36.419033Z",
     "shell.execute_reply.started": "2021-07-23T17:07:04.570993Z"
    },
    "papermill": {
     "duration": 0.476053,
     "end_time": "2021-07-24T05:40:36.419239",
     "exception": false,
     "start_time": "2021-07-24T05:40:35.943186",
     "status": "completed"
    },
    "tags": []
   },
   "outputs": [],
   "source": [
    "frames = [df_alexa, df_phish]\n",
    "df = pd.concat(frames)"
   ]
  },
  {
   "cell_type": "code",
   "execution_count": 6,
   "id": "44c352ca",
   "metadata": {
    "execution": {
     "iopub.execute_input": "2021-07-24T05:40:36.524057Z",
     "iopub.status.busy": "2021-07-24T05:40:36.523116Z",
     "iopub.status.idle": "2021-07-24T05:40:36.568033Z",
     "shell.execute_reply": "2021-07-24T05:40:36.568546Z",
     "shell.execute_reply.started": "2021-07-23T17:07:04.875310Z"
    },
    "papermill": {
     "duration": 0.098188,
     "end_time": "2021-07-24T05:40:36.568742",
     "exception": false,
     "start_time": "2021-07-24T05:40:36.470554",
     "status": "completed"
    },
    "tags": []
   },
   "outputs": [
    {
     "data": {
      "text/html": [
       "<div>\n",
       "<style scoped>\n",
       "    .dataframe tbody tr th:only-of-type {\n",
       "        vertical-align: middle;\n",
       "    }\n",
       "\n",
       "    .dataframe tbody tr th {\n",
       "        vertical-align: top;\n",
       "    }\n",
       "\n",
       "    .dataframe thead th {\n",
       "        text-align: right;\n",
       "    }\n",
       "</style>\n",
       "<table border=\"1\" class=\"dataframe\">\n",
       "  <thead>\n",
       "    <tr style=\"text-align: right;\">\n",
       "      <th></th>\n",
       "      <th>CDN</th>\n",
       "      <th>Server</th>\n",
       "      <th>Web Master</th>\n",
       "      <th>Web Server</th>\n",
       "      <th>_id</th>\n",
       "      <th>ads</th>\n",
       "      <th>ads_ad-analytics</th>\n",
       "      <th>ads_ad-blocking</th>\n",
       "      <th>ads_ad-exchange</th>\n",
       "      <th>ads_ad-network</th>\n",
       "      <th>...</th>\n",
       "      <th>widgets_wordpress-plugins</th>\n",
       "      <th>phishing</th>\n",
       "      <th>ads_bitcoin</th>\n",
       "      <th>hosting_french-hosting</th>\n",
       "      <th>hosting_italian-hosting</th>\n",
       "      <th>hosting_swiss-hosting</th>\n",
       "      <th>hosting_wordpress-hosting</th>\n",
       "      <th>shop_woocommerce-extension</th>\n",
       "      <th>shop_wordpress-plugins</th>\n",
       "      <th>widgets_joomla-module</th>\n",
       "    </tr>\n",
       "  </thead>\n",
       "  <tbody>\n",
       "    <tr>\n",
       "      <th>0</th>\n",
       "      <td>NaN</td>\n",
       "      <td>NaN</td>\n",
       "      <td>NaN</td>\n",
       "      <td>NaN</td>\n",
       "      <td>https://youtube.com</td>\n",
       "      <td>NaN</td>\n",
       "      <td>NaN</td>\n",
       "      <td>NaN</td>\n",
       "      <td>NaN</td>\n",
       "      <td>NaN</td>\n",
       "      <td>...</td>\n",
       "      <td>NaN</td>\n",
       "      <td>0</td>\n",
       "      <td>NaN</td>\n",
       "      <td>NaN</td>\n",
       "      <td>NaN</td>\n",
       "      <td>NaN</td>\n",
       "      <td>NaN</td>\n",
       "      <td>NaN</td>\n",
       "      <td>NaN</td>\n",
       "      <td>NaN</td>\n",
       "    </tr>\n",
       "    <tr>\n",
       "      <th>1</th>\n",
       "      <td>1</td>\n",
       "      <td>1</td>\n",
       "      <td>2.0</td>\n",
       "      <td>3.0</td>\n",
       "      <td>https://jd.com</td>\n",
       "      <td>2.0</td>\n",
       "      <td>NaN</td>\n",
       "      <td>NaN</td>\n",
       "      <td>NaN</td>\n",
       "      <td>NaN</td>\n",
       "      <td>...</td>\n",
       "      <td>NaN</td>\n",
       "      <td>0</td>\n",
       "      <td>NaN</td>\n",
       "      <td>NaN</td>\n",
       "      <td>NaN</td>\n",
       "      <td>NaN</td>\n",
       "      <td>NaN</td>\n",
       "      <td>NaN</td>\n",
       "      <td>NaN</td>\n",
       "      <td>NaN</td>\n",
       "    </tr>\n",
       "    <tr>\n",
       "      <th>2</th>\n",
       "      <td>1</td>\n",
       "      <td>2</td>\n",
       "      <td>4.0</td>\n",
       "      <td>4.0</td>\n",
       "      <td>https://amazon.com</td>\n",
       "      <td>17.0</td>\n",
       "      <td>0.0</td>\n",
       "      <td>NaN</td>\n",
       "      <td>0.0</td>\n",
       "      <td>0.0</td>\n",
       "      <td>...</td>\n",
       "      <td>0.0</td>\n",
       "      <td>0</td>\n",
       "      <td>NaN</td>\n",
       "      <td>NaN</td>\n",
       "      <td>NaN</td>\n",
       "      <td>NaN</td>\n",
       "      <td>NaN</td>\n",
       "      <td>NaN</td>\n",
       "      <td>NaN</td>\n",
       "      <td>NaN</td>\n",
       "    </tr>\n",
       "    <tr>\n",
       "      <th>3</th>\n",
       "      <td>1</td>\n",
       "      <td>1</td>\n",
       "      <td>2.0</td>\n",
       "      <td>3.0</td>\n",
       "      <td>https://zoom.us</td>\n",
       "      <td>11.0</td>\n",
       "      <td>0.0</td>\n",
       "      <td>NaN</td>\n",
       "      <td>1.0</td>\n",
       "      <td>2.0</td>\n",
       "      <td>...</td>\n",
       "      <td>3.0</td>\n",
       "      <td>0</td>\n",
       "      <td>NaN</td>\n",
       "      <td>NaN</td>\n",
       "      <td>NaN</td>\n",
       "      <td>NaN</td>\n",
       "      <td>NaN</td>\n",
       "      <td>NaN</td>\n",
       "      <td>NaN</td>\n",
       "      <td>NaN</td>\n",
       "    </tr>\n",
       "    <tr>\n",
       "      <th>4</th>\n",
       "      <td>1</td>\n",
       "      <td>1</td>\n",
       "      <td>2.0</td>\n",
       "      <td>9.0</td>\n",
       "      <td>https://sina.com.cn</td>\n",
       "      <td>27.0</td>\n",
       "      <td>NaN</td>\n",
       "      <td>NaN</td>\n",
       "      <td>NaN</td>\n",
       "      <td>NaN</td>\n",
       "      <td>...</td>\n",
       "      <td>NaN</td>\n",
       "      <td>0</td>\n",
       "      <td>NaN</td>\n",
       "      <td>NaN</td>\n",
       "      <td>NaN</td>\n",
       "      <td>NaN</td>\n",
       "      <td>NaN</td>\n",
       "      <td>NaN</td>\n",
       "      <td>NaN</td>\n",
       "      <td>NaN</td>\n",
       "    </tr>\n",
       "  </tbody>\n",
       "</table>\n",
       "<p>5 rows × 206 columns</p>\n",
       "</div>"
      ],
      "text/plain": [
       "   CDN Server  Web Master  Web Server                  _id   ads  \\\n",
       "0  NaN    NaN         NaN         NaN  https://youtube.com   NaN   \n",
       "1    1      1         2.0         3.0       https://jd.com   2.0   \n",
       "2    1      2         4.0         4.0   https://amazon.com  17.0   \n",
       "3    1      1         2.0         3.0      https://zoom.us  11.0   \n",
       "4    1      1         2.0         9.0  https://sina.com.cn  27.0   \n",
       "\n",
       "   ads_ad-analytics  ads_ad-blocking  ads_ad-exchange  ads_ad-network  ...  \\\n",
       "0               NaN              NaN              NaN             NaN  ...   \n",
       "1               NaN              NaN              NaN             NaN  ...   \n",
       "2               0.0              NaN              0.0             0.0  ...   \n",
       "3               0.0              NaN              1.0             2.0  ...   \n",
       "4               NaN              NaN              NaN             NaN  ...   \n",
       "\n",
       "   widgets_wordpress-plugins  phishing  ads_bitcoin  hosting_french-hosting  \\\n",
       "0                        NaN         0          NaN                     NaN   \n",
       "1                        NaN         0          NaN                     NaN   \n",
       "2                        0.0         0          NaN                     NaN   \n",
       "3                        3.0         0          NaN                     NaN   \n",
       "4                        NaN         0          NaN                     NaN   \n",
       "\n",
       "   hosting_italian-hosting  hosting_swiss-hosting  hosting_wordpress-hosting  \\\n",
       "0                      NaN                    NaN                        NaN   \n",
       "1                      NaN                    NaN                        NaN   \n",
       "2                      NaN                    NaN                        NaN   \n",
       "3                      NaN                    NaN                        NaN   \n",
       "4                      NaN                    NaN                        NaN   \n",
       "\n",
       "   shop_woocommerce-extension  shop_wordpress-plugins  widgets_joomla-module  \n",
       "0                         NaN                     NaN                    NaN  \n",
       "1                         NaN                     NaN                    NaN  \n",
       "2                         NaN                     NaN                    NaN  \n",
       "3                         NaN                     NaN                    NaN  \n",
       "4                         NaN                     NaN                    NaN  \n",
       "\n",
       "[5 rows x 206 columns]"
      ]
     },
     "execution_count": 6,
     "metadata": {},
     "output_type": "execute_result"
    }
   ],
   "source": [
    "df.head()"
   ]
  },
  {
   "cell_type": "code",
   "execution_count": 7,
   "id": "8ad307c2",
   "metadata": {
    "_cell_guid": "924751de-7406-4ca1-ab31-194f210c29ca",
    "_uuid": "b6b10bad-bd98-412f-9dd6-b752008cfc1b",
    "collapsed": false,
    "execution": {
     "iopub.execute_input": "2021-07-24T05:40:36.677302Z",
     "iopub.status.busy": "2021-07-24T05:40:36.670181Z",
     "iopub.status.idle": "2021-07-24T05:40:37.998777Z",
     "shell.execute_reply": "2021-07-24T05:40:37.999330Z",
     "shell.execute_reply.started": "2021-07-23T17:07:04.912821Z"
    },
    "jupyter": {
     "outputs_hidden": false
    },
    "papermill": {
     "duration": 1.381824,
     "end_time": "2021-07-24T05:40:37.999637",
     "exception": false,
     "start_time": "2021-07-24T05:40:36.617813",
     "status": "completed"
    },
    "tags": []
   },
   "outputs": [],
   "source": [
    "df = df.drop('_id', axis=1)\n",
    "df = df.drop('description', axis=1)\n",
    "df = df.drop('title', axis=1)\n",
    "df = df.drop('http', axis=1)\n",
    "df = df.drop('https', axis=1)\n",
    "df = df.drop('url', axis=1)\n",
    "df = df.drop('CDN', axis=1)\n",
    "df = df.drop('Server', axis=1)\n",
    "df = df.drop('alexa', axis=1)\n",
    "df = df.drop('status', axis=1)"
   ]
  },
  {
   "cell_type": "code",
   "execution_count": 8,
   "id": "bc300d17",
   "metadata": {
    "_cell_guid": "f88c8b53-cdc3-4fb2-8e20-57212366a139",
    "_uuid": "dc03fc05-6103-4b20-bb7e-2e2c1a7316fd",
    "collapsed": false,
    "execution": {
     "iopub.execute_input": "2021-07-24T05:40:38.104069Z",
     "iopub.status.busy": "2021-07-24T05:40:38.103057Z",
     "iopub.status.idle": "2021-07-24T05:40:38.133747Z",
     "shell.execute_reply": "2021-07-24T05:40:38.134207Z",
     "shell.execute_reply.started": "2021-07-23T17:07:06.046207Z"
    },
    "jupyter": {
     "outputs_hidden": false
    },
    "papermill": {
     "duration": 0.084054,
     "end_time": "2021-07-24T05:40:38.134405",
     "exception": false,
     "start_time": "2021-07-24T05:40:38.050351",
     "status": "completed"
    },
    "tags": []
   },
   "outputs": [
    {
     "data": {
      "text/html": [
       "<div>\n",
       "<style scoped>\n",
       "    .dataframe tbody tr th:only-of-type {\n",
       "        vertical-align: middle;\n",
       "    }\n",
       "\n",
       "    .dataframe tbody tr th {\n",
       "        vertical-align: top;\n",
       "    }\n",
       "\n",
       "    .dataframe thead th {\n",
       "        text-align: right;\n",
       "    }\n",
       "</style>\n",
       "<table border=\"1\" class=\"dataframe\">\n",
       "  <thead>\n",
       "    <tr style=\"text-align: right;\">\n",
       "      <th></th>\n",
       "      <th>Web Master</th>\n",
       "      <th>Web Server</th>\n",
       "      <th>ads</th>\n",
       "      <th>ads_ad-analytics</th>\n",
       "      <th>ads_ad-blocking</th>\n",
       "      <th>ads_ad-exchange</th>\n",
       "      <th>ads_ad-network</th>\n",
       "      <th>ads_ad-server</th>\n",
       "      <th>ads_ads-txt</th>\n",
       "      <th>ads_adult</th>\n",
       "      <th>...</th>\n",
       "      <th>widgets_wordpress-plugins</th>\n",
       "      <th>phishing</th>\n",
       "      <th>ads_bitcoin</th>\n",
       "      <th>hosting_french-hosting</th>\n",
       "      <th>hosting_italian-hosting</th>\n",
       "      <th>hosting_swiss-hosting</th>\n",
       "      <th>hosting_wordpress-hosting</th>\n",
       "      <th>shop_woocommerce-extension</th>\n",
       "      <th>shop_wordpress-plugins</th>\n",
       "      <th>widgets_joomla-module</th>\n",
       "    </tr>\n",
       "  </thead>\n",
       "  <tbody>\n",
       "    <tr>\n",
       "      <th>0</th>\n",
       "      <td>NaN</td>\n",
       "      <td>NaN</td>\n",
       "      <td>NaN</td>\n",
       "      <td>NaN</td>\n",
       "      <td>NaN</td>\n",
       "      <td>NaN</td>\n",
       "      <td>NaN</td>\n",
       "      <td>NaN</td>\n",
       "      <td>NaN</td>\n",
       "      <td>NaN</td>\n",
       "      <td>...</td>\n",
       "      <td>NaN</td>\n",
       "      <td>0</td>\n",
       "      <td>NaN</td>\n",
       "      <td>NaN</td>\n",
       "      <td>NaN</td>\n",
       "      <td>NaN</td>\n",
       "      <td>NaN</td>\n",
       "      <td>NaN</td>\n",
       "      <td>NaN</td>\n",
       "      <td>NaN</td>\n",
       "    </tr>\n",
       "    <tr>\n",
       "      <th>1</th>\n",
       "      <td>2.0</td>\n",
       "      <td>3.0</td>\n",
       "      <td>2.0</td>\n",
       "      <td>NaN</td>\n",
       "      <td>NaN</td>\n",
       "      <td>NaN</td>\n",
       "      <td>NaN</td>\n",
       "      <td>NaN</td>\n",
       "      <td>NaN</td>\n",
       "      <td>NaN</td>\n",
       "      <td>...</td>\n",
       "      <td>NaN</td>\n",
       "      <td>0</td>\n",
       "      <td>NaN</td>\n",
       "      <td>NaN</td>\n",
       "      <td>NaN</td>\n",
       "      <td>NaN</td>\n",
       "      <td>NaN</td>\n",
       "      <td>NaN</td>\n",
       "      <td>NaN</td>\n",
       "      <td>NaN</td>\n",
       "    </tr>\n",
       "    <tr>\n",
       "      <th>2</th>\n",
       "      <td>4.0</td>\n",
       "      <td>4.0</td>\n",
       "      <td>17.0</td>\n",
       "      <td>0.0</td>\n",
       "      <td>NaN</td>\n",
       "      <td>0.0</td>\n",
       "      <td>0.0</td>\n",
       "      <td>1.0</td>\n",
       "      <td>1.0</td>\n",
       "      <td>NaN</td>\n",
       "      <td>...</td>\n",
       "      <td>0.0</td>\n",
       "      <td>0</td>\n",
       "      <td>NaN</td>\n",
       "      <td>NaN</td>\n",
       "      <td>NaN</td>\n",
       "      <td>NaN</td>\n",
       "      <td>NaN</td>\n",
       "      <td>NaN</td>\n",
       "      <td>NaN</td>\n",
       "      <td>NaN</td>\n",
       "    </tr>\n",
       "    <tr>\n",
       "      <th>3</th>\n",
       "      <td>2.0</td>\n",
       "      <td>3.0</td>\n",
       "      <td>11.0</td>\n",
       "      <td>0.0</td>\n",
       "      <td>NaN</td>\n",
       "      <td>1.0</td>\n",
       "      <td>2.0</td>\n",
       "      <td>1.0</td>\n",
       "      <td>NaN</td>\n",
       "      <td>NaN</td>\n",
       "      <td>...</td>\n",
       "      <td>3.0</td>\n",
       "      <td>0</td>\n",
       "      <td>NaN</td>\n",
       "      <td>NaN</td>\n",
       "      <td>NaN</td>\n",
       "      <td>NaN</td>\n",
       "      <td>NaN</td>\n",
       "      <td>NaN</td>\n",
       "      <td>NaN</td>\n",
       "      <td>NaN</td>\n",
       "    </tr>\n",
       "    <tr>\n",
       "      <th>4</th>\n",
       "      <td>2.0</td>\n",
       "      <td>9.0</td>\n",
       "      <td>27.0</td>\n",
       "      <td>NaN</td>\n",
       "      <td>NaN</td>\n",
       "      <td>NaN</td>\n",
       "      <td>NaN</td>\n",
       "      <td>NaN</td>\n",
       "      <td>19.0</td>\n",
       "      <td>NaN</td>\n",
       "      <td>...</td>\n",
       "      <td>NaN</td>\n",
       "      <td>0</td>\n",
       "      <td>NaN</td>\n",
       "      <td>NaN</td>\n",
       "      <td>NaN</td>\n",
       "      <td>NaN</td>\n",
       "      <td>NaN</td>\n",
       "      <td>NaN</td>\n",
       "      <td>NaN</td>\n",
       "      <td>NaN</td>\n",
       "    </tr>\n",
       "  </tbody>\n",
       "</table>\n",
       "<p>5 rows × 196 columns</p>\n",
       "</div>"
      ],
      "text/plain": [
       "   Web Master  Web Server   ads  ads_ad-analytics  ads_ad-blocking  \\\n",
       "0         NaN         NaN   NaN               NaN              NaN   \n",
       "1         2.0         3.0   2.0               NaN              NaN   \n",
       "2         4.0         4.0  17.0               0.0              NaN   \n",
       "3         2.0         3.0  11.0               0.0              NaN   \n",
       "4         2.0         9.0  27.0               NaN              NaN   \n",
       "\n",
       "   ads_ad-exchange  ads_ad-network  ads_ad-server  ads_ads-txt  ads_adult  \\\n",
       "0              NaN             NaN            NaN          NaN        NaN   \n",
       "1              NaN             NaN            NaN          NaN        NaN   \n",
       "2              0.0             0.0            1.0          1.0        NaN   \n",
       "3              1.0             2.0            1.0          NaN        NaN   \n",
       "4              NaN             NaN            NaN         19.0        NaN   \n",
       "\n",
       "   ...  widgets_wordpress-plugins  phishing  ads_bitcoin  \\\n",
       "0  ...                        NaN         0          NaN   \n",
       "1  ...                        NaN         0          NaN   \n",
       "2  ...                        0.0         0          NaN   \n",
       "3  ...                        3.0         0          NaN   \n",
       "4  ...                        NaN         0          NaN   \n",
       "\n",
       "   hosting_french-hosting  hosting_italian-hosting  hosting_swiss-hosting  \\\n",
       "0                     NaN                      NaN                    NaN   \n",
       "1                     NaN                      NaN                    NaN   \n",
       "2                     NaN                      NaN                    NaN   \n",
       "3                     NaN                      NaN                    NaN   \n",
       "4                     NaN                      NaN                    NaN   \n",
       "\n",
       "   hosting_wordpress-hosting  shop_woocommerce-extension  \\\n",
       "0                        NaN                         NaN   \n",
       "1                        NaN                         NaN   \n",
       "2                        NaN                         NaN   \n",
       "3                        NaN                         NaN   \n",
       "4                        NaN                         NaN   \n",
       "\n",
       "   shop_wordpress-plugins  widgets_joomla-module  \n",
       "0                     NaN                    NaN  \n",
       "1                     NaN                    NaN  \n",
       "2                     NaN                    NaN  \n",
       "3                     NaN                    NaN  \n",
       "4                     NaN                    NaN  \n",
       "\n",
       "[5 rows x 196 columns]"
      ]
     },
     "execution_count": 8,
     "metadata": {},
     "output_type": "execute_result"
    }
   ],
   "source": [
    "df.head()"
   ]
  },
  {
   "cell_type": "code",
   "execution_count": 9,
   "id": "7ded8c9c",
   "metadata": {
    "_cell_guid": "80a6b807-c5df-4f7c-ae20-3f52c27c04c5",
    "_uuid": "ea8ff600-3530-4f04-814d-1e8dfc3b535d",
    "collapsed": false,
    "execution": {
     "iopub.execute_input": "2021-07-24T05:40:38.238316Z",
     "iopub.status.busy": "2021-07-24T05:40:38.237294Z",
     "iopub.status.idle": "2021-07-24T05:40:38.761974Z",
     "shell.execute_reply": "2021-07-24T05:40:38.762457Z",
     "shell.execute_reply.started": "2021-07-23T17:07:06.080302Z"
    },
    "jupyter": {
     "outputs_hidden": false
    },
    "papermill": {
     "duration": 0.578504,
     "end_time": "2021-07-24T05:40:38.762689",
     "exception": false,
     "start_time": "2021-07-24T05:40:38.184185",
     "status": "completed"
    },
    "tags": []
   },
   "outputs": [],
   "source": [
    "df = df.fillna(0)"
   ]
  },
  {
   "cell_type": "code",
   "execution_count": 10,
   "id": "049ad4db",
   "metadata": {
    "_cell_guid": "e7ea0a32-9811-4174-92bd-c5472406dc79",
    "_uuid": "879d4a90-e4d0-43bc-888b-1e88098545e6",
    "collapsed": false,
    "execution": {
     "iopub.execute_input": "2021-07-24T05:40:38.867701Z",
     "iopub.status.busy": "2021-07-24T05:40:38.866773Z",
     "iopub.status.idle": "2021-07-24T05:40:38.901813Z",
     "shell.execute_reply": "2021-07-24T05:40:38.902308Z",
     "shell.execute_reply.started": "2021-07-23T17:07:06.521338Z"
    },
    "jupyter": {
     "outputs_hidden": false
    },
    "papermill": {
     "duration": 0.089017,
     "end_time": "2021-07-24T05:40:38.902525",
     "exception": false,
     "start_time": "2021-07-24T05:40:38.813508",
     "status": "completed"
    },
    "tags": []
   },
   "outputs": [
    {
     "data": {
      "text/html": [
       "<div>\n",
       "<style scoped>\n",
       "    .dataframe tbody tr th:only-of-type {\n",
       "        vertical-align: middle;\n",
       "    }\n",
       "\n",
       "    .dataframe tbody tr th {\n",
       "        vertical-align: top;\n",
       "    }\n",
       "\n",
       "    .dataframe thead th {\n",
       "        text-align: right;\n",
       "    }\n",
       "</style>\n",
       "<table border=\"1\" class=\"dataframe\">\n",
       "  <thead>\n",
       "    <tr style=\"text-align: right;\">\n",
       "      <th></th>\n",
       "      <th>Web Master</th>\n",
       "      <th>Web Server</th>\n",
       "      <th>ads</th>\n",
       "      <th>ads_ad-analytics</th>\n",
       "      <th>ads_ad-blocking</th>\n",
       "      <th>ads_ad-exchange</th>\n",
       "      <th>ads_ad-network</th>\n",
       "      <th>ads_ad-server</th>\n",
       "      <th>ads_ads-txt</th>\n",
       "      <th>ads_adult</th>\n",
       "      <th>...</th>\n",
       "      <th>widgets_wordpress-plugins</th>\n",
       "      <th>phishing</th>\n",
       "      <th>ads_bitcoin</th>\n",
       "      <th>hosting_french-hosting</th>\n",
       "      <th>hosting_italian-hosting</th>\n",
       "      <th>hosting_swiss-hosting</th>\n",
       "      <th>hosting_wordpress-hosting</th>\n",
       "      <th>shop_woocommerce-extension</th>\n",
       "      <th>shop_wordpress-plugins</th>\n",
       "      <th>widgets_joomla-module</th>\n",
       "    </tr>\n",
       "  </thead>\n",
       "  <tbody>\n",
       "    <tr>\n",
       "      <th>0</th>\n",
       "      <td>0.0</td>\n",
       "      <td>0.0</td>\n",
       "      <td>0.0</td>\n",
       "      <td>0.0</td>\n",
       "      <td>0.0</td>\n",
       "      <td>0.0</td>\n",
       "      <td>0.0</td>\n",
       "      <td>0.0</td>\n",
       "      <td>0.0</td>\n",
       "      <td>0.0</td>\n",
       "      <td>...</td>\n",
       "      <td>0.0</td>\n",
       "      <td>0</td>\n",
       "      <td>0.0</td>\n",
       "      <td>0.0</td>\n",
       "      <td>0.0</td>\n",
       "      <td>0.0</td>\n",
       "      <td>0.0</td>\n",
       "      <td>0.0</td>\n",
       "      <td>0.0</td>\n",
       "      <td>0.0</td>\n",
       "    </tr>\n",
       "    <tr>\n",
       "      <th>1</th>\n",
       "      <td>2.0</td>\n",
       "      <td>3.0</td>\n",
       "      <td>2.0</td>\n",
       "      <td>0.0</td>\n",
       "      <td>0.0</td>\n",
       "      <td>0.0</td>\n",
       "      <td>0.0</td>\n",
       "      <td>0.0</td>\n",
       "      <td>0.0</td>\n",
       "      <td>0.0</td>\n",
       "      <td>...</td>\n",
       "      <td>0.0</td>\n",
       "      <td>0</td>\n",
       "      <td>0.0</td>\n",
       "      <td>0.0</td>\n",
       "      <td>0.0</td>\n",
       "      <td>0.0</td>\n",
       "      <td>0.0</td>\n",
       "      <td>0.0</td>\n",
       "      <td>0.0</td>\n",
       "      <td>0.0</td>\n",
       "    </tr>\n",
       "    <tr>\n",
       "      <th>2</th>\n",
       "      <td>4.0</td>\n",
       "      <td>4.0</td>\n",
       "      <td>17.0</td>\n",
       "      <td>0.0</td>\n",
       "      <td>0.0</td>\n",
       "      <td>0.0</td>\n",
       "      <td>0.0</td>\n",
       "      <td>1.0</td>\n",
       "      <td>1.0</td>\n",
       "      <td>0.0</td>\n",
       "      <td>...</td>\n",
       "      <td>0.0</td>\n",
       "      <td>0</td>\n",
       "      <td>0.0</td>\n",
       "      <td>0.0</td>\n",
       "      <td>0.0</td>\n",
       "      <td>0.0</td>\n",
       "      <td>0.0</td>\n",
       "      <td>0.0</td>\n",
       "      <td>0.0</td>\n",
       "      <td>0.0</td>\n",
       "    </tr>\n",
       "    <tr>\n",
       "      <th>3</th>\n",
       "      <td>2.0</td>\n",
       "      <td>3.0</td>\n",
       "      <td>11.0</td>\n",
       "      <td>0.0</td>\n",
       "      <td>0.0</td>\n",
       "      <td>1.0</td>\n",
       "      <td>2.0</td>\n",
       "      <td>1.0</td>\n",
       "      <td>0.0</td>\n",
       "      <td>0.0</td>\n",
       "      <td>...</td>\n",
       "      <td>3.0</td>\n",
       "      <td>0</td>\n",
       "      <td>0.0</td>\n",
       "      <td>0.0</td>\n",
       "      <td>0.0</td>\n",
       "      <td>0.0</td>\n",
       "      <td>0.0</td>\n",
       "      <td>0.0</td>\n",
       "      <td>0.0</td>\n",
       "      <td>0.0</td>\n",
       "    </tr>\n",
       "    <tr>\n",
       "      <th>4</th>\n",
       "      <td>2.0</td>\n",
       "      <td>9.0</td>\n",
       "      <td>27.0</td>\n",
       "      <td>0.0</td>\n",
       "      <td>0.0</td>\n",
       "      <td>0.0</td>\n",
       "      <td>0.0</td>\n",
       "      <td>0.0</td>\n",
       "      <td>19.0</td>\n",
       "      <td>0.0</td>\n",
       "      <td>...</td>\n",
       "      <td>0.0</td>\n",
       "      <td>0</td>\n",
       "      <td>0.0</td>\n",
       "      <td>0.0</td>\n",
       "      <td>0.0</td>\n",
       "      <td>0.0</td>\n",
       "      <td>0.0</td>\n",
       "      <td>0.0</td>\n",
       "      <td>0.0</td>\n",
       "      <td>0.0</td>\n",
       "    </tr>\n",
       "  </tbody>\n",
       "</table>\n",
       "<p>5 rows × 196 columns</p>\n",
       "</div>"
      ],
      "text/plain": [
       "   Web Master  Web Server   ads  ads_ad-analytics  ads_ad-blocking  \\\n",
       "0         0.0         0.0   0.0               0.0              0.0   \n",
       "1         2.0         3.0   2.0               0.0              0.0   \n",
       "2         4.0         4.0  17.0               0.0              0.0   \n",
       "3         2.0         3.0  11.0               0.0              0.0   \n",
       "4         2.0         9.0  27.0               0.0              0.0   \n",
       "\n",
       "   ads_ad-exchange  ads_ad-network  ads_ad-server  ads_ads-txt  ads_adult  \\\n",
       "0              0.0             0.0            0.0          0.0        0.0   \n",
       "1              0.0             0.0            0.0          0.0        0.0   \n",
       "2              0.0             0.0            1.0          1.0        0.0   \n",
       "3              1.0             2.0            1.0          0.0        0.0   \n",
       "4              0.0             0.0            0.0         19.0        0.0   \n",
       "\n",
       "   ...  widgets_wordpress-plugins  phishing  ads_bitcoin  \\\n",
       "0  ...                        0.0         0          0.0   \n",
       "1  ...                        0.0         0          0.0   \n",
       "2  ...                        0.0         0          0.0   \n",
       "3  ...                        3.0         0          0.0   \n",
       "4  ...                        0.0         0          0.0   \n",
       "\n",
       "   hosting_french-hosting  hosting_italian-hosting  hosting_swiss-hosting  \\\n",
       "0                     0.0                      0.0                    0.0   \n",
       "1                     0.0                      0.0                    0.0   \n",
       "2                     0.0                      0.0                    0.0   \n",
       "3                     0.0                      0.0                    0.0   \n",
       "4                     0.0                      0.0                    0.0   \n",
       "\n",
       "   hosting_wordpress-hosting  shop_woocommerce-extension  \\\n",
       "0                        0.0                         0.0   \n",
       "1                        0.0                         0.0   \n",
       "2                        0.0                         0.0   \n",
       "3                        0.0                         0.0   \n",
       "4                        0.0                         0.0   \n",
       "\n",
       "   shop_wordpress-plugins  widgets_joomla-module  \n",
       "0                     0.0                    0.0  \n",
       "1                     0.0                    0.0  \n",
       "2                     0.0                    0.0  \n",
       "3                     0.0                    0.0  \n",
       "4                     0.0                    0.0  \n",
       "\n",
       "[5 rows x 196 columns]"
      ]
     },
     "execution_count": 10,
     "metadata": {},
     "output_type": "execute_result"
    }
   ],
   "source": [
    "df.head()"
   ]
  },
  {
   "cell_type": "code",
   "execution_count": 11,
   "id": "488d8eb2",
   "metadata": {
    "execution": {
     "iopub.execute_input": "2021-07-24T05:40:39.012893Z",
     "iopub.status.busy": "2021-07-24T05:40:39.011902Z",
     "iopub.status.idle": "2021-07-24T05:40:39.015804Z",
     "shell.execute_reply": "2021-07-24T05:40:39.016295Z",
     "shell.execute_reply.started": "2021-07-23T17:07:06.565895Z"
    },
    "papermill": {
     "duration": 0.063385,
     "end_time": "2021-07-24T05:40:39.016513",
     "exception": false,
     "start_time": "2021-07-24T05:40:38.953128",
     "status": "completed"
    },
    "tags": []
   },
   "outputs": [
    {
     "data": {
      "text/plain": [
       "0         True\n",
       "1        False\n",
       "2        False\n",
       "3        False\n",
       "4        False\n",
       "         ...  \n",
       "73633    False\n",
       "73634        0\n",
       "73635    False\n",
       "73636    False\n",
       "73637    False\n",
       "Name: copyright_presence, Length: 142518, dtype: object"
      ]
     },
     "execution_count": 11,
     "metadata": {},
     "output_type": "execute_result"
    }
   ],
   "source": [
    "df['copyright_presence']"
   ]
  },
  {
   "cell_type": "code",
   "execution_count": 12,
   "id": "8894bd56",
   "metadata": {
    "execution": {
     "iopub.execute_input": "2021-07-24T05:40:39.123405Z",
     "iopub.status.busy": "2021-07-24T05:40:39.122315Z",
     "iopub.status.idle": "2021-07-24T05:41:07.752890Z",
     "shell.execute_reply": "2021-07-24T05:41:07.753438Z",
     "shell.execute_reply.started": "2021-07-23T17:07:06.578378Z"
    },
    "papermill": {
     "duration": 28.68536,
     "end_time": "2021-07-24T05:41:07.753644",
     "exception": false,
     "start_time": "2021-07-24T05:40:39.068284",
     "status": "completed"
    },
    "tags": []
   },
   "outputs": [],
   "source": [
    "df['privacy_policy'] = df['privacy_policy'].replace(to_replace =\"NA\", value =False)\n",
    "\n",
    "\n",
    "df = df.replace(to_replace =1.0, value =1)\n",
    "df = df.replace(to_replace =2.0, value =2)\n",
    "df = df.replace(to_replace =3.0, value =3)\n",
    "df = df.replace(to_replace =4.0, value =4)\n",
    "df = df.replace(to_replace =5.0, value =5)\n",
    "df = df.replace(to_replace =6.0, value =6)\n",
    "df = df.replace(to_replace =7.0, value =7)\n",
    "df = df.replace(to_replace =8.0, value =8)\n",
    "df = df.replace(to_replace =9.0, value =9)\n",
    "df = df.replace(to_replace =10.0, value =10)\n",
    "df = df.replace(to_replace =11.0, value =11)\n",
    "df = df.replace(to_replace =12.0, value =12)\n",
    "df = df.replace(to_replace =13.0, value =13)\n",
    "df = df.replace(to_replace =14.0, value =14)\n",
    "df = df.replace(to_replace =15.0, value =15)\n",
    "df = df.replace(to_replace =16.0, value =16)\n",
    "df = df.replace(to_replace =17.0, value =17)\n",
    "df = df.replace(to_replace =18.0, value =18)\n",
    "df = df.replace(to_replace =19.0, value =19)\n",
    "df = df.replace(to_replace =20.0, value =20)\n",
    "df = df.replace(to_replace =21.0, value =21)\n",
    "df = df.replace(to_replace =22.0, value =22)\n",
    "df = df.replace(to_replace =23.0, value =23)\n",
    "df = df.replace(to_replace =24.0, value =24)\n",
    "df = df.replace(to_replace =25.0, value =25)\n",
    "df = df.replace(to_replace =26.0, value =26)\n",
    "df = df.replace(to_replace =27.0, value =27)\n",
    "df = df.replace(to_replace =28.0, value =28)\n",
    "df = df.replace(to_replace =29.0, value =29)\n",
    "df = df.replace(to_replace =30.0, value =30)\n",
    "df = df.replace(to_replace =31.0, value =31)\n",
    "df = df.replace(to_replace =32.0, value =32)\n",
    "df = df.replace(to_replace =33.0, value =33)\n",
    "df = df.replace(to_replace =34.0, value =34)\n",
    "df = df.replace(to_replace =35.0, value =35)\n",
    "df = df.replace(to_replace =36.0, value =36)\n",
    "df = df.replace(to_replace =37.0, value =37)\n",
    "df = df.replace(to_replace =38.0, value =38)\n",
    "\n",
    "\n",
    "df = df.replace(to_replace =\"social-management-1.0\", value =\"social-management-1\")\n",
    "df = df.replace(to_replace =\"social-management-2.0\", value =\"social-management-2\")\n",
    "df = df.replace(to_replace =\"social-management-1.0\", value =\"social-management-1\")\n",
    "\n",
    "\n",
    "df = df.replace(to_replace =\"multi-channel-1.0\", value =\"multi-channel-1\")\n",
    "df = df.replace(to_replace =\"multi-channel-2.0\", value =\"multi-channel-2\")\n",
    "df = df.replace(to_replace =\"multi-channel-3.0\", value =\"multi-channel-3\")\n",
    "\n",
    "\n",
    "df = df.replace(to_replace =\"retargeting-/-remarketing-1.0\", value =\"retargeting-/-remarketing-1\")\n",
    "df = df.replace(to_replace =\"retargeting-/-remarketing-2.0\", value =\"retargeting-/-remarketing-2\")\n",
    "df = df.replace(to_replace =\"retargeting-/-remarketing-3.0\", value =\"retargeting-/-remarketing-3\")\n",
    "df = df.replace(to_replace =\"retargeting-/-remarketing-4.0\", value =\"retargeting-/-remarketing-4\")\n",
    "df = df.replace(to_replace =\"retargeting-/-remarketing-5.0\", value =\"retargeting-/-remarketing-5\")\n",
    "\n",
    "df = df.replace(to_replace =\"social-management-1.0\", value =\"social-management-1\")\n",
    "df = df.replace(to_replace =\"social-management-2.0\", value =\"social-management-2\")\n",
    "\n",
    "# hosting_australian-hosting- دانشگاه علوم پزشکی ایران\n",
    "# hosting_australian-hosting-Thai JobJob News\n",
    "#                 hosting_australian-hosting-سرمه دان(داروخانه اینترنتی دکتر طهماسبی)\n",
    "# hosting_australian-hosting-人生を変える方法 Soul Design 心羽\n",
    "#          hosting_canadian-hosting-https://core-zero.com\n",
    "#                 hosting_canadian-hosting-https://iums.ac.ir\n",
    "#                 hosting_canadian-hosting-https://sormedan.com\n",
    "#                 hosting_canadian-hosting-https://thaijobjob.com\n",
    "\n",
    "df['ads_retargeting-/-remarketing'] = df['ads_retargeting-/-remarketing'].replace(to_replace =\"true\", value =1)   \n",
    "df['cms_social-management'] = df['cms_social-management'].replace(to_replace =\"false\", value =0)   \n",
    "df['ads_multi-channel'] = df['ads_multi-channel'].replace(to_replace =\"false\", value =0)  \n",
    "df['hosting'] = df['hosting'].replace(to_replace =\"true\", value =1)\n",
    "                \n",
    "df['hosting_australian-hosting'] = df['hosting_australian-hosting'].replace(to_replace =\" دانشگاه علوم پزشکی ایران\", value =0) \n",
    "df['hosting_australian-hosting'] = df['hosting_australian-hosting'].replace(to_replace =\"Thai JobJob News\", value =0) \n",
    "df['hosting_australian-hosting'] = df['hosting_australian-hosting'].replace(to_replace =\"سرمه دان(داروخانه اینترنتی دکتر طهماسبی)\", value =0) \n",
    "df['hosting_australian-hosting'] = df['hosting_australian-hosting'].replace(to_replace =\"人生を変える方法 Soul Design 心羽\", value =0) \n",
    "                \n",
    "                \n",
    "df['hosting_canadian-hosting'] = df['hosting_canadian-hosting'].replace(to_replace =\"https://core-zero.com\", value =0) \n",
    "df['hosting_canadian-hosting'] = df['hosting_canadian-hosting'].replace(to_replace =\"https://iums.ac.ir\", value =0)\n",
    "df['hosting_canadian-hosting'] = df['hosting_canadian-hosting'].replace(to_replace =\"https://sormedan.com\", value =0) \n",
    "df['hosting_canadian-hosting'] = df['hosting_canadian-hosting'].replace(to_replace =\"https://thaijobjob.com\", value =0) \n",
    "\n",
    "df['hosting'] = df['hosting'].replace(to_replace =\"australian-hosting-1\", value =\"australian-hosting-1.0\")\n",
    "df['hosting'] = df['hosting'].replace(to_replace =\"australian-hosting-2\", value =\"australian-hosting-2.0\")\n",
    "df['hosting'] = df['hosting'].replace(to_replace =\"australian-hosting-3\", value =\"australian-hosting-3.0\")\n",
    "df['hosting'] = df['hosting'].replace(to_replace =\"australian-hosting-4\", value =\"australian-hosting-4.0\")\n",
    "df['hosting'] = df['hosting'].replace(to_replace =\"australian-hosting-5\", value =\"australian-hosting-5.0\")\n",
    "\n",
    "df['hosting'] = df['hosting'].replace(to_replace =\"canadian-hosting-1\", value =\"canadian-hosting-1.0\")\n",
    "df['hosting'] = df['hosting'].replace(to_replace =\"canadian-hosting-2\", value =\"canadian-hosting-2.0\")\n",
    "df['hosting'] = df['hosting'].replace(to_replace =\"canadian-hosting-3\", value =\"canadian-hosting-3.0\")"
   ]
  },
  {
   "cell_type": "code",
   "execution_count": 13,
   "id": "a2860d9a",
   "metadata": {
    "execution": {
     "iopub.execute_input": "2021-07-24T05:41:07.870958Z",
     "iopub.status.busy": "2021-07-24T05:41:07.870216Z",
     "iopub.status.idle": "2021-07-24T05:41:07.884697Z",
     "shell.execute_reply": "2021-07-24T05:41:07.884112Z",
     "shell.execute_reply.started": "2021-07-23T17:07:29.173569Z"
    },
    "papermill": {
     "duration": 0.080679,
     "end_time": "2021-07-24T05:41:07.884844",
     "exception": false,
     "start_time": "2021-07-24T05:41:07.804165",
     "status": "completed"
    },
    "tags": []
   },
   "outputs": [],
   "source": [
    "#copyright_presence\n",
    "#current_year_match_copyright\n",
    "#http\n",
    "#https\n",
    "#privacy_policy\n",
    "\n",
    "df['copyright_presence'] = df[\"copyright_presence\"].astype(int)"
   ]
  },
  {
   "cell_type": "code",
   "execution_count": 14,
   "id": "be6d799c",
   "metadata": {
    "execution": {
     "iopub.execute_input": "2021-07-24T05:41:07.992828Z",
     "iopub.status.busy": "2021-07-24T05:41:07.991895Z",
     "iopub.status.idle": "2021-07-24T05:41:08.015069Z",
     "shell.execute_reply": "2021-07-24T05:41:08.015545Z",
     "shell.execute_reply.started": "2021-07-23T17:07:29.210177Z"
    },
    "papermill": {
     "duration": 0.079174,
     "end_time": "2021-07-24T05:41:08.015727",
     "exception": false,
     "start_time": "2021-07-24T05:41:07.936553",
     "status": "completed"
    },
    "tags": []
   },
   "outputs": [],
   "source": [
    "df['current_year_match_copyright'] = df[\"current_year_match_copyright\"].astype(int)"
   ]
  },
  {
   "cell_type": "code",
   "execution_count": 15,
   "id": "cd23bc2a",
   "metadata": {
    "execution": {
     "iopub.execute_input": "2021-07-24T05:41:08.134833Z",
     "iopub.status.busy": "2021-07-24T05:41:08.134170Z",
     "iopub.status.idle": "2021-07-24T05:41:08.237226Z",
     "shell.execute_reply": "2021-07-24T05:41:08.237789Z",
     "shell.execute_reply.started": "2021-07-23T17:07:29.242259Z"
    },
    "papermill": {
     "duration": 0.171103,
     "end_time": "2021-07-24T05:41:08.237997",
     "exception": false,
     "start_time": "2021-07-24T05:41:08.066894",
     "status": "completed"
    },
    "tags": []
   },
   "outputs": [],
   "source": [
    "df['privacy_policy'] = df[\"privacy_policy\"].astype(int)\n",
    "df['hosting_australian-hosting'] = df[\"hosting_australian-hosting\"].astype(int)\n",
    "df['hosting_canadian-hosting'] = df[\"hosting_canadian-hosting\"].astype(int)\n",
    "df['ads_retargeting-/-remarketing'] = df[\"ads_retargeting-/-remarketing\"].astype(int)\n",
    "df['cms_social-management'] = df[\"cms_social-management\"].astype(int)\n",
    "df['ads_multi-channel'] = df[\"ads_multi-channel\"].astype(int)\n",
    "df['hosting'] = df[\"hosting\"].astype(int)\n",
    "# df['ads'] = df[\"ads\"].astype(int)\n",
    "# df['ads_retargeting-/-remarketing'] = df[\"ads_retargeting-/-remarketing\"].astype(int)\n",
    "# df['cms_social-management'] = df[\"cms_social-management\"].astype(int)\n",
    "# df['hosting'] = df[\"hosting\"].astype(int)\n",
    "# df['hosting_australian'] = df[\"hosting_australian\"].astype(int)\n",
    "# df['hosting_canadian'] = df[\"hosting_canadian\"].astype(int)"
   ]
  },
  {
   "cell_type": "code",
   "execution_count": 16,
   "id": "b3788906",
   "metadata": {
    "execution": {
     "iopub.execute_input": "2021-07-24T05:41:08.357770Z",
     "iopub.status.busy": "2021-07-24T05:41:08.356880Z",
     "iopub.status.idle": "2021-07-24T05:41:08.361512Z",
     "shell.execute_reply": "2021-07-24T05:41:08.360598Z",
     "shell.execute_reply.started": "2021-07-23T17:07:29.359862Z"
    },
    "papermill": {
     "duration": 0.072609,
     "end_time": "2021-07-24T05:41:08.361732",
     "exception": false,
     "start_time": "2021-07-24T05:41:08.289123",
     "status": "completed"
    },
    "tags": []
   },
   "outputs": [],
   "source": [
    "# encode_text_dummy(df, 'ads_multi-channel')\n",
    "# encode_text_dummy(df, 'ads_retargeting-/-remarketing')\n",
    "# encode_text_dummy(df, 'cms_social-management')\n",
    "# encode_text_dummy(df, 'hosting')\n",
    "# encode_text_dummy(df, 'hosting_australian-hosting')\n",
    "# encode_text_dummy(df, 'hosting_canadian-hosting')"
   ]
  },
  {
   "cell_type": "code",
   "execution_count": 17,
   "id": "c1beb8c6",
   "metadata": {
    "execution": {
     "iopub.execute_input": "2021-07-24T05:41:08.481649Z",
     "iopub.status.busy": "2021-07-24T05:41:08.480955Z",
     "iopub.status.idle": "2021-07-24T05:41:08.484685Z",
     "shell.execute_reply": "2021-07-24T05:41:08.484002Z",
     "shell.execute_reply.started": "2021-07-23T17:07:29.366364Z"
    },
    "papermill": {
     "duration": 0.059394,
     "end_time": "2021-07-24T05:41:08.484838",
     "exception": false,
     "start_time": "2021-07-24T05:41:08.425444",
     "status": "completed"
    },
    "tags": []
   },
   "outputs": [],
   "source": [
    "# df['status'] = df[\"status\"].astype(int)"
   ]
  },
  {
   "cell_type": "code",
   "execution_count": 18,
   "id": "1a19eabd",
   "metadata": {
    "execution": {
     "iopub.execute_input": "2021-07-24T05:41:08.592889Z",
     "iopub.status.busy": "2021-07-24T05:41:08.591953Z",
     "iopub.status.idle": "2021-07-24T05:41:08.596246Z",
     "shell.execute_reply": "2021-07-24T05:41:08.596718Z",
     "shell.execute_reply.started": "2021-07-23T17:07:29.379287Z"
    },
    "papermill": {
     "duration": 0.061337,
     "end_time": "2021-07-24T05:41:08.596911",
     "exception": false,
     "start_time": "2021-07-24T05:41:08.535574",
     "status": "completed"
    },
    "tags": []
   },
   "outputs": [
    {
     "data": {
      "text/plain": [
       "Index(['Web Master', 'Web Server', 'ads', 'ads_ad-analytics',\n",
       "       'ads_ad-blocking', 'ads_ad-exchange', 'ads_ad-network', 'ads_ad-server',\n",
       "       'ads_ads-txt', 'ads_adult',\n",
       "       ...\n",
       "       'widgets_wordpress-plugins', 'phishing', 'ads_bitcoin',\n",
       "       'hosting_french-hosting', 'hosting_italian-hosting',\n",
       "       'hosting_swiss-hosting', 'hosting_wordpress-hosting',\n",
       "       'shop_woocommerce-extension', 'shop_wordpress-plugins',\n",
       "       'widgets_joomla-module'],\n",
       "      dtype='object', length=196)"
      ]
     },
     "execution_count": 18,
     "metadata": {},
     "output_type": "execute_result"
    }
   ],
   "source": [
    "df.columns"
   ]
  },
  {
   "cell_type": "code",
   "execution_count": 19,
   "id": "ccfc3879",
   "metadata": {
    "execution": {
     "iopub.execute_input": "2021-07-24T05:41:08.705067Z",
     "iopub.status.busy": "2021-07-24T05:41:08.704363Z",
     "iopub.status.idle": "2021-07-24T05:41:08.707838Z",
     "shell.execute_reply": "2021-07-24T05:41:08.707252Z",
     "shell.execute_reply.started": "2021-07-23T17:07:29.395782Z"
    },
    "papermill": {
     "duration": 0.059877,
     "end_time": "2021-07-24T05:41:08.707997",
     "exception": false,
     "start_time": "2021-07-24T05:41:08.648120",
     "status": "completed"
    },
    "tags": []
   },
   "outputs": [
    {
     "name": "stdout",
     "output_type": "stream",
     "text": [
      "[dtype('float64') dtype('int64')]\n"
     ]
    }
   ],
   "source": [
    "print(df.dtypes.unique())"
   ]
  },
  {
   "cell_type": "code",
   "execution_count": 20,
   "id": "670be9d3",
   "metadata": {
    "execution": {
     "iopub.execute_input": "2021-07-24T05:41:08.826303Z",
     "iopub.status.busy": "2021-07-24T05:41:08.825432Z",
     "iopub.status.idle": "2021-07-24T05:41:08.828935Z",
     "shell.execute_reply": "2021-07-24T05:41:08.828206Z",
     "shell.execute_reply.started": "2021-07-23T17:07:29.409948Z"
    },
    "papermill": {
     "duration": 0.069043,
     "end_time": "2021-07-24T05:41:08.829110",
     "exception": false,
     "start_time": "2021-07-24T05:41:08.760067",
     "status": "completed"
    },
    "tags": []
   },
   "outputs": [],
   "source": [
    "x = {}\n",
    "x['columns'] = df.columns\n",
    "x['dtype'] = []\n",
    "for t in df.columns:\n",
    "    x['dtype'].append(df[t].dtype)"
   ]
  },
  {
   "cell_type": "code",
   "execution_count": 21,
   "id": "caa673be",
   "metadata": {
    "execution": {
     "iopub.execute_input": "2021-07-24T05:41:08.939792Z",
     "iopub.status.busy": "2021-07-24T05:41:08.939062Z",
     "iopub.status.idle": "2021-07-24T05:41:08.948189Z",
     "shell.execute_reply": "2021-07-24T05:41:08.947576Z",
     "shell.execute_reply.started": "2021-07-23T17:07:29.432506Z"
    },
    "papermill": {
     "duration": 0.067109,
     "end_time": "2021-07-24T05:41:08.948350",
     "exception": false,
     "start_time": "2021-07-24T05:41:08.881241",
     "status": "completed"
    },
    "tags": []
   },
   "outputs": [],
   "source": [
    "df_col = pd.DataFrame(x)\n",
    "df_col.to_csv('out.csv')"
   ]
  },
  {
   "cell_type": "code",
   "execution_count": 22,
   "id": "ac4a5dd6",
   "metadata": {
    "execution": {
     "iopub.execute_input": "2021-07-24T05:41:09.057769Z",
     "iopub.status.busy": "2021-07-24T05:41:09.057096Z",
     "iopub.status.idle": "2021-07-24T05:41:09.244617Z",
     "shell.execute_reply": "2021-07-24T05:41:09.244038Z",
     "shell.execute_reply.started": "2021-07-23T17:07:29.451157Z"
    },
    "papermill": {
     "duration": 0.244083,
     "end_time": "2021-07-24T05:41:09.244770",
     "exception": false,
     "start_time": "2021-07-24T05:41:09.000687",
     "status": "completed"
    },
    "tags": []
   },
   "outputs": [
    {
     "data": {
      "text/html": [
       "<div>\n",
       "<style scoped>\n",
       "    .dataframe tbody tr th:only-of-type {\n",
       "        vertical-align: middle;\n",
       "    }\n",
       "\n",
       "    .dataframe tbody tr th {\n",
       "        vertical-align: top;\n",
       "    }\n",
       "\n",
       "    .dataframe thead th {\n",
       "        text-align: right;\n",
       "    }\n",
       "</style>\n",
       "<table border=\"1\" class=\"dataframe\">\n",
       "  <thead>\n",
       "    <tr style=\"text-align: right;\">\n",
       "      <th></th>\n",
       "      <th>Web Master</th>\n",
       "      <th>Web Server</th>\n",
       "      <th>ads</th>\n",
       "      <th>ads_ad-analytics</th>\n",
       "      <th>ads_ad-blocking</th>\n",
       "      <th>ads_ad-exchange</th>\n",
       "      <th>ads_ad-network</th>\n",
       "      <th>ads_ad-server</th>\n",
       "      <th>ads_ads-txt</th>\n",
       "      <th>ads_adult</th>\n",
       "      <th>...</th>\n",
       "      <th>widgets_wordpress-plugins</th>\n",
       "      <th>phishing</th>\n",
       "      <th>ads_bitcoin</th>\n",
       "      <th>hosting_french-hosting</th>\n",
       "      <th>hosting_italian-hosting</th>\n",
       "      <th>hosting_swiss-hosting</th>\n",
       "      <th>hosting_wordpress-hosting</th>\n",
       "      <th>shop_woocommerce-extension</th>\n",
       "      <th>shop_wordpress-plugins</th>\n",
       "      <th>widgets_joomla-module</th>\n",
       "    </tr>\n",
       "  </thead>\n",
       "  <tbody>\n",
       "    <tr>\n",
       "      <th>0</th>\n",
       "      <td>0.0</td>\n",
       "      <td>0.0</td>\n",
       "      <td>0.0</td>\n",
       "      <td>0.0</td>\n",
       "      <td>0.0</td>\n",
       "      <td>0.0</td>\n",
       "      <td>0.0</td>\n",
       "      <td>0.0</td>\n",
       "      <td>0.0</td>\n",
       "      <td>0.0</td>\n",
       "      <td>...</td>\n",
       "      <td>0.0</td>\n",
       "      <td>0</td>\n",
       "      <td>0.0</td>\n",
       "      <td>0.0</td>\n",
       "      <td>0.0</td>\n",
       "      <td>0.0</td>\n",
       "      <td>0.0</td>\n",
       "      <td>0.0</td>\n",
       "      <td>0.0</td>\n",
       "      <td>0.0</td>\n",
       "    </tr>\n",
       "    <tr>\n",
       "      <th>1</th>\n",
       "      <td>2.0</td>\n",
       "      <td>3.0</td>\n",
       "      <td>2.0</td>\n",
       "      <td>0.0</td>\n",
       "      <td>0.0</td>\n",
       "      <td>0.0</td>\n",
       "      <td>0.0</td>\n",
       "      <td>0.0</td>\n",
       "      <td>0.0</td>\n",
       "      <td>0.0</td>\n",
       "      <td>...</td>\n",
       "      <td>0.0</td>\n",
       "      <td>0</td>\n",
       "      <td>0.0</td>\n",
       "      <td>0.0</td>\n",
       "      <td>0.0</td>\n",
       "      <td>0.0</td>\n",
       "      <td>0.0</td>\n",
       "      <td>0.0</td>\n",
       "      <td>0.0</td>\n",
       "      <td>0.0</td>\n",
       "    </tr>\n",
       "    <tr>\n",
       "      <th>2</th>\n",
       "      <td>4.0</td>\n",
       "      <td>4.0</td>\n",
       "      <td>17.0</td>\n",
       "      <td>0.0</td>\n",
       "      <td>0.0</td>\n",
       "      <td>0.0</td>\n",
       "      <td>0.0</td>\n",
       "      <td>1.0</td>\n",
       "      <td>1.0</td>\n",
       "      <td>0.0</td>\n",
       "      <td>...</td>\n",
       "      <td>0.0</td>\n",
       "      <td>0</td>\n",
       "      <td>0.0</td>\n",
       "      <td>0.0</td>\n",
       "      <td>0.0</td>\n",
       "      <td>0.0</td>\n",
       "      <td>0.0</td>\n",
       "      <td>0.0</td>\n",
       "      <td>0.0</td>\n",
       "      <td>0.0</td>\n",
       "    </tr>\n",
       "    <tr>\n",
       "      <th>3</th>\n",
       "      <td>2.0</td>\n",
       "      <td>3.0</td>\n",
       "      <td>11.0</td>\n",
       "      <td>0.0</td>\n",
       "      <td>0.0</td>\n",
       "      <td>1.0</td>\n",
       "      <td>2.0</td>\n",
       "      <td>1.0</td>\n",
       "      <td>0.0</td>\n",
       "      <td>0.0</td>\n",
       "      <td>...</td>\n",
       "      <td>3.0</td>\n",
       "      <td>0</td>\n",
       "      <td>0.0</td>\n",
       "      <td>0.0</td>\n",
       "      <td>0.0</td>\n",
       "      <td>0.0</td>\n",
       "      <td>0.0</td>\n",
       "      <td>0.0</td>\n",
       "      <td>0.0</td>\n",
       "      <td>0.0</td>\n",
       "    </tr>\n",
       "    <tr>\n",
       "      <th>4</th>\n",
       "      <td>2.0</td>\n",
       "      <td>9.0</td>\n",
       "      <td>27.0</td>\n",
       "      <td>0.0</td>\n",
       "      <td>0.0</td>\n",
       "      <td>0.0</td>\n",
       "      <td>0.0</td>\n",
       "      <td>0.0</td>\n",
       "      <td>19.0</td>\n",
       "      <td>0.0</td>\n",
       "      <td>...</td>\n",
       "      <td>0.0</td>\n",
       "      <td>0</td>\n",
       "      <td>0.0</td>\n",
       "      <td>0.0</td>\n",
       "      <td>0.0</td>\n",
       "      <td>0.0</td>\n",
       "      <td>0.0</td>\n",
       "      <td>0.0</td>\n",
       "      <td>0.0</td>\n",
       "      <td>0.0</td>\n",
       "    </tr>\n",
       "    <tr>\n",
       "      <th>...</th>\n",
       "      <td>...</td>\n",
       "      <td>...</td>\n",
       "      <td>...</td>\n",
       "      <td>...</td>\n",
       "      <td>...</td>\n",
       "      <td>...</td>\n",
       "      <td>...</td>\n",
       "      <td>...</td>\n",
       "      <td>...</td>\n",
       "      <td>...</td>\n",
       "      <td>...</td>\n",
       "      <td>...</td>\n",
       "      <td>...</td>\n",
       "      <td>...</td>\n",
       "      <td>...</td>\n",
       "      <td>...</td>\n",
       "      <td>...</td>\n",
       "      <td>...</td>\n",
       "      <td>...</td>\n",
       "      <td>...</td>\n",
       "      <td>...</td>\n",
       "    </tr>\n",
       "    <tr>\n",
       "      <th>73633</th>\n",
       "      <td>0.0</td>\n",
       "      <td>0.0</td>\n",
       "      <td>3.0</td>\n",
       "      <td>0.0</td>\n",
       "      <td>0.0</td>\n",
       "      <td>0.0</td>\n",
       "      <td>0.0</td>\n",
       "      <td>0.0</td>\n",
       "      <td>0.0</td>\n",
       "      <td>0.0</td>\n",
       "      <td>...</td>\n",
       "      <td>4.0</td>\n",
       "      <td>1</td>\n",
       "      <td>0.0</td>\n",
       "      <td>0.0</td>\n",
       "      <td>0.0</td>\n",
       "      <td>0.0</td>\n",
       "      <td>0.0</td>\n",
       "      <td>0.0</td>\n",
       "      <td>0.0</td>\n",
       "      <td>0.0</td>\n",
       "    </tr>\n",
       "    <tr>\n",
       "      <th>73634</th>\n",
       "      <td>0.0</td>\n",
       "      <td>0.0</td>\n",
       "      <td>0.0</td>\n",
       "      <td>0.0</td>\n",
       "      <td>0.0</td>\n",
       "      <td>0.0</td>\n",
       "      <td>0.0</td>\n",
       "      <td>0.0</td>\n",
       "      <td>0.0</td>\n",
       "      <td>0.0</td>\n",
       "      <td>...</td>\n",
       "      <td>0.0</td>\n",
       "      <td>1</td>\n",
       "      <td>0.0</td>\n",
       "      <td>0.0</td>\n",
       "      <td>0.0</td>\n",
       "      <td>0.0</td>\n",
       "      <td>0.0</td>\n",
       "      <td>0.0</td>\n",
       "      <td>0.0</td>\n",
       "      <td>0.0</td>\n",
       "    </tr>\n",
       "    <tr>\n",
       "      <th>73635</th>\n",
       "      <td>0.0</td>\n",
       "      <td>0.0</td>\n",
       "      <td>0.0</td>\n",
       "      <td>0.0</td>\n",
       "      <td>0.0</td>\n",
       "      <td>0.0</td>\n",
       "      <td>0.0</td>\n",
       "      <td>0.0</td>\n",
       "      <td>0.0</td>\n",
       "      <td>0.0</td>\n",
       "      <td>...</td>\n",
       "      <td>0.0</td>\n",
       "      <td>1</td>\n",
       "      <td>0.0</td>\n",
       "      <td>0.0</td>\n",
       "      <td>0.0</td>\n",
       "      <td>0.0</td>\n",
       "      <td>0.0</td>\n",
       "      <td>0.0</td>\n",
       "      <td>0.0</td>\n",
       "      <td>0.0</td>\n",
       "    </tr>\n",
       "    <tr>\n",
       "      <th>73636</th>\n",
       "      <td>0.0</td>\n",
       "      <td>0.0</td>\n",
       "      <td>0.0</td>\n",
       "      <td>0.0</td>\n",
       "      <td>0.0</td>\n",
       "      <td>0.0</td>\n",
       "      <td>0.0</td>\n",
       "      <td>0.0</td>\n",
       "      <td>0.0</td>\n",
       "      <td>0.0</td>\n",
       "      <td>...</td>\n",
       "      <td>0.0</td>\n",
       "      <td>1</td>\n",
       "      <td>0.0</td>\n",
       "      <td>0.0</td>\n",
       "      <td>0.0</td>\n",
       "      <td>0.0</td>\n",
       "      <td>0.0</td>\n",
       "      <td>0.0</td>\n",
       "      <td>0.0</td>\n",
       "      <td>0.0</td>\n",
       "    </tr>\n",
       "    <tr>\n",
       "      <th>73637</th>\n",
       "      <td>0.0</td>\n",
       "      <td>1.0</td>\n",
       "      <td>0.0</td>\n",
       "      <td>0.0</td>\n",
       "      <td>0.0</td>\n",
       "      <td>0.0</td>\n",
       "      <td>0.0</td>\n",
       "      <td>0.0</td>\n",
       "      <td>0.0</td>\n",
       "      <td>0.0</td>\n",
       "      <td>...</td>\n",
       "      <td>0.0</td>\n",
       "      <td>1</td>\n",
       "      <td>0.0</td>\n",
       "      <td>0.0</td>\n",
       "      <td>0.0</td>\n",
       "      <td>0.0</td>\n",
       "      <td>0.0</td>\n",
       "      <td>0.0</td>\n",
       "      <td>0.0</td>\n",
       "      <td>0.0</td>\n",
       "    </tr>\n",
       "  </tbody>\n",
       "</table>\n",
       "<p>142518 rows × 196 columns</p>\n",
       "</div>"
      ],
      "text/plain": [
       "       Web Master  Web Server   ads  ads_ad-analytics  ads_ad-blocking  \\\n",
       "0             0.0         0.0   0.0               0.0              0.0   \n",
       "1             2.0         3.0   2.0               0.0              0.0   \n",
       "2             4.0         4.0  17.0               0.0              0.0   \n",
       "3             2.0         3.0  11.0               0.0              0.0   \n",
       "4             2.0         9.0  27.0               0.0              0.0   \n",
       "...           ...         ...   ...               ...              ...   \n",
       "73633         0.0         0.0   3.0               0.0              0.0   \n",
       "73634         0.0         0.0   0.0               0.0              0.0   \n",
       "73635         0.0         0.0   0.0               0.0              0.0   \n",
       "73636         0.0         0.0   0.0               0.0              0.0   \n",
       "73637         0.0         1.0   0.0               0.0              0.0   \n",
       "\n",
       "       ads_ad-exchange  ads_ad-network  ads_ad-server  ads_ads-txt  ads_adult  \\\n",
       "0                  0.0             0.0            0.0          0.0        0.0   \n",
       "1                  0.0             0.0            0.0          0.0        0.0   \n",
       "2                  0.0             0.0            1.0          1.0        0.0   \n",
       "3                  1.0             2.0            1.0          0.0        0.0   \n",
       "4                  0.0             0.0            0.0         19.0        0.0   \n",
       "...                ...             ...            ...          ...        ...   \n",
       "73633              0.0             0.0            0.0          0.0        0.0   \n",
       "73634              0.0             0.0            0.0          0.0        0.0   \n",
       "73635              0.0             0.0            0.0          0.0        0.0   \n",
       "73636              0.0             0.0            0.0          0.0        0.0   \n",
       "73637              0.0             0.0            0.0          0.0        0.0   \n",
       "\n",
       "       ...  widgets_wordpress-plugins  phishing  ads_bitcoin  \\\n",
       "0      ...                        0.0         0          0.0   \n",
       "1      ...                        0.0         0          0.0   \n",
       "2      ...                        0.0         0          0.0   \n",
       "3      ...                        3.0         0          0.0   \n",
       "4      ...                        0.0         0          0.0   \n",
       "...    ...                        ...       ...          ...   \n",
       "73633  ...                        4.0         1          0.0   \n",
       "73634  ...                        0.0         1          0.0   \n",
       "73635  ...                        0.0         1          0.0   \n",
       "73636  ...                        0.0         1          0.0   \n",
       "73637  ...                        0.0         1          0.0   \n",
       "\n",
       "       hosting_french-hosting  hosting_italian-hosting  hosting_swiss-hosting  \\\n",
       "0                         0.0                      0.0                    0.0   \n",
       "1                         0.0                      0.0                    0.0   \n",
       "2                         0.0                      0.0                    0.0   \n",
       "3                         0.0                      0.0                    0.0   \n",
       "4                         0.0                      0.0                    0.0   \n",
       "...                       ...                      ...                    ...   \n",
       "73633                     0.0                      0.0                    0.0   \n",
       "73634                     0.0                      0.0                    0.0   \n",
       "73635                     0.0                      0.0                    0.0   \n",
       "73636                     0.0                      0.0                    0.0   \n",
       "73637                     0.0                      0.0                    0.0   \n",
       "\n",
       "       hosting_wordpress-hosting  shop_woocommerce-extension  \\\n",
       "0                            0.0                         0.0   \n",
       "1                            0.0                         0.0   \n",
       "2                            0.0                         0.0   \n",
       "3                            0.0                         0.0   \n",
       "4                            0.0                         0.0   \n",
       "...                          ...                         ...   \n",
       "73633                        0.0                         0.0   \n",
       "73634                        0.0                         0.0   \n",
       "73635                        0.0                         0.0   \n",
       "73636                        0.0                         0.0   \n",
       "73637                        0.0                         0.0   \n",
       "\n",
       "       shop_wordpress-plugins  widgets_joomla-module  \n",
       "0                         0.0                    0.0  \n",
       "1                         0.0                    0.0  \n",
       "2                         0.0                    0.0  \n",
       "3                         0.0                    0.0  \n",
       "4                         0.0                    0.0  \n",
       "...                       ...                    ...  \n",
       "73633                     0.0                    0.0  \n",
       "73634                     0.0                    0.0  \n",
       "73635                     0.0                    0.0  \n",
       "73636                     0.0                    0.0  \n",
       "73637                     0.0                    0.0  \n",
       "\n",
       "[142518 rows x 196 columns]"
      ]
     },
     "execution_count": 22,
     "metadata": {},
     "output_type": "execute_result"
    }
   ],
   "source": [
    "df.apply(pd.to_numeric)"
   ]
  },
  {
   "cell_type": "code",
   "execution_count": 23,
   "id": "2e40aedc",
   "metadata": {
    "execution": {
     "iopub.execute_input": "2021-07-24T05:41:09.357638Z",
     "iopub.status.busy": "2021-07-24T05:41:09.356682Z",
     "iopub.status.idle": "2021-07-24T05:41:09.361438Z",
     "shell.execute_reply": "2021-07-24T05:41:09.360888Z",
     "shell.execute_reply.started": "2021-07-23T17:07:29.687930Z"
    },
    "papermill": {
     "duration": 0.064248,
     "end_time": "2021-07-24T05:41:09.361605",
     "exception": false,
     "start_time": "2021-07-24T05:41:09.297357",
     "status": "completed"
    },
    "tags": []
   },
   "outputs": [
    {
     "data": {
      "text/plain": [
       "array([dtype('float64'), dtype('int64')], dtype=object)"
      ]
     },
     "execution_count": 23,
     "metadata": {},
     "output_type": "execute_result"
    }
   ],
   "source": [
    "df.dtypes.unique()"
   ]
  },
  {
   "cell_type": "code",
   "execution_count": 24,
   "id": "9f85d1e6",
   "metadata": {
    "_cell_guid": "ad78123a-51e4-4d81-9d75-d32bd5bfffcf",
    "_uuid": "62294685-fc22-452d-aae9-771189472a2e",
    "collapsed": false,
    "execution": {
     "iopub.execute_input": "2021-07-24T05:41:09.473591Z",
     "iopub.status.busy": "2021-07-24T05:41:09.472935Z",
     "iopub.status.idle": "2021-07-24T05:41:09.723732Z",
     "shell.execute_reply": "2021-07-24T05:41:09.723040Z",
     "shell.execute_reply.started": "2021-07-23T18:14:46.943791Z"
    },
    "jupyter": {
     "outputs_hidden": false
    },
    "papermill": {
     "duration": 0.308938,
     "end_time": "2021-07-24T05:41:09.723871",
     "exception": false,
     "start_time": "2021-07-24T05:41:09.414933",
     "status": "completed"
    },
    "tags": []
   },
   "outputs": [],
   "source": [
    "X = df.loc[:,df.columns != \"phishing\"].values\n",
    "y = df[\"phishing\"].values"
   ]
  },
  {
   "cell_type": "code",
   "execution_count": 25,
   "id": "93016293",
   "metadata": {
    "execution": {
     "iopub.execute_input": "2021-07-24T05:41:09.835078Z",
     "iopub.status.busy": "2021-07-24T05:41:09.834177Z",
     "iopub.status.idle": "2021-07-24T05:41:09.839297Z",
     "shell.execute_reply": "2021-07-24T05:41:09.838712Z",
     "shell.execute_reply.started": "2021-07-23T17:07:29.979024Z"
    },
    "papermill": {
     "duration": 0.063226,
     "end_time": "2021-07-24T05:41:09.839451",
     "exception": false,
     "start_time": "2021-07-24T05:41:09.776225",
     "status": "completed"
    },
    "tags": []
   },
   "outputs": [
    {
     "data": {
      "text/plain": [
       "array([0, 0, 0, ..., 1, 1, 1])"
      ]
     },
     "execution_count": 25,
     "metadata": {},
     "output_type": "execute_result"
    }
   ],
   "source": [
    "y"
   ]
  },
  {
   "cell_type": "code",
   "execution_count": 26,
   "id": "a01a9839",
   "metadata": {
    "_cell_guid": "a3d5edad-1f97-435d-8681-4db712ea9a72",
    "_uuid": "bf95a4ee-ae20-41e2-9a9d-98c56b16a180",
    "collapsed": false,
    "execution": {
     "iopub.execute_input": "2021-07-24T05:41:09.955401Z",
     "iopub.status.busy": "2021-07-24T05:41:09.954700Z",
     "iopub.status.idle": "2021-07-24T05:41:10.341872Z",
     "shell.execute_reply": "2021-07-24T05:41:10.341285Z",
     "shell.execute_reply.started": "2021-07-23T18:14:48.842156Z"
    },
    "jupyter": {
     "outputs_hidden": false
    },
    "papermill": {
     "duration": 0.449581,
     "end_time": "2021-07-24T05:41:10.342031",
     "exception": false,
     "start_time": "2021-07-24T05:41:09.892450",
     "status": "completed"
    },
    "tags": []
   },
   "outputs": [],
   "source": [
    "X_train, X_test_main, y_train, y_test_main = train_test_split(X, y, train_size=0.8, random_state = 0)"
   ]
  },
  {
   "cell_type": "code",
   "execution_count": 27,
   "id": "9bf05928",
   "metadata": {
    "execution": {
     "iopub.execute_input": "2021-07-24T05:41:10.453244Z",
     "iopub.status.busy": "2021-07-24T05:41:10.452609Z",
     "iopub.status.idle": "2021-07-24T05:41:10.484851Z",
     "shell.execute_reply": "2021-07-24T05:41:10.484250Z",
     "shell.execute_reply.started": "2021-07-23T18:14:54.105425Z"
    },
    "papermill": {
     "duration": 0.090436,
     "end_time": "2021-07-24T05:41:10.485032",
     "exception": false,
     "start_time": "2021-07-24T05:41:10.394596",
     "status": "completed"
    },
    "tags": []
   },
   "outputs": [],
   "source": [
    "X_val, X_test, y_val, y_test = train_test_split(X_test_main, y_test_main, train_size=0.5, random_state = 0)"
   ]
  },
  {
   "cell_type": "code",
   "execution_count": 28,
   "id": "654067e9",
   "metadata": {
    "execution": {
     "iopub.execute_input": "2021-07-24T05:41:10.601345Z",
     "iopub.status.busy": "2021-07-24T05:41:10.600678Z",
     "iopub.status.idle": "2021-07-24T05:41:10.610951Z",
     "shell.execute_reply": "2021-07-24T05:41:10.610304Z",
     "shell.execute_reply.started": "2021-07-23T18:14:57.375176Z"
    },
    "papermill": {
     "duration": 0.072402,
     "end_time": "2021-07-24T05:41:10.611104",
     "exception": false,
     "start_time": "2021-07-24T05:41:10.538702",
     "status": "completed"
    },
    "tags": []
   },
   "outputs": [],
   "source": [
    "dummies_test = pd.get_dummies(y_train) # Classification\n",
    "outcomes_test = dummies_test.columns\n",
    "num_classes = len(outcomes_test)\n",
    "train_y = dummies_test.values\n",
    "\n",
    "dummies_test = pd.get_dummies(y_val) # Classification\n",
    "outcomes_test = dummies_test.columns\n",
    "num_classes = len(outcomes_test)\n",
    "val_y = dummies_test.values\n",
    "\n",
    "dummies_test = pd.get_dummies(y_test) # Classification\n",
    "outcomes_test = dummies_test.columns\n",
    "num_classes = len(outcomes_test)\n",
    "test_y = dummies_test.values"
   ]
  },
  {
   "cell_type": "code",
   "execution_count": 29,
   "id": "0f9ae844",
   "metadata": {
    "execution": {
     "iopub.execute_input": "2021-07-24T05:41:10.723077Z",
     "iopub.status.busy": "2021-07-24T05:41:10.722235Z",
     "iopub.status.idle": "2021-07-24T05:41:10.847255Z",
     "shell.execute_reply": "2021-07-24T05:41:10.846688Z"
    },
    "papermill": {
     "duration": 0.183707,
     "end_time": "2021-07-24T05:41:10.847400",
     "exception": false,
     "start_time": "2021-07-24T05:41:10.663693",
     "status": "completed"
    },
    "tags": []
   },
   "outputs": [],
   "source": [
    "model = Sequential()\n",
    "model.add(Dense(16, input_dim=195, activation=\"relu\"))\n",
    "model.add(Dense(16, activation=\"relu\"))\n",
    "model.add(Dense(16, activation=\"relu\"))\n",
    "model.add(Dense(16, activation=\"relu\"))\n",
    "model.add(Dense(2, activation=\"softmax\"))\n",
    "model.compile(loss='categorical_crossentropy',optimizer='adam',metrics=['accuracy'])"
   ]
  },
  {
   "cell_type": "code",
   "execution_count": 30,
   "id": "e6d4a216",
   "metadata": {
    "execution": {
     "iopub.execute_input": "2021-07-24T05:41:10.960443Z",
     "iopub.status.busy": "2021-07-24T05:41:10.959773Z",
     "iopub.status.idle": "2021-07-24T05:42:59.636300Z",
     "shell.execute_reply": "2021-07-24T05:42:59.637016Z"
    },
    "papermill": {
     "duration": 108.737183,
     "end_time": "2021-07-24T05:42:59.637273",
     "exception": false,
     "start_time": "2021-07-24T05:41:10.900090",
     "status": "completed"
    },
    "tags": []
   },
   "outputs": [
    {
     "name": "stdout",
     "output_type": "stream",
     "text": [
      "Epoch 1/20\n",
      "3563/3563 [==============================] - 6s 2ms/step - loss: 0.3127 - accuracy: 0.8907 - val_loss: 0.2551 - val_accuracy: 0.9135\n",
      "Epoch 2/20\n",
      "3563/3563 [==============================] - 5s 1ms/step - loss: 0.2478 - accuracy: 0.9157 - val_loss: 0.2420 - val_accuracy: 0.9166\n",
      "Epoch 3/20\n",
      "3563/3563 [==============================] - 5s 2ms/step - loss: 0.2431 - accuracy: 0.9176 - val_loss: 0.2393 - val_accuracy: 0.9180\n",
      "Epoch 4/20\n",
      "3563/3563 [==============================] - 5s 2ms/step - loss: 0.2347 - accuracy: 0.9205 - val_loss: 0.2314 - val_accuracy: 0.9209\n",
      "Epoch 5/20\n",
      "3563/3563 [==============================] - 5s 1ms/step - loss: 0.2326 - accuracy: 0.9216 - val_loss: 0.2296 - val_accuracy: 0.9212\n",
      "Epoch 6/20\n",
      "3563/3563 [==============================] - 5s 2ms/step - loss: 0.2309 - accuracy: 0.9220 - val_loss: 0.2399 - val_accuracy: 0.9179\n",
      "Epoch 7/20\n",
      "3563/3563 [==============================] - 5s 1ms/step - loss: 0.2308 - accuracy: 0.9215 - val_loss: 0.2310 - val_accuracy: 0.9204\n",
      "Epoch 8/20\n",
      "3563/3563 [==============================] - 5s 1ms/step - loss: 0.2241 - accuracy: 0.9243 - val_loss: 0.2285 - val_accuracy: 0.9216\n",
      "Epoch 9/20\n",
      "3563/3563 [==============================] - 6s 2ms/step - loss: 0.2239 - accuracy: 0.9244 - val_loss: 0.2268 - val_accuracy: 0.9230\n",
      "Epoch 10/20\n",
      "3563/3563 [==============================] - 5s 2ms/step - loss: 0.2223 - accuracy: 0.9252 - val_loss: 0.2288 - val_accuracy: 0.9217\n",
      "Epoch 11/20\n",
      "3563/3563 [==============================] - 5s 1ms/step - loss: 0.2227 - accuracy: 0.9247 - val_loss: 0.2279 - val_accuracy: 0.9214\n",
      "Epoch 12/20\n",
      "3563/3563 [==============================] - 5s 2ms/step - loss: 0.2213 - accuracy: 0.9252 - val_loss: 0.2284 - val_accuracy: 0.9227\n",
      "Epoch 13/20\n",
      "3563/3563 [==============================] - 5s 1ms/step - loss: 0.2196 - accuracy: 0.9264 - val_loss: 0.2296 - val_accuracy: 0.9213\n",
      "Epoch 14/20\n",
      "3563/3563 [==============================] - 5s 2ms/step - loss: 0.2170 - accuracy: 0.9268 - val_loss: 0.2297 - val_accuracy: 0.9211\n",
      "Epoch 15/20\n",
      "3563/3563 [==============================] - 5s 2ms/step - loss: 0.2174 - accuracy: 0.9261 - val_loss: 0.2423 - val_accuracy: 0.9190\n",
      "Epoch 16/20\n",
      "3563/3563 [==============================] - 5s 1ms/step - loss: 0.2184 - accuracy: 0.9268 - val_loss: 0.2258 - val_accuracy: 0.9227\n",
      "Epoch 17/20\n",
      "3563/3563 [==============================] - 5s 2ms/step - loss: 0.2172 - accuracy: 0.9268 - val_loss: 0.2298 - val_accuracy: 0.9229\n",
      "Epoch 18/20\n",
      "3563/3563 [==============================] - 5s 1ms/step - loss: 0.2151 - accuracy: 0.9278 - val_loss: 0.2298 - val_accuracy: 0.9207\n",
      "Epoch 19/20\n",
      "3563/3563 [==============================] - 5s 1ms/step - loss: 0.2159 - accuracy: 0.9273 - val_loss: 0.2277 - val_accuracy: 0.9228\n",
      "Epoch 20/20\n",
      "3563/3563 [==============================] - 5s 2ms/step - loss: 0.2156 - accuracy: 0.9273 - val_loss: 0.2270 - val_accuracy: 0.9225\n"
     ]
    }
   ],
   "source": [
    "history=model.fit(X_train, train_y,validation_data=(X_val,val_y), epochs=20)"
   ]
  },
  {
   "cell_type": "code",
   "execution_count": 31,
   "id": "4a1d8c09",
   "metadata": {
    "execution": {
     "iopub.execute_input": "2021-07-24T05:43:01.026465Z",
     "iopub.status.busy": "2021-07-24T05:43:01.025711Z",
     "iopub.status.idle": "2021-07-24T05:43:01.030469Z",
     "shell.execute_reply": "2021-07-24T05:43:01.029908Z"
    },
    "papermill": {
     "duration": 0.662423,
     "end_time": "2021-07-24T05:43:01.030663",
     "exception": false,
     "start_time": "2021-07-24T05:43:00.368240",
     "status": "completed"
    },
    "tags": []
   },
   "outputs": [
    {
     "data": {
      "text/plain": [
       "(14252,)"
      ]
     },
     "execution_count": 31,
     "metadata": {},
     "output_type": "execute_result"
    }
   ],
   "source": [
    "y_test.shape"
   ]
  },
  {
   "cell_type": "code",
   "execution_count": 32,
   "id": "0ca55c05",
   "metadata": {
    "execution": {
     "iopub.execute_input": "2021-07-24T05:43:02.412188Z",
     "iopub.status.busy": "2021-07-24T05:43:02.411532Z",
     "iopub.status.idle": "2021-07-24T05:43:02.834244Z",
     "shell.execute_reply": "2021-07-24T05:43:02.834799Z"
    },
    "papermill": {
     "duration": 1.096251,
     "end_time": "2021-07-24T05:43:02.835026",
     "exception": false,
     "start_time": "2021-07-24T05:43:01.738775",
     "status": "completed"
    },
    "tags": []
   },
   "outputs": [],
   "source": [
    "pred = model.predict(X_test)\n"
   ]
  },
  {
   "cell_type": "code",
   "execution_count": 33,
   "id": "1b31e112",
   "metadata": {
    "execution": {
     "iopub.execute_input": "2021-07-24T05:43:04.153792Z",
     "iopub.status.busy": "2021-07-24T05:43:04.152925Z",
     "iopub.status.idle": "2021-07-24T05:43:04.156709Z",
     "shell.execute_reply": "2021-07-24T05:43:04.157147Z"
    },
    "papermill": {
     "duration": 0.665959,
     "end_time": "2021-07-24T05:43:04.157334",
     "exception": false,
     "start_time": "2021-07-24T05:43:03.491375",
     "status": "completed"
    },
    "tags": []
   },
   "outputs": [
    {
     "data": {
      "text/plain": [
       "array([[9.9999738e-01, 2.6233668e-06],\n",
       "       [9.9323761e-01, 6.7623160e-03],\n",
       "       [9.9928576e-01, 7.1421138e-04],\n",
       "       ...,\n",
       "       [1.3653237e-01, 8.6346763e-01],\n",
       "       [9.9605894e-01, 3.9410433e-03],\n",
       "       [9.9933833e-01, 6.6170661e-04]], dtype=float32)"
      ]
     },
     "execution_count": 33,
     "metadata": {},
     "output_type": "execute_result"
    }
   ],
   "source": [
    "pred"
   ]
  },
  {
   "cell_type": "code",
   "execution_count": 34,
   "id": "a3d595cd",
   "metadata": {
    "execution": {
     "iopub.execute_input": "2021-07-24T05:43:05.469988Z",
     "iopub.status.busy": "2021-07-24T05:43:05.469247Z",
     "iopub.status.idle": "2021-07-24T05:43:05.473650Z",
     "shell.execute_reply": "2021-07-24T05:43:05.474188Z"
    },
    "papermill": {
     "duration": 0.665357,
     "end_time": "2021-07-24T05:43:05.474374",
     "exception": false,
     "start_time": "2021-07-24T05:43:04.809017",
     "status": "completed"
    },
    "tags": []
   },
   "outputs": [
    {
     "data": {
      "text/plain": [
       "(14252, 2)"
      ]
     },
     "execution_count": 34,
     "metadata": {},
     "output_type": "execute_result"
    }
   ],
   "source": [
    "pred.shape"
   ]
  },
  {
   "cell_type": "code",
   "execution_count": 35,
   "id": "0df0489a",
   "metadata": {
    "execution": {
     "iopub.execute_input": "2021-07-24T05:43:06.782132Z",
     "iopub.status.busy": "2021-07-24T05:43:06.781174Z",
     "iopub.status.idle": "2021-07-24T05:43:06.785696Z",
     "shell.execute_reply": "2021-07-24T05:43:06.785183Z"
    },
    "papermill": {
     "duration": 0.65841,
     "end_time": "2021-07-24T05:43:06.785852",
     "exception": false,
     "start_time": "2021-07-24T05:43:06.127442",
     "status": "completed"
    },
    "tags": []
   },
   "outputs": [
    {
     "data": {
      "text/plain": [
       "(14252, 2)"
      ]
     },
     "execution_count": 35,
     "metadata": {},
     "output_type": "execute_result"
    }
   ],
   "source": [
    "test_y.shape"
   ]
  },
  {
   "cell_type": "code",
   "execution_count": 36,
   "id": "6a309e5c",
   "metadata": {
    "execution": {
     "iopub.execute_input": "2021-07-24T05:43:08.094202Z",
     "iopub.status.busy": "2021-07-24T05:43:08.093412Z",
     "iopub.status.idle": "2021-07-24T05:43:08.100113Z",
     "shell.execute_reply": "2021-07-24T05:43:08.099593Z"
    },
    "papermill": {
     "duration": 0.66288,
     "end_time": "2021-07-24T05:43:08.100272",
     "exception": false,
     "start_time": "2021-07-24T05:43:07.437392",
     "status": "completed"
    },
    "tags": []
   },
   "outputs": [
    {
     "name": "stdout",
     "output_type": "stream",
     "text": [
      "Test score: 0.9264664608476003\n"
     ]
    }
   ],
   "source": [
    "pred = np.argmax(pred,axis=1)\n",
    "test_y = np.argmax(test_y,axis=1)\n",
    "score = metrics.accuracy_score(test_y, pred)\n",
    "print(\"Test score: {}\".format(score))"
   ]
  },
  {
   "cell_type": "code",
   "execution_count": 37,
   "id": "8b7a64fe",
   "metadata": {
    "execution": {
     "iopub.execute_input": "2021-07-24T05:43:09.444145Z",
     "iopub.status.busy": "2021-07-24T05:43:09.443257Z",
     "iopub.status.idle": "2021-07-24T05:43:09.447981Z",
     "shell.execute_reply": "2021-07-24T05:43:09.447410Z"
    },
    "papermill": {
     "duration": 0.691518,
     "end_time": "2021-07-24T05:43:09.448134",
     "exception": false,
     "start_time": "2021-07-24T05:43:08.756616",
     "status": "completed"
    },
    "tags": []
   },
   "outputs": [
    {
     "data": {
      "text/plain": [
       "(14252,)"
      ]
     },
     "execution_count": 37,
     "metadata": {},
     "output_type": "execute_result"
    }
   ],
   "source": [
    "pred.shape"
   ]
  },
  {
   "cell_type": "code",
   "execution_count": 38,
   "id": "434f7a17",
   "metadata": {
    "execution": {
     "iopub.execute_input": "2021-07-24T05:43:10.769756Z",
     "iopub.status.busy": "2021-07-24T05:43:10.768781Z",
     "iopub.status.idle": "2021-07-24T05:43:10.772969Z",
     "shell.execute_reply": "2021-07-24T05:43:10.773675Z"
    },
    "papermill": {
     "duration": 0.666072,
     "end_time": "2021-07-24T05:43:10.773865",
     "exception": false,
     "start_time": "2021-07-24T05:43:10.107793",
     "status": "completed"
    },
    "tags": []
   },
   "outputs": [
    {
     "data": {
      "text/plain": [
       "array([ True,  True,  True, ...,  True,  True,  True])"
      ]
     },
     "execution_count": 38,
     "metadata": {},
     "output_type": "execute_result"
    }
   ],
   "source": [
    "y_test == pred"
   ]
  },
  {
   "cell_type": "code",
   "execution_count": 39,
   "id": "d9d72dfc",
   "metadata": {
    "execution": {
     "iopub.execute_input": "2021-07-24T05:43:12.154008Z",
     "iopub.status.busy": "2021-07-24T05:43:12.153073Z",
     "iopub.status.idle": "2021-07-24T05:43:12.366951Z",
     "shell.execute_reply": "2021-07-24T05:43:12.367536Z"
    },
    "papermill": {
     "duration": 0.874927,
     "end_time": "2021-07-24T05:43:12.367756",
     "exception": false,
     "start_time": "2021-07-24T05:43:11.492829",
     "status": "completed"
    },
    "tags": []
   },
   "outputs": [
    {
     "data": {
      "image/png": "[encoded data removed]",
      "text/plain": [
       "<Figure size 432x288 with 1 Axes>"
      ]
     },
     "metadata": {
      "needs_background": "light"
     },
     "output_type": "display_data"
    }
   ],
   "source": [
    "plt.plot(history.history['accuracy'])\n",
    "plt.plot(history.history['val_accuracy'])\n",
    "plt.title('ANN Model accuracy')\n",
    "plt.ylabel('Accuracy')\n",
    "plt.xlabel('Epoch')\n",
    "plt.legend(['Train', 'Test'], loc='upper left')\n",
    "plt.show()"
   ]
  },
  {
   "cell_type": "code",
   "execution_count": 40,
   "id": "e823aeee",
   "metadata": {
    "execution": {
     "iopub.execute_input": "2021-07-24T05:43:13.682866Z",
     "iopub.status.busy": "2021-07-24T05:43:13.681911Z",
     "iopub.status.idle": "2021-07-24T05:43:13.853206Z",
     "shell.execute_reply": "2021-07-24T05:43:13.853772Z"
    },
    "papermill": {
     "duration": 0.830253,
     "end_time": "2021-07-24T05:43:13.854002",
     "exception": false,
     "start_time": "2021-07-24T05:43:13.023749",
     "status": "completed"
    },
    "tags": []
   },
   "outputs": [
    {
     "data": {
      "image/png": "[encoded data removed]",
      "text/plain": [
       "<Figure size 432x288 with 1 Axes>"
      ]
     },
     "metadata": {
      "needs_background": "light"
     },
     "output_type": "display_data"
    }
   ],
   "source": [
    "plt.plot(history.history['loss']) \n",
    "plt.plot(history.history['val_loss']) \n",
    "plt.title('ANN Model loss') \n",
    "plt.ylabel('Loss') \n",
    "plt.xlabel('Epoch') \n",
    "plt.legend(['Train', 'Test'], loc='upper left') \n",
    "plt.show()"
   ]
  },
  {
   "cell_type": "code",
   "execution_count": 41,
   "id": "3b732458",
   "metadata": {
    "execution": {
     "iopub.execute_input": "2021-07-24T05:43:15.168375Z",
     "iopub.status.busy": "2021-07-24T05:43:15.167354Z",
     "iopub.status.idle": "2021-07-24T05:43:15.475101Z",
     "shell.execute_reply": "2021-07-24T05:43:15.475577Z"
    },
    "papermill": {
     "duration": 0.965339,
     "end_time": "2021-07-24T05:43:15.475794",
     "exception": false,
     "start_time": "2021-07-24T05:43:14.510455",
     "status": "completed"
    },
    "tags": []
   },
   "outputs": [
    {
     "data": {
      "image/png": "[encoded data removed]",
      "text/plain": [
       "<Figure size 576x432 with 2 Axes>"
      ]
     },
     "metadata": {
      "needs_background": "light"
     },
     "output_type": "display_data"
    }
   ],
   "source": [
    "cm = confusion_matrix(test_y, pred)\n",
    "plot_confusion_matrix(cm           = cm, \n",
    "                      normalize    = False,\n",
    "                      target_names = ['Legitimate', 'Phishing'],\n",
    "                      title        = \"Confusion matrix of ANN\")"
   ]
  },
  {
   "cell_type": "code",
   "execution_count": 42,
   "id": "c32268f2",
   "metadata": {
    "execution": {
     "iopub.execute_input": "2021-07-24T05:43:16.806413Z",
     "iopub.status.busy": "2021-07-24T05:43:16.805362Z",
     "iopub.status.idle": "2021-07-24T05:43:16.808559Z",
     "shell.execute_reply": "2021-07-24T05:43:16.807899Z",
     "shell.execute_reply.started": "2021-07-23T18:15:05.684651Z"
    },
    "papermill": {
     "duration": 0.671218,
     "end_time": "2021-07-24T05:43:16.808756",
     "exception": false,
     "start_time": "2021-07-24T05:43:16.137538",
     "status": "completed"
    },
    "tags": []
   },
   "outputs": [],
   "source": [
    "X_train = np.reshape(X_train, (X_train.shape[0], X_train.shape[1], 1))\n",
    "X_val = np.reshape(X_val, (X_val.shape[0], X_val.shape[1], 1))\n",
    "X_test = np.reshape(X_test, (X_test.shape[0], X_train.shape[1], 1))"
   ]
  },
  {
   "cell_type": "code",
   "execution_count": 43,
   "id": "7e76e694",
   "metadata": {
    "execution": {
     "iopub.execute_input": "2021-07-24T05:43:18.131722Z",
     "iopub.status.busy": "2021-07-24T05:43:18.130625Z",
     "iopub.status.idle": "2021-07-24T05:43:18.135868Z",
     "shell.execute_reply": "2021-07-24T05:43:18.135202Z",
     "shell.execute_reply.started": "2021-07-23T18:15:07.422818Z"
    },
    "papermill": {
     "duration": 0.672854,
     "end_time": "2021-07-24T05:43:18.136023",
     "exception": false,
     "start_time": "2021-07-24T05:43:17.463169",
     "status": "completed"
    },
    "tags": []
   },
   "outputs": [
    {
     "data": {
      "text/plain": [
       "(114014, 195, 1)"
      ]
     },
     "execution_count": 43,
     "metadata": {},
     "output_type": "execute_result"
    }
   ],
   "source": [
    "X_train.shape"
   ]
  },
  {
   "cell_type": "code",
   "execution_count": 44,
   "id": "4167b3e7",
   "metadata": {
    "execution": {
     "iopub.execute_input": "2021-07-24T05:43:19.457236Z",
     "iopub.status.busy": "2021-07-24T05:43:19.456373Z",
     "iopub.status.idle": "2021-07-24T05:43:19.459810Z",
     "shell.execute_reply": "2021-07-24T05:43:19.460306Z",
     "shell.execute_reply.started": "2021-07-23T18:15:09.315980Z"
    },
    "papermill": {
     "duration": 0.667925,
     "end_time": "2021-07-24T05:43:19.460522",
     "exception": false,
     "start_time": "2021-07-24T05:43:18.792597",
     "status": "completed"
    },
    "tags": []
   },
   "outputs": [
    {
     "data": {
      "text/plain": [
       "(14252, 195, 1)"
      ]
     },
     "execution_count": 44,
     "metadata": {},
     "output_type": "execute_result"
    }
   ],
   "source": [
    "X_val.shape"
   ]
  },
  {
   "cell_type": "code",
   "execution_count": 45,
   "id": "503d44b7",
   "metadata": {
    "execution": {
     "iopub.execute_input": "2021-07-24T05:43:20.836462Z",
     "iopub.status.busy": "2021-07-24T05:43:20.835424Z",
     "iopub.status.idle": "2021-07-24T05:43:21.617671Z",
     "shell.execute_reply": "2021-07-24T05:43:21.616419Z",
     "shell.execute_reply.started": "2021-07-23T18:33:57.393953Z"
    },
    "papermill": {
     "duration": 1.476608,
     "end_time": "2021-07-24T05:43:21.617860",
     "exception": false,
     "start_time": "2021-07-24T05:43:20.141252",
     "status": "completed"
    },
    "tags": []
   },
   "outputs": [],
   "source": [
    "batch_size = 64\n",
    "model2 = Sequential()\n",
    "model2.add(LSTM(16, input_shape=(195,1), return_sequences=True))\n",
    "model2.add(LSTM(16, return_sequences=True))\n",
    "model2.add(LSTM(16, return_sequences=True))\n",
    "model2.add(Dense(2, activation='softmax'))\n",
    "model2.compile(loss='categorical_crossentropy',optimizer='adam',metrics=['accuracy'])"
   ]
  },
  {
   "cell_type": "code",
   "execution_count": 46,
   "id": "d000f772",
   "metadata": {
    "execution": {
     "iopub.execute_input": "2021-07-24T05:43:22.946968Z",
     "iopub.status.busy": "2021-07-24T05:43:22.946034Z",
     "iopub.status.idle": "2021-07-24T05:43:22.951648Z",
     "shell.execute_reply": "2021-07-24T05:43:22.950876Z",
     "shell.execute_reply.started": "2021-07-23T18:33:59.209906Z"
    },
    "papermill": {
     "duration": 0.671981,
     "end_time": "2021-07-24T05:43:22.951822",
     "exception": false,
     "start_time": "2021-07-24T05:43:22.279841",
     "status": "completed"
    },
    "tags": []
   },
   "outputs": [],
   "source": [
    "# history2 = model2.fit(X_train, train_y, validation_data=(X_val, val_y), epochs=20)"
   ]
  },
  {
   "cell_type": "code",
   "execution_count": 47,
   "id": "740e13ec",
   "metadata": {
    "execution": {
     "iopub.execute_input": "2021-07-24T05:43:24.279063Z",
     "iopub.status.busy": "2021-07-24T05:43:24.278346Z",
     "iopub.status.idle": "2021-07-24T05:43:24.280969Z",
     "shell.execute_reply": "2021-07-24T05:43:24.281469Z",
     "shell.execute_reply.started": "2021-07-23T18:29:48.063116Z"
    },
    "papermill": {
     "duration": 0.670705,
     "end_time": "2021-07-24T05:43:24.281684",
     "exception": false,
     "start_time": "2021-07-24T05:43:23.610979",
     "status": "completed"
    },
    "tags": []
   },
   "outputs": [],
   "source": [
    "# pred2 = model2.predict(X_test)\n",
    "# pred2 = np.argmax(pred2,axis=1)"
   ]
  },
  {
   "cell_type": "code",
   "execution_count": 48,
   "id": "75173a6b",
   "metadata": {
    "execution": {
     "iopub.execute_input": "2021-07-24T05:43:25.595391Z",
     "iopub.status.busy": "2021-07-24T05:43:25.594746Z",
     "iopub.status.idle": "2021-07-24T05:43:25.597596Z",
     "shell.execute_reply": "2021-07-24T05:43:25.598063Z",
     "shell.execute_reply.started": "2021-07-23T18:30:25.773401Z"
    },
    "papermill": {
     "duration": 0.660072,
     "end_time": "2021-07-24T05:43:25.598256",
     "exception": false,
     "start_time": "2021-07-24T05:43:24.938184",
     "status": "completed"
    },
    "tags": []
   },
   "outputs": [],
   "source": [
    "# score2 = metrics.accuracy_score(test_y, pred2)\n",
    "# print(\"Validation score: {}\".format(score2))"
   ]
  },
  {
   "cell_type": "code",
   "execution_count": 49,
   "id": "c2f0798d",
   "metadata": {
    "execution": {
     "iopub.execute_input": "2021-07-24T05:43:26.947693Z",
     "iopub.status.busy": "2021-07-24T05:43:26.946960Z",
     "iopub.status.idle": "2021-07-24T05:43:26.949880Z",
     "shell.execute_reply": "2021-07-24T05:43:26.950363Z"
    },
    "papermill": {
     "duration": 0.69034,
     "end_time": "2021-07-24T05:43:26.950601",
     "exception": false,
     "start_time": "2021-07-24T05:43:26.260261",
     "status": "completed"
    },
    "tags": []
   },
   "outputs": [],
   "source": [
    "# cm2 = confusion_matrix(test_y, pred2)\n",
    "# plot_confusion_matrix(cm           = cm2, \n",
    "#                       normalize    = False,\n",
    "#                       target_names = ['Legitimate', 'Phishing'],\n",
    "#                       title        = \"Confusion matrix of LSTM Network\")"
   ]
  },
  {
   "cell_type": "code",
   "execution_count": 50,
   "id": "1f16ce22",
   "metadata": {
    "execution": {
     "iopub.execute_input": "2021-07-24T05:43:28.275215Z",
     "iopub.status.busy": "2021-07-24T05:43:28.274522Z",
     "iopub.status.idle": "2021-07-24T05:43:28.278402Z",
     "shell.execute_reply": "2021-07-24T05:43:28.277902Z"
    },
    "papermill": {
     "duration": 0.667501,
     "end_time": "2021-07-24T05:43:28.278572",
     "exception": false,
     "start_time": "2021-07-24T05:43:27.611071",
     "status": "completed"
    },
    "tags": []
   },
   "outputs": [],
   "source": [
    "# plt.plot(history2.history['accuracy'])\n",
    "# plt.plot(history2.history['val_accuracy'])\n",
    "# plt.title('LSTM Model accuracy')\n",
    "# plt.ylabel('Accuracy')\n",
    "# plt.xlabel('Epoch')\n",
    "# plt.legend(['Train', 'Test'], loc='upper left')\n",
    "# plt.show()"
   ]
  },
  {
   "cell_type": "code",
   "execution_count": 51,
   "id": "19fb07d7",
   "metadata": {
    "execution": {
     "iopub.execute_input": "2021-07-24T05:43:29.665212Z",
     "iopub.status.busy": "2021-07-24T05:43:29.664353Z",
     "iopub.status.idle": "2021-07-24T05:43:29.667418Z",
     "shell.execute_reply": "2021-07-24T05:43:29.666868Z"
    },
    "papermill": {
     "duration": 0.728051,
     "end_time": "2021-07-24T05:43:29.667604",
     "exception": false,
     "start_time": "2021-07-24T05:43:28.939553",
     "status": "completed"
    },
    "tags": []
   },
   "outputs": [],
   "source": [
    "# plt.plot(history2.history['loss']) \n",
    "# plt.plot(history2.history['val_loss']) \n",
    "# plt.title('LSTM Model loss') \n",
    "# plt.ylabel('Loss') \n",
    "# plt.xlabel('Epoch') \n",
    "# plt.legend(['Train', 'Test'], loc='upper left') \n",
    "# plt.show()"
   ]
  },
  {
   "cell_type": "code",
   "execution_count": null,
   "id": "883c3b5a",
   "metadata": {
    "papermill": {
     "duration": 0.661374,
     "end_time": "2021-07-24T05:43:30.987318",
     "exception": false,
     "start_time": "2021-07-24T05:43:30.325944",
     "status": "completed"
    },
    "tags": []
   },
   "outputs": [],
   "source": []
  },
  {
   "cell_type": "code",
   "execution_count": 52,
   "id": "75ccd3c9",
   "metadata": {
    "execution": {
     "iopub.execute_input": "2021-07-24T05:43:32.407235Z",
     "iopub.status.busy": "2021-07-24T05:43:32.405550Z",
     "iopub.status.idle": "2021-07-24T05:43:33.528588Z",
     "shell.execute_reply": "2021-07-24T05:43:33.529327Z",
     "shell.execute_reply.started": "2021-07-23T17:09:10.394768Z"
    },
    "papermill": {
     "duration": 1.859222,
     "end_time": "2021-07-24T05:43:33.529773",
     "exception": false,
     "start_time": "2021-07-24T05:43:31.670551",
     "status": "completed"
    },
    "tags": []
   },
   "outputs": [],
   "source": [
    "batch_size = 64\n",
    "model3 = Sequential()\n",
    "model3.add(Convolution1D(64, kernel_size=122, padding=\"same\",activation=\"relu\",input_shape=(195, 1)))\n",
    "model3.add(MaxPooling1D(pool_size=(5)))\n",
    "model3.add(BatchNormalization())\n",
    "model3.add(Bidirectional(LSTM(64, return_sequences=False))) \n",
    "model3.add(Reshape((128, 1), input_shape = (128, )))\n",
    "model3.add(MaxPooling1D(pool_size=(5)))\n",
    "model3.add(BatchNormalization())\n",
    "model3.add(Bidirectional(LSTM(128, return_sequences=False))) \n",
    "model3.add(Dropout(0.5))\n",
    "model3.add(Dense(2))\n",
    "model3.add(Activation('softmax'))\n",
    "model3.compile(loss='categorical_crossentropy',optimizer='adam',metrics=['accuracy'])"
   ]
  },
  {
   "cell_type": "code",
   "execution_count": 53,
   "id": "d39e8bd2",
   "metadata": {
    "execution": {
     "iopub.execute_input": "2021-07-24T05:43:34.874918Z",
     "iopub.status.busy": "2021-07-24T05:43:34.873447Z",
     "iopub.status.idle": "2021-07-24T07:34:43.848842Z",
     "shell.execute_reply": "2021-07-24T07:34:43.849915Z",
     "shell.execute_reply.started": "2021-07-23T17:09:12.447865Z"
    },
    "papermill": {
     "duration": 6669.641191,
     "end_time": "2021-07-24T07:34:43.850243",
     "exception": false,
     "start_time": "2021-07-24T05:43:34.209052",
     "status": "completed"
    },
    "tags": []
   },
   "outputs": [
    {
     "name": "stdout",
     "output_type": "stream",
     "text": [
      "Epoch 1/20\n",
      "3563/3563 [==============================] - 332s 91ms/step - loss: 0.3248 - accuracy: 0.8815 - val_loss: 0.4342 - val_accuracy: 0.8926\n",
      "Epoch 2/20\n",
      "3563/3563 [==============================] - 328s 92ms/step - loss: 0.2658 - accuracy: 0.9095 - val_loss: 0.2857 - val_accuracy: 0.9015\n",
      "Epoch 3/20\n",
      "3563/3563 [==============================] - 330s 92ms/step - loss: 0.2488 - accuracy: 0.9164 - val_loss: 0.4542 - val_accuracy: 0.5515\n",
      "Epoch 4/20\n",
      "3563/3563 [==============================] - 331s 93ms/step - loss: 0.2437 - accuracy: 0.9176 - val_loss: 0.2592 - val_accuracy: 0.9139\n",
      "Epoch 5/20\n",
      "3563/3563 [==============================] - 329s 92ms/step - loss: 0.2406 - accuracy: 0.9188 - val_loss: 0.5592 - val_accuracy: 0.5097\n",
      "Epoch 6/20\n",
      "3563/3563 [==============================] - 330s 93ms/step - loss: 0.2362 - accuracy: 0.9199 - val_loss: 0.6252 - val_accuracy: 0.5093\n",
      "Epoch 7/20\n",
      "3563/3563 [==============================] - 335s 94ms/step - loss: 0.2354 - accuracy: 0.9203 - val_loss: 0.2699 - val_accuracy: 0.9023\n",
      "Epoch 8/20\n",
      "3563/3563 [==============================] - 333s 94ms/step - loss: 0.2304 - accuracy: 0.9233 - val_loss: 0.5728 - val_accuracy: 0.5135\n",
      "Epoch 9/20\n",
      "3563/3563 [==============================] - 329s 92ms/step - loss: 0.2278 - accuracy: 0.9245 - val_loss: 0.2391 - val_accuracy: 0.9172\n",
      "Epoch 10/20\n",
      "3563/3563 [==============================] - 334s 94ms/step - loss: 0.2259 - accuracy: 0.9245 - val_loss: 0.2469 - val_accuracy: 0.9183\n",
      "Epoch 11/20\n",
      "3563/3563 [==============================] - 336s 94ms/step - loss: 0.2245 - accuracy: 0.9247 - val_loss: 0.2326 - val_accuracy: 0.9230\n",
      "Epoch 12/20\n",
      "3563/3563 [==============================] - 335s 94ms/step - loss: 0.2231 - accuracy: 0.9244 - val_loss: 0.2839 - val_accuracy: 0.9119\n",
      "Epoch 13/20\n",
      "3563/3563 [==============================] - 335s 94ms/step - loss: 0.2226 - accuracy: 0.9254 - val_loss: 0.2252 - val_accuracy: 0.9243\n",
      "Epoch 14/20\n",
      "3563/3563 [==============================] - 342s 96ms/step - loss: 0.2224 - accuracy: 0.9256 - val_loss: 0.2351 - val_accuracy: 0.9200\n",
      "Epoch 15/20\n",
      "3563/3563 [==============================] - 337s 95ms/step - loss: 0.2184 - accuracy: 0.9271 - val_loss: 0.2459 - val_accuracy: 0.9188\n",
      "Epoch 16/20\n",
      "3563/3563 [==============================] - 341s 96ms/step - loss: 0.2152 - accuracy: 0.9273 - val_loss: 0.2403 - val_accuracy: 0.9168\n",
      "Epoch 17/20\n",
      "3563/3563 [==============================] - 332s 93ms/step - loss: 0.2130 - accuracy: 0.9287 - val_loss: 0.2450 - val_accuracy: 0.9180\n",
      "Epoch 18/20\n",
      "3563/3563 [==============================] - 329s 92ms/step - loss: 0.2141 - accuracy: 0.9290 - val_loss: 0.2307 - val_accuracy: 0.9230\n",
      "Epoch 19/20\n",
      "3563/3563 [==============================] - 340s 95ms/step - loss: 0.2152 - accuracy: 0.9275 - val_loss: 0.2467 - val_accuracy: 0.9203\n",
      "Epoch 20/20\n",
      "3563/3563 [==============================] - 332s 93ms/step - loss: 0.2104 - accuracy: 0.9299 - val_loss: 0.2238 - val_accuracy: 0.9246\n"
     ]
    }
   ],
   "source": [
    "history3=model3.fit(X_train, train_y,validation_data=(X_val,val_y), epochs=20)"
   ]
  },
  {
   "cell_type": "code",
   "execution_count": 54,
   "id": "a4cf7386",
   "metadata": {
    "execution": {
     "iopub.execute_input": "2021-07-24T07:35:29.926108Z",
     "iopub.status.busy": "2021-07-24T07:35:29.925236Z",
     "iopub.status.idle": "2021-07-24T07:35:44.314902Z",
     "shell.execute_reply": "2021-07-24T07:35:44.315470Z",
     "shell.execute_reply.started": "2021-07-23T17:38:03.840877Z"
    },
    "papermill": {
     "duration": 37.375125,
     "end_time": "2021-07-24T07:35:44.315692",
     "exception": false,
     "start_time": "2021-07-24T07:35:06.940567",
     "status": "completed"
    },
    "tags": []
   },
   "outputs": [
    {
     "name": "stdout",
     "output_type": "stream",
     "text": [
      "Validation score: 0.9287117597530171\n"
     ]
    }
   ],
   "source": [
    "pred3 = model3.predict(X_test)\n",
    "pred3 = np.argmax(pred3,axis=1)\n",
    "score3 = metrics.accuracy_score(test_y, pred3)\n",
    "print(\"Validation score: {}\".format(score3))"
   ]
  },
  {
   "cell_type": "code",
   "execution_count": 55,
   "id": "ed194a01",
   "metadata": {
    "execution": {
     "iopub.execute_input": "2021-07-24T07:36:30.174153Z",
     "iopub.status.busy": "2021-07-24T07:36:30.173416Z",
     "iopub.status.idle": "2021-07-24T07:36:30.176777Z",
     "shell.execute_reply": "2021-07-24T07:36:30.177366Z",
     "shell.execute_reply.started": "2021-07-23T17:38:19.989904Z"
    },
    "papermill": {
     "duration": 22.831287,
     "end_time": "2021-07-24T07:36:30.177575",
     "exception": false,
     "start_time": "2021-07-24T07:36:07.346288",
     "status": "completed"
    },
    "tags": []
   },
   "outputs": [
    {
     "data": {
      "text/plain": [
       "(14252,)"
      ]
     },
     "execution_count": 55,
     "metadata": {},
     "output_type": "execute_result"
    }
   ],
   "source": [
    "pred3.shape"
   ]
  },
  {
   "cell_type": "code",
   "execution_count": 56,
   "id": "932e6268",
   "metadata": {
    "execution": {
     "iopub.execute_input": "2021-07-24T07:37:15.762431Z",
     "iopub.status.busy": "2021-07-24T07:37:15.761803Z",
     "iopub.status.idle": "2021-07-24T07:37:15.764569Z",
     "shell.execute_reply": "2021-07-24T07:37:15.763888Z",
     "shell.execute_reply.started": "2021-07-23T17:38:00.346590Z"
    },
    "papermill": {
     "duration": 22.811948,
     "end_time": "2021-07-24T07:37:15.764711",
     "exception": false,
     "start_time": "2021-07-24T07:36:52.952763",
     "status": "completed"
    },
    "tags": []
   },
   "outputs": [],
   "source": [
    "# test_y = np.argmax(test_y,axis=1)"
   ]
  },
  {
   "cell_type": "code",
   "execution_count": 57,
   "id": "7876bdc4",
   "metadata": {
    "execution": {
     "iopub.execute_input": "2021-07-24T07:38:01.311978Z",
     "iopub.status.busy": "2021-07-24T07:38:01.311262Z",
     "iopub.status.idle": "2021-07-24T07:38:01.664985Z",
     "shell.execute_reply": "2021-07-24T07:38:01.664203Z",
     "shell.execute_reply.started": "2021-07-23T17:38:24.099913Z"
    },
    "papermill": {
     "duration": 23.0748,
     "end_time": "2021-07-24T07:38:01.665135",
     "exception": false,
     "start_time": "2021-07-24T07:37:38.590335",
     "status": "completed"
    },
    "tags": []
   },
   "outputs": [
    {
     "data": {
      "image/png": "[encoded data removed]",
      "text/plain": [
       "<Figure size 576x432 with 2 Axes>"
      ]
     },
     "metadata": {
      "needs_background": "light"
     },
     "output_type": "display_data"
    }
   ],
   "source": [
    "cm3 = confusion_matrix(test_y, pred3)\n",
    "plot_confusion_matrix(cm           = cm3, \n",
    "                      normalize    = False,\n",
    "                      target_names = ['Legitimate', 'Phishing'],\n",
    "                      title        = \"Confusion matrix of 1-D CNN & LSTM Network\")"
   ]
  },
  {
   "cell_type": "code",
   "execution_count": 58,
   "id": "898765d1",
   "metadata": {
    "execution": {
     "iopub.execute_input": "2021-07-24T07:38:48.184851Z",
     "iopub.status.busy": "2021-07-24T07:38:48.169801Z",
     "iopub.status.idle": "2021-07-24T07:38:48.346597Z",
     "shell.execute_reply": "2021-07-24T07:38:48.346005Z",
     "shell.execute_reply.started": "2021-07-23T17:50:20.559546Z"
    },
    "papermill": {
     "duration": 23.500975,
     "end_time": "2021-07-24T07:38:48.346774",
     "exception": false,
     "start_time": "2021-07-24T07:38:24.845799",
     "status": "completed"
    },
    "tags": []
   },
   "outputs": [
    {
     "data": {
      "image/png": "[encoded data removed]",
      "text/plain": [
       "<Figure size 432x288 with 1 Axes>"
      ]
     },
     "metadata": {
      "needs_background": "light"
     },
     "output_type": "display_data"
    }
   ],
   "source": [
    "plt.plot(history3.history['accuracy'])\n",
    "plt.plot(history3.history['val_accuracy'])\n",
    "plt.title('1-D CNN BiLSTM Model accuracy')\n",
    "plt.ylabel('Accuracy')\n",
    "plt.xlabel('Epoch')\n",
    "plt.legend(['Train', 'Test'], loc='upper left')\n",
    "plt.show()"
   ]
  },
  {
   "cell_type": "code",
   "execution_count": 59,
   "id": "b3abb03b",
   "metadata": {
    "execution": {
     "iopub.execute_input": "2021-07-24T07:39:34.526194Z",
     "iopub.status.busy": "2021-07-24T07:39:34.525511Z",
     "iopub.status.idle": "2021-07-24T07:39:34.670808Z",
     "shell.execute_reply": "2021-07-24T07:39:34.671364Z"
    },
    "papermill": {
     "duration": 23.497252,
     "end_time": "2021-07-24T07:39:34.671590",
     "exception": false,
     "start_time": "2021-07-24T07:39:11.174338",
     "status": "completed"
    },
    "tags": []
   },
   "outputs": [
    {
     "data": {
      "image/png": "[encoded data removed]",
      "text/plain": [
       "<Figure size 432x288 with 1 Axes>"
      ]
     },
     "metadata": {
      "needs_background": "light"
     },
     "output_type": "display_data"
    }
   ],
   "source": [
    "plt.plot(history3.history['loss']) \n",
    "plt.plot(history3.history['val_loss']) \n",
    "plt.title('1-D CNN BiLSTM Model loss') \n",
    "plt.ylabel('Loss') \n",
    "plt.xlabel('Epoch') \n",
    "plt.legend(['Train', 'Test'], loc='upper left') \n",
    "plt.show()"
   ]
  }
 ],
 "metadata": {
  "kernelspec": {
   "display_name": "Python 3",
   "language": "python",
   "name": "python3"
  },
  "language_info": {
   "codemirror_mode": {
    "name": "ipython",
    "version": 3
   },
   "file_extension": ".py",
   "mimetype": "text/x-python",
   "name": "python",
   "nbconvert_exporter": "python",
   "pygments_lexer": "ipython3",
   "version": "3.7.10"
  },
  "papermill": {
   "default_parameters": {},
   "duration": 7185.561892,
   "end_time": "2021-07-24T07:40:01.091463",
   "environment_variables": {},
   "exception": null,
   "input_path": "__notebook__.ipynb",
   "output_path": "__notebook__.ipynb",
   "parameters": {},
   "start_time": "2021-07-24T05:40:15.529571",
   "version": "2.3.3"
  }
 },
 "nbformat": 4,
 "nbformat_minor": 5
}
