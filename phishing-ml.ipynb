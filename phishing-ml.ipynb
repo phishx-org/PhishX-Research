{
 "cells": [
  {
   "cell_type": "code",
   "execution_count": 1,
   "id": "2a6943b1",
   "metadata": {
    "_cell_guid": "cbda6ce1-f3ff-4964-aa59-f812700072c1",
    "_uuid": "b82e2310-d335-4fb2-a57e-f1ad540844e0",
    "collapsed": false,
    "execution": {
     "iopub.execute_input": "2021-07-24T15:14:12.946434Z",
     "iopub.status.busy": "2021-07-24T15:14:12.945804Z",
     "iopub.status.idle": "2021-07-24T15:14:20.304974Z",
     "shell.execute_reply": "2021-07-24T15:14:20.305457Z",
     "shell.execute_reply.started": "2021-07-24T15:12:34.496301Z"
    },
    "jupyter": {
     "outputs_hidden": false
    },
    "papermill": {
     "duration": 7.419887,
     "end_time": "2021-07-24T15:14:20.305786",
     "exception": false,
     "start_time": "2021-07-24T15:14:12.885899",
     "status": "completed"
    },
    "tags": []
   },
   "outputs": [
    {
     "name": "stdout",
     "output_type": "stream",
     "text": [
      "/kaggle/input/phishing-july/phish_8_july_phishing.csv\n",
      "/kaggle/input/phishing-july/phish_8_july_alexa.csv\n",
      "/kaggle/input/phishing-july/phishdb_8_july.csv\n"
     ]
    }
   ],
   "source": [
    "# This Python 3 environment comes with many helpful analytics libraries installed\n",
    "# It is defined by the kaggle/python Docker image: https://github.com/kaggle/docker-python\n",
    "# For example, here's several helpful packages to load\n",
    "import warnings\n",
    "warnings.filterwarnings(\"ignore\")\n",
    "import numpy as np # linear algebra\n",
    "import pandas as pd # data processing, CSV file I/O (e.g. pd.read_csv)\n",
    "from sklearn.model_selection import StratifiedKFold\n",
    "from imblearn.over_sampling import RandomOverSampler\n",
    "import time\n",
    "from sklearn.model_selection import train_test_split\n",
    "from keras.models import Sequential\n",
    "from keras.layers import Dense, Dropout, Activation, Embedding, Flatten\n",
    "from keras.layers import LSTM, SimpleRNN, GRU, Bidirectional, BatchNormalization,Convolution1D,MaxPooling1D, Reshape, GlobalAveragePooling1D\n",
    "from keras.utils import to_categorical\n",
    "from sklearn import metrics\n",
    "import matplotlib.pyplot as plt\n",
    "from xgboost import XGBClassifier\n",
    "from sklearn.model_selection import train_test_split\n",
    "from sklearn.metrics import accuracy_score\n",
    "import catboost as cb\n",
    "from sklearn.preprocessing import LabelEncoder, StandardScaler\n",
    "from sklearn.metrics import confusion_matrix\n",
    "from sklearn.model_selection import train_test_split\n",
    "from sklearn import svm, datasets\n",
    "import matplotlib.pyplot as plt\n",
    "import numpy as np\n",
    "from sklearn.neighbors import KNeighborsClassifier\n",
    "from sklearn.metrics import classification_report, confusion_matrix, accuracy_score\n",
    "from sklearn.tree import DecisionTreeClassifier\n",
    "from sklearn.ensemble import RandomForestClassifier\n",
    "from sklearn.naive_bayes import GaussianNB\n",
    "from collections import Counter\n",
    "from imblearn.over_sampling import RandomOverSampler\n",
    "from sklearn.inspection import permutation_importance\n",
    "from imblearn.under_sampling import RandomUnderSampler\n",
    "import re\n",
    "import urllib.request\n",
    "import requests\n",
    "import lxml.html as lh\n",
    "import pandas as pd\n",
    "#from bs4 import BeautifulSoup, Comment\n",
    "import pymongo\n",
    "from keras.utils import np_utils\n",
    "\n",
    "# Input data files are available in the read-only \"../input/\" directory\n",
    "# For example, running this (by clicking run or pressing Shift+Enter) will list all files under the input directory\n",
    "\n",
    "import os\n",
    "for dirname, _, filenames in os.walk('/kaggle/input'):\n",
    "    for filename in filenames:\n",
    "        print(os.path.join(dirname, filename))"
   ]
  },
  {
   "cell_type": "code",
   "execution_count": 2,
   "id": "cfb97596",
   "metadata": {
    "_cell_guid": "dd3a7885-809c-40b6-bd58-581d16862bd3",
    "_uuid": "ec6e77bb-0ac5-4d52-bf2c-58f2748c6c35",
    "collapsed": false,
    "execution": {
     "iopub.execute_input": "2021-07-24T15:14:20.408811Z",
     "iopub.status.busy": "2021-07-24T15:14:20.404700Z",
     "iopub.status.idle": "2021-07-24T15:14:23.172774Z",
     "shell.execute_reply": "2021-07-24T15:14:23.171977Z",
     "shell.execute_reply.started": "2021-07-24T15:12:42.982870Z"
    },
    "jupyter": {
     "outputs_hidden": false
    },
    "papermill": {
     "duration": 2.824106,
     "end_time": "2021-07-24T15:14:23.172924",
     "exception": false,
     "start_time": "2021-07-24T15:14:20.348818",
     "status": "completed"
    },
    "tags": []
   },
   "outputs": [],
   "source": [
    "def encode_text_dummy(df, name):\n",
    "    dummies = pd.get_dummies(df[name])\n",
    "    for x in dummies.columns:\n",
    "        dummy_name = f\"{name}-{x}\"\n",
    "        df[dummy_name] = dummies[x]\n",
    "    df.drop(name, axis=1, inplace=True)\n",
    "    \n",
    "#Function to min-max normalize\n",
    "def normalize(df, cols):\n",
    "    \"\"\"\n",
    "    @param df pandas DataFrame\n",
    "    @param cols a list of columns to encode\n",
    "    @return a DataFrame with normalized specified features\n",
    "    \"\"\"\n",
    "    result = df.copy() # do not touch the original df\n",
    "    for feature_name in cols:\n",
    "        if feature_name not in ['Result']:\n",
    "            max_value = df[feature_name].astype(float).max()\n",
    "            min_value = df[feature_name].astype(float).min()\n",
    "            if max_value > min_value:\n",
    "                result[feature_name] = (df[feature_name].astype(float) - min_value) / (max_value - min_value)\n",
    "    return result\n",
    "\n",
    "df_alexa = pd.read_csv(\"../input/phishing-july/phish_8_july_alexa.csv\")\n",
    "df_phish = pd.read_csv(\"../input/phishing-july/phishdb_8_july.csv\")\n",
    "\n",
    "def plot_confusion_matrix(cm,\n",
    "                          target_names,\n",
    "                          title='Confusion matrix',\n",
    "                          cmap=None,\n",
    "                          normalize=True):\n",
    "    \n",
    "    import matplotlib.pyplot as plt\n",
    "    import numpy as np\n",
    "    import itertools\n",
    "\n",
    "    accuracy = np.trace(cm) / float(np.sum(cm))\n",
    "    misclass = 1 - accuracy\n",
    "\n",
    "    if cmap is None:\n",
    "        cmap = plt.get_cmap('Blues')\n",
    "\n",
    "    plt.figure(figsize=(8, 6))\n",
    "    plt.imshow(cm, interpolation='nearest', cmap=cmap)\n",
    "    plt.title(title)\n",
    "    plt.colorbar()\n",
    "\n",
    "    if target_names is not None:\n",
    "        tick_marks = np.arange(len(target_names))\n",
    "        plt.xticks(tick_marks, target_names, rotation=45)\n",
    "        plt.yticks(tick_marks, target_names)\n",
    "\n",
    "    if normalize:\n",
    "        cm = cm.astype('float') / cm.sum(axis=1)[:, np.newaxis]\n",
    "\n",
    "\n",
    "    thresh = cm.max() / 1.5 if normalize else cm.max() / 2\n",
    "    for i, j in itertools.product(range(cm.shape[0]), range(cm.shape[1])):\n",
    "        if normalize:\n",
    "            plt.text(j, i, \"{:0.4f}\".format(cm[i, j]),\n",
    "                     horizontalalignment=\"center\",\n",
    "                     color=\"white\" if cm[i, j] > thresh else \"black\")\n",
    "        else:\n",
    "            plt.text(j, i, \"{:,}\".format(cm[i, j]),\n",
    "                     horizontalalignment=\"center\",\n",
    "                     color=\"white\" if cm[i, j] > thresh else \"black\")\n",
    "\n",
    "\n",
    "    plt.tight_layout()\n",
    "    plt.ylabel('True label')\n",
    "    plt.xlabel('Predicted label\\naccuracy={:0.4f}; misclass={:0.4f}'.format(accuracy, misclass))\n",
    "    plt.show()\n",
    "    plt.savefig('./random_forest_cm.png')"
   ]
  },
  {
   "cell_type": "code",
   "execution_count": 3,
   "id": "63d64ca2",
   "metadata": {
    "execution": {
     "iopub.execute_input": "2021-07-24T15:14:23.267452Z",
     "iopub.status.busy": "2021-07-24T15:14:23.266795Z",
     "iopub.status.idle": "2021-07-24T15:14:23.273548Z",
     "shell.execute_reply": "2021-07-24T15:14:23.274093Z",
     "shell.execute_reply.started": "2021-07-24T15:12:45.983178Z"
    },
    "papermill": {
     "duration": 0.057443,
     "end_time": "2021-07-24T15:14:23.274253",
     "exception": false,
     "start_time": "2021-07-24T15:14:23.216810",
     "status": "completed"
    },
    "tags": []
   },
   "outputs": [],
   "source": [
    "df_alexa['phishing'] = 0\n",
    "df_phish['phishing'] = 1"
   ]
  },
  {
   "cell_type": "code",
   "execution_count": 4,
   "id": "f26c3789",
   "metadata": {
    "execution": {
     "iopub.execute_input": "2021-07-24T15:14:23.363147Z",
     "iopub.status.busy": "2021-07-24T15:14:23.362478Z",
     "iopub.status.idle": "2021-07-24T15:14:23.364984Z",
     "shell.execute_reply": "2021-07-24T15:14:23.365453Z",
     "shell.execute_reply.started": "2021-07-24T15:12:45.999069Z"
    },
    "papermill": {
     "duration": 0.049108,
     "end_time": "2021-07-24T15:14:23.365634",
     "exception": false,
     "start_time": "2021-07-24T15:14:23.316526",
     "status": "completed"
    },
    "tags": []
   },
   "outputs": [
    {
     "name": "stdout",
     "output_type": "stream",
     "text": [
      "198\n",
      "160\n"
     ]
    }
   ],
   "source": [
    "print(len(df_alexa.columns))\n",
    "print(len(df_phish.columns))"
   ]
  },
  {
   "cell_type": "code",
   "execution_count": 5,
   "id": "71ebca0e",
   "metadata": {
    "execution": {
     "iopub.execute_input": "2021-07-24T15:14:23.452549Z",
     "iopub.status.busy": "2021-07-24T15:14:23.451922Z",
     "iopub.status.idle": "2021-07-24T15:14:23.758467Z",
     "shell.execute_reply": "2021-07-24T15:14:23.757966Z",
     "shell.execute_reply.started": "2021-07-24T15:12:46.011285Z"
    },
    "papermill": {
     "duration": 0.350812,
     "end_time": "2021-07-24T15:14:23.758621",
     "exception": false,
     "start_time": "2021-07-24T15:14:23.407809",
     "status": "completed"
    },
    "tags": []
   },
   "outputs": [],
   "source": [
    "frames = [df_alexa, df_phish]\n",
    "df = pd.concat(frames)"
   ]
  },
  {
   "cell_type": "code",
   "execution_count": 6,
   "id": "9dd9ba5c",
   "metadata": {
    "execution": {
     "iopub.execute_input": "2021-07-24T15:14:23.850947Z",
     "iopub.status.busy": "2021-07-24T15:14:23.850208Z",
     "iopub.status.idle": "2021-07-24T15:14:23.886052Z",
     "shell.execute_reply": "2021-07-24T15:14:23.886539Z",
     "shell.execute_reply.started": "2021-07-24T15:12:46.354065Z"
    },
    "papermill": {
     "duration": 0.086067,
     "end_time": "2021-07-24T15:14:23.886734",
     "exception": false,
     "start_time": "2021-07-24T15:14:23.800667",
     "status": "completed"
    },
    "tags": []
   },
   "outputs": [
    {
     "data": {
      "text/html": [
       "<div>\n",
       "<style scoped>\n",
       "    .dataframe tbody tr th:only-of-type {\n",
       "        vertical-align: middle;\n",
       "    }\n",
       "\n",
       "    .dataframe tbody tr th {\n",
       "        vertical-align: top;\n",
       "    }\n",
       "\n",
       "    .dataframe thead th {\n",
       "        text-align: right;\n",
       "    }\n",
       "</style>\n",
       "<table border=\"1\" class=\"dataframe\">\n",
       "  <thead>\n",
       "    <tr style=\"text-align: right;\">\n",
       "      <th></th>\n",
       "      <th>CDN</th>\n",
       "      <th>Server</th>\n",
       "      <th>Web Master</th>\n",
       "      <th>Web Server</th>\n",
       "      <th>_id</th>\n",
       "      <th>ads</th>\n",
       "      <th>ads_ad-analytics</th>\n",
       "      <th>ads_ad-blocking</th>\n",
       "      <th>ads_ad-exchange</th>\n",
       "      <th>ads_ad-network</th>\n",
       "      <th>...</th>\n",
       "      <th>widgets_wordpress-plugins</th>\n",
       "      <th>phishing</th>\n",
       "      <th>ads_bitcoin</th>\n",
       "      <th>hosting_french-hosting</th>\n",
       "      <th>hosting_italian-hosting</th>\n",
       "      <th>hosting_swiss-hosting</th>\n",
       "      <th>hosting_wordpress-hosting</th>\n",
       "      <th>shop_woocommerce-extension</th>\n",
       "      <th>shop_wordpress-plugins</th>\n",
       "      <th>widgets_joomla-module</th>\n",
       "    </tr>\n",
       "  </thead>\n",
       "  <tbody>\n",
       "    <tr>\n",
       "      <th>0</th>\n",
       "      <td>NaN</td>\n",
       "      <td>NaN</td>\n",
       "      <td>NaN</td>\n",
       "      <td>NaN</td>\n",
       "      <td>https://youtube.com</td>\n",
       "      <td>NaN</td>\n",
       "      <td>NaN</td>\n",
       "      <td>NaN</td>\n",
       "      <td>NaN</td>\n",
       "      <td>NaN</td>\n",
       "      <td>...</td>\n",
       "      <td>NaN</td>\n",
       "      <td>0</td>\n",
       "      <td>NaN</td>\n",
       "      <td>NaN</td>\n",
       "      <td>NaN</td>\n",
       "      <td>NaN</td>\n",
       "      <td>NaN</td>\n",
       "      <td>NaN</td>\n",
       "      <td>NaN</td>\n",
       "      <td>NaN</td>\n",
       "    </tr>\n",
       "    <tr>\n",
       "      <th>1</th>\n",
       "      <td>1</td>\n",
       "      <td>1</td>\n",
       "      <td>2.0</td>\n",
       "      <td>3.0</td>\n",
       "      <td>https://jd.com</td>\n",
       "      <td>2.0</td>\n",
       "      <td>NaN</td>\n",
       "      <td>NaN</td>\n",
       "      <td>NaN</td>\n",
       "      <td>NaN</td>\n",
       "      <td>...</td>\n",
       "      <td>NaN</td>\n",
       "      <td>0</td>\n",
       "      <td>NaN</td>\n",
       "      <td>NaN</td>\n",
       "      <td>NaN</td>\n",
       "      <td>NaN</td>\n",
       "      <td>NaN</td>\n",
       "      <td>NaN</td>\n",
       "      <td>NaN</td>\n",
       "      <td>NaN</td>\n",
       "    </tr>\n",
       "    <tr>\n",
       "      <th>2</th>\n",
       "      <td>1</td>\n",
       "      <td>2</td>\n",
       "      <td>4.0</td>\n",
       "      <td>4.0</td>\n",
       "      <td>https://amazon.com</td>\n",
       "      <td>17.0</td>\n",
       "      <td>0.0</td>\n",
       "      <td>NaN</td>\n",
       "      <td>0.0</td>\n",
       "      <td>0.0</td>\n",
       "      <td>...</td>\n",
       "      <td>0.0</td>\n",
       "      <td>0</td>\n",
       "      <td>NaN</td>\n",
       "      <td>NaN</td>\n",
       "      <td>NaN</td>\n",
       "      <td>NaN</td>\n",
       "      <td>NaN</td>\n",
       "      <td>NaN</td>\n",
       "      <td>NaN</td>\n",
       "      <td>NaN</td>\n",
       "    </tr>\n",
       "    <tr>\n",
       "      <th>3</th>\n",
       "      <td>1</td>\n",
       "      <td>1</td>\n",
       "      <td>2.0</td>\n",
       "      <td>3.0</td>\n",
       "      <td>https://zoom.us</td>\n",
       "      <td>11.0</td>\n",
       "      <td>0.0</td>\n",
       "      <td>NaN</td>\n",
       "      <td>1.0</td>\n",
       "      <td>2.0</td>\n",
       "      <td>...</td>\n",
       "      <td>3.0</td>\n",
       "      <td>0</td>\n",
       "      <td>NaN</td>\n",
       "      <td>NaN</td>\n",
       "      <td>NaN</td>\n",
       "      <td>NaN</td>\n",
       "      <td>NaN</td>\n",
       "      <td>NaN</td>\n",
       "      <td>NaN</td>\n",
       "      <td>NaN</td>\n",
       "    </tr>\n",
       "    <tr>\n",
       "      <th>4</th>\n",
       "      <td>1</td>\n",
       "      <td>1</td>\n",
       "      <td>2.0</td>\n",
       "      <td>9.0</td>\n",
       "      <td>https://sina.com.cn</td>\n",
       "      <td>27.0</td>\n",
       "      <td>NaN</td>\n",
       "      <td>NaN</td>\n",
       "      <td>NaN</td>\n",
       "      <td>NaN</td>\n",
       "      <td>...</td>\n",
       "      <td>NaN</td>\n",
       "      <td>0</td>\n",
       "      <td>NaN</td>\n",
       "      <td>NaN</td>\n",
       "      <td>NaN</td>\n",
       "      <td>NaN</td>\n",
       "      <td>NaN</td>\n",
       "      <td>NaN</td>\n",
       "      <td>NaN</td>\n",
       "      <td>NaN</td>\n",
       "    </tr>\n",
       "  </tbody>\n",
       "</table>\n",
       "<p>5 rows × 206 columns</p>\n",
       "</div>"
      ],
      "text/plain": [
       "   CDN Server  Web Master  Web Server                  _id   ads  \\\n",
       "0  NaN    NaN         NaN         NaN  https://youtube.com   NaN   \n",
       "1    1      1         2.0         3.0       https://jd.com   2.0   \n",
       "2    1      2         4.0         4.0   https://amazon.com  17.0   \n",
       "3    1      1         2.0         3.0      https://zoom.us  11.0   \n",
       "4    1      1         2.0         9.0  https://sina.com.cn  27.0   \n",
       "\n",
       "   ads_ad-analytics  ads_ad-blocking  ads_ad-exchange  ads_ad-network  ...  \\\n",
       "0               NaN              NaN              NaN             NaN  ...   \n",
       "1               NaN              NaN              NaN             NaN  ...   \n",
       "2               0.0              NaN              0.0             0.0  ...   \n",
       "3               0.0              NaN              1.0             2.0  ...   \n",
       "4               NaN              NaN              NaN             NaN  ...   \n",
       "\n",
       "   widgets_wordpress-plugins  phishing  ads_bitcoin  hosting_french-hosting  \\\n",
       "0                        NaN         0          NaN                     NaN   \n",
       "1                        NaN         0          NaN                     NaN   \n",
       "2                        0.0         0          NaN                     NaN   \n",
       "3                        3.0         0          NaN                     NaN   \n",
       "4                        NaN         0          NaN                     NaN   \n",
       "\n",
       "   hosting_italian-hosting  hosting_swiss-hosting  hosting_wordpress-hosting  \\\n",
       "0                      NaN                    NaN                        NaN   \n",
       "1                      NaN                    NaN                        NaN   \n",
       "2                      NaN                    NaN                        NaN   \n",
       "3                      NaN                    NaN                        NaN   \n",
       "4                      NaN                    NaN                        NaN   \n",
       "\n",
       "   shop_woocommerce-extension  shop_wordpress-plugins  widgets_joomla-module  \n",
       "0                         NaN                     NaN                    NaN  \n",
       "1                         NaN                     NaN                    NaN  \n",
       "2                         NaN                     NaN                    NaN  \n",
       "3                         NaN                     NaN                    NaN  \n",
       "4                         NaN                     NaN                    NaN  \n",
       "\n",
       "[5 rows x 206 columns]"
      ]
     },
     "execution_count": 6,
     "metadata": {},
     "output_type": "execute_result"
    }
   ],
   "source": [
    "df.head()"
   ]
  },
  {
   "cell_type": "code",
   "execution_count": 7,
   "id": "bd9b9c97",
   "metadata": {
    "_cell_guid": "924751de-7406-4ca1-ab31-194f210c29ca",
    "_uuid": "b6b10bad-bd98-412f-9dd6-b752008cfc1b",
    "collapsed": false,
    "execution": {
     "iopub.execute_input": "2021-07-24T15:14:23.973921Z",
     "iopub.status.busy": "2021-07-24T15:14:23.973121Z",
     "iopub.status.idle": "2021-07-24T15:14:25.078904Z",
     "shell.execute_reply": "2021-07-24T15:14:25.079452Z",
     "shell.execute_reply.started": "2021-07-24T15:12:46.404163Z"
    },
    "jupyter": {
     "outputs_hidden": false
    },
    "papermill": {
     "duration": 1.150959,
     "end_time": "2021-07-24T15:14:25.079636",
     "exception": false,
     "start_time": "2021-07-24T15:14:23.928677",
     "status": "completed"
    },
    "tags": []
   },
   "outputs": [],
   "source": [
    "df = df.drop('_id', axis=1)\n",
    "df = df.drop('description', axis=1)\n",
    "df = df.drop('title', axis=1)\n",
    "df = df.drop('http', axis=1)\n",
    "df = df.drop('https', axis=1)\n",
    "df = df.drop('url', axis=1)\n",
    "df = df.drop('CDN', axis=1)\n",
    "df = df.drop('Server', axis=1)\n",
    "df = df.drop('alexa', axis=1)\n",
    "df = df.drop('status', axis=1)"
   ]
  },
  {
   "cell_type": "code",
   "execution_count": 8,
   "id": "25c0b479",
   "metadata": {
    "_cell_guid": "f88c8b53-cdc3-4fb2-8e20-57212366a139",
    "_uuid": "dc03fc05-6103-4b20-bb7e-2e2c1a7316fd",
    "collapsed": false,
    "execution": {
     "iopub.execute_input": "2021-07-24T15:14:25.174365Z",
     "iopub.status.busy": "2021-07-24T15:14:25.173431Z",
     "iopub.status.idle": "2021-07-24T15:14:25.207417Z",
     "shell.execute_reply": "2021-07-24T15:14:25.208267Z",
     "shell.execute_reply.started": "2021-07-24T15:12:47.556963Z"
    },
    "jupyter": {
     "outputs_hidden": false
    },
    "papermill": {
     "duration": 0.085844,
     "end_time": "2021-07-24T15:14:25.208530",
     "exception": false,
     "start_time": "2021-07-24T15:14:25.122686",
     "status": "completed"
    },
    "tags": []
   },
   "outputs": [
    {
     "data": {
      "text/html": [
       "<div>\n",
       "<style scoped>\n",
       "    .dataframe tbody tr th:only-of-type {\n",
       "        vertical-align: middle;\n",
       "    }\n",
       "\n",
       "    .dataframe tbody tr th {\n",
       "        vertical-align: top;\n",
       "    }\n",
       "\n",
       "    .dataframe thead th {\n",
       "        text-align: right;\n",
       "    }\n",
       "</style>\n",
       "<table border=\"1\" class=\"dataframe\">\n",
       "  <thead>\n",
       "    <tr style=\"text-align: right;\">\n",
       "      <th></th>\n",
       "      <th>Web Master</th>\n",
       "      <th>Web Server</th>\n",
       "      <th>ads</th>\n",
       "      <th>ads_ad-analytics</th>\n",
       "      <th>ads_ad-blocking</th>\n",
       "      <th>ads_ad-exchange</th>\n",
       "      <th>ads_ad-network</th>\n",
       "      <th>ads_ad-server</th>\n",
       "      <th>ads_ads-txt</th>\n",
       "      <th>ads_adult</th>\n",
       "      <th>...</th>\n",
       "      <th>widgets_wordpress-plugins</th>\n",
       "      <th>phishing</th>\n",
       "      <th>ads_bitcoin</th>\n",
       "      <th>hosting_french-hosting</th>\n",
       "      <th>hosting_italian-hosting</th>\n",
       "      <th>hosting_swiss-hosting</th>\n",
       "      <th>hosting_wordpress-hosting</th>\n",
       "      <th>shop_woocommerce-extension</th>\n",
       "      <th>shop_wordpress-plugins</th>\n",
       "      <th>widgets_joomla-module</th>\n",
       "    </tr>\n",
       "  </thead>\n",
       "  <tbody>\n",
       "    <tr>\n",
       "      <th>0</th>\n",
       "      <td>NaN</td>\n",
       "      <td>NaN</td>\n",
       "      <td>NaN</td>\n",
       "      <td>NaN</td>\n",
       "      <td>NaN</td>\n",
       "      <td>NaN</td>\n",
       "      <td>NaN</td>\n",
       "      <td>NaN</td>\n",
       "      <td>NaN</td>\n",
       "      <td>NaN</td>\n",
       "      <td>...</td>\n",
       "      <td>NaN</td>\n",
       "      <td>0</td>\n",
       "      <td>NaN</td>\n",
       "      <td>NaN</td>\n",
       "      <td>NaN</td>\n",
       "      <td>NaN</td>\n",
       "      <td>NaN</td>\n",
       "      <td>NaN</td>\n",
       "      <td>NaN</td>\n",
       "      <td>NaN</td>\n",
       "    </tr>\n",
       "    <tr>\n",
       "      <th>1</th>\n",
       "      <td>2.0</td>\n",
       "      <td>3.0</td>\n",
       "      <td>2.0</td>\n",
       "      <td>NaN</td>\n",
       "      <td>NaN</td>\n",
       "      <td>NaN</td>\n",
       "      <td>NaN</td>\n",
       "      <td>NaN</td>\n",
       "      <td>NaN</td>\n",
       "      <td>NaN</td>\n",
       "      <td>...</td>\n",
       "      <td>NaN</td>\n",
       "      <td>0</td>\n",
       "      <td>NaN</td>\n",
       "      <td>NaN</td>\n",
       "      <td>NaN</td>\n",
       "      <td>NaN</td>\n",
       "      <td>NaN</td>\n",
       "      <td>NaN</td>\n",
       "      <td>NaN</td>\n",
       "      <td>NaN</td>\n",
       "    </tr>\n",
       "    <tr>\n",
       "      <th>2</th>\n",
       "      <td>4.0</td>\n",
       "      <td>4.0</td>\n",
       "      <td>17.0</td>\n",
       "      <td>0.0</td>\n",
       "      <td>NaN</td>\n",
       "      <td>0.0</td>\n",
       "      <td>0.0</td>\n",
       "      <td>1.0</td>\n",
       "      <td>1.0</td>\n",
       "      <td>NaN</td>\n",
       "      <td>...</td>\n",
       "      <td>0.0</td>\n",
       "      <td>0</td>\n",
       "      <td>NaN</td>\n",
       "      <td>NaN</td>\n",
       "      <td>NaN</td>\n",
       "      <td>NaN</td>\n",
       "      <td>NaN</td>\n",
       "      <td>NaN</td>\n",
       "      <td>NaN</td>\n",
       "      <td>NaN</td>\n",
       "    </tr>\n",
       "    <tr>\n",
       "      <th>3</th>\n",
       "      <td>2.0</td>\n",
       "      <td>3.0</td>\n",
       "      <td>11.0</td>\n",
       "      <td>0.0</td>\n",
       "      <td>NaN</td>\n",
       "      <td>1.0</td>\n",
       "      <td>2.0</td>\n",
       "      <td>1.0</td>\n",
       "      <td>NaN</td>\n",
       "      <td>NaN</td>\n",
       "      <td>...</td>\n",
       "      <td>3.0</td>\n",
       "      <td>0</td>\n",
       "      <td>NaN</td>\n",
       "      <td>NaN</td>\n",
       "      <td>NaN</td>\n",
       "      <td>NaN</td>\n",
       "      <td>NaN</td>\n",
       "      <td>NaN</td>\n",
       "      <td>NaN</td>\n",
       "      <td>NaN</td>\n",
       "    </tr>\n",
       "    <tr>\n",
       "      <th>4</th>\n",
       "      <td>2.0</td>\n",
       "      <td>9.0</td>\n",
       "      <td>27.0</td>\n",
       "      <td>NaN</td>\n",
       "      <td>NaN</td>\n",
       "      <td>NaN</td>\n",
       "      <td>NaN</td>\n",
       "      <td>NaN</td>\n",
       "      <td>19.0</td>\n",
       "      <td>NaN</td>\n",
       "      <td>...</td>\n",
       "      <td>NaN</td>\n",
       "      <td>0</td>\n",
       "      <td>NaN</td>\n",
       "      <td>NaN</td>\n",
       "      <td>NaN</td>\n",
       "      <td>NaN</td>\n",
       "      <td>NaN</td>\n",
       "      <td>NaN</td>\n",
       "      <td>NaN</td>\n",
       "      <td>NaN</td>\n",
       "    </tr>\n",
       "  </tbody>\n",
       "</table>\n",
       "<p>5 rows × 196 columns</p>\n",
       "</div>"
      ],
      "text/plain": [
       "   Web Master  Web Server   ads  ads_ad-analytics  ads_ad-blocking  \\\n",
       "0         NaN         NaN   NaN               NaN              NaN   \n",
       "1         2.0         3.0   2.0               NaN              NaN   \n",
       "2         4.0         4.0  17.0               0.0              NaN   \n",
       "3         2.0         3.0  11.0               0.0              NaN   \n",
       "4         2.0         9.0  27.0               NaN              NaN   \n",
       "\n",
       "   ads_ad-exchange  ads_ad-network  ads_ad-server  ads_ads-txt  ads_adult  \\\n",
       "0              NaN             NaN            NaN          NaN        NaN   \n",
       "1              NaN             NaN            NaN          NaN        NaN   \n",
       "2              0.0             0.0            1.0          1.0        NaN   \n",
       "3              1.0             2.0            1.0          NaN        NaN   \n",
       "4              NaN             NaN            NaN         19.0        NaN   \n",
       "\n",
       "   ...  widgets_wordpress-plugins  phishing  ads_bitcoin  \\\n",
       "0  ...                        NaN         0          NaN   \n",
       "1  ...                        NaN         0          NaN   \n",
       "2  ...                        0.0         0          NaN   \n",
       "3  ...                        3.0         0          NaN   \n",
       "4  ...                        NaN         0          NaN   \n",
       "\n",
       "   hosting_french-hosting  hosting_italian-hosting  hosting_swiss-hosting  \\\n",
       "0                     NaN                      NaN                    NaN   \n",
       "1                     NaN                      NaN                    NaN   \n",
       "2                     NaN                      NaN                    NaN   \n",
       "3                     NaN                      NaN                    NaN   \n",
       "4                     NaN                      NaN                    NaN   \n",
       "\n",
       "   hosting_wordpress-hosting  shop_woocommerce-extension  \\\n",
       "0                        NaN                         NaN   \n",
       "1                        NaN                         NaN   \n",
       "2                        NaN                         NaN   \n",
       "3                        NaN                         NaN   \n",
       "4                        NaN                         NaN   \n",
       "\n",
       "   shop_wordpress-plugins  widgets_joomla-module  \n",
       "0                     NaN                    NaN  \n",
       "1                     NaN                    NaN  \n",
       "2                     NaN                    NaN  \n",
       "3                     NaN                    NaN  \n",
       "4                     NaN                    NaN  \n",
       "\n",
       "[5 rows x 196 columns]"
      ]
     },
     "execution_count": 8,
     "metadata": {},
     "output_type": "execute_result"
    }
   ],
   "source": [
    "df.head()"
   ]
  },
  {
   "cell_type": "code",
   "execution_count": 9,
   "id": "ee4decde",
   "metadata": {
    "_cell_guid": "80a6b807-c5df-4f7c-ae20-3f52c27c04c5",
    "_uuid": "ea8ff600-3530-4f04-814d-1e8dfc3b535d",
    "collapsed": false,
    "execution": {
     "iopub.execute_input": "2021-07-24T15:14:25.313553Z",
     "iopub.status.busy": "2021-07-24T15:14:25.312960Z",
     "iopub.status.idle": "2021-07-24T15:14:25.749690Z",
     "shell.execute_reply": "2021-07-24T15:14:25.749125Z",
     "shell.execute_reply.started": "2021-07-24T15:12:47.589588Z"
    },
    "jupyter": {
     "outputs_hidden": false
    },
    "papermill": {
     "duration": 0.48257,
     "end_time": "2021-07-24T15:14:25.749839",
     "exception": false,
     "start_time": "2021-07-24T15:14:25.267269",
     "status": "completed"
    },
    "tags": []
   },
   "outputs": [],
   "source": [
    "df = df.fillna(0)"
   ]
  },
  {
   "cell_type": "code",
   "execution_count": 10,
   "id": "a13b7784",
   "metadata": {
    "_cell_guid": "e7ea0a32-9811-4174-92bd-c5472406dc79",
    "_uuid": "879d4a90-e4d0-43bc-888b-1e88098545e6",
    "collapsed": false,
    "execution": {
     "iopub.execute_input": "2021-07-24T15:14:25.855164Z",
     "iopub.status.busy": "2021-07-24T15:14:25.841551Z",
     "iopub.status.idle": "2021-07-24T15:14:25.875930Z",
     "shell.execute_reply": "2021-07-24T15:14:25.875357Z",
     "shell.execute_reply.started": "2021-07-24T15:12:48.034742Z"
    },
    "jupyter": {
     "outputs_hidden": false
    },
    "papermill": {
     "duration": 0.082939,
     "end_time": "2021-07-24T15:14:25.876070",
     "exception": false,
     "start_time": "2021-07-24T15:14:25.793131",
     "status": "completed"
    },
    "tags": []
   },
   "outputs": [
    {
     "data": {
      "text/html": [
       "<div>\n",
       "<style scoped>\n",
       "    .dataframe tbody tr th:only-of-type {\n",
       "        vertical-align: middle;\n",
       "    }\n",
       "\n",
       "    .dataframe tbody tr th {\n",
       "        vertical-align: top;\n",
       "    }\n",
       "\n",
       "    .dataframe thead th {\n",
       "        text-align: right;\n",
       "    }\n",
       "</style>\n",
       "<table border=\"1\" class=\"dataframe\">\n",
       "  <thead>\n",
       "    <tr style=\"text-align: right;\">\n",
       "      <th></th>\n",
       "      <th>Web Master</th>\n",
       "      <th>Web Server</th>\n",
       "      <th>ads</th>\n",
       "      <th>ads_ad-analytics</th>\n",
       "      <th>ads_ad-blocking</th>\n",
       "      <th>ads_ad-exchange</th>\n",
       "      <th>ads_ad-network</th>\n",
       "      <th>ads_ad-server</th>\n",
       "      <th>ads_ads-txt</th>\n",
       "      <th>ads_adult</th>\n",
       "      <th>...</th>\n",
       "      <th>widgets_wordpress-plugins</th>\n",
       "      <th>phishing</th>\n",
       "      <th>ads_bitcoin</th>\n",
       "      <th>hosting_french-hosting</th>\n",
       "      <th>hosting_italian-hosting</th>\n",
       "      <th>hosting_swiss-hosting</th>\n",
       "      <th>hosting_wordpress-hosting</th>\n",
       "      <th>shop_woocommerce-extension</th>\n",
       "      <th>shop_wordpress-plugins</th>\n",
       "      <th>widgets_joomla-module</th>\n",
       "    </tr>\n",
       "  </thead>\n",
       "  <tbody>\n",
       "    <tr>\n",
       "      <th>0</th>\n",
       "      <td>0.0</td>\n",
       "      <td>0.0</td>\n",
       "      <td>0.0</td>\n",
       "      <td>0.0</td>\n",
       "      <td>0.0</td>\n",
       "      <td>0.0</td>\n",
       "      <td>0.0</td>\n",
       "      <td>0.0</td>\n",
       "      <td>0.0</td>\n",
       "      <td>0.0</td>\n",
       "      <td>...</td>\n",
       "      <td>0.0</td>\n",
       "      <td>0</td>\n",
       "      <td>0.0</td>\n",
       "      <td>0.0</td>\n",
       "      <td>0.0</td>\n",
       "      <td>0.0</td>\n",
       "      <td>0.0</td>\n",
       "      <td>0.0</td>\n",
       "      <td>0.0</td>\n",
       "      <td>0.0</td>\n",
       "    </tr>\n",
       "    <tr>\n",
       "      <th>1</th>\n",
       "      <td>2.0</td>\n",
       "      <td>3.0</td>\n",
       "      <td>2.0</td>\n",
       "      <td>0.0</td>\n",
       "      <td>0.0</td>\n",
       "      <td>0.0</td>\n",
       "      <td>0.0</td>\n",
       "      <td>0.0</td>\n",
       "      <td>0.0</td>\n",
       "      <td>0.0</td>\n",
       "      <td>...</td>\n",
       "      <td>0.0</td>\n",
       "      <td>0</td>\n",
       "      <td>0.0</td>\n",
       "      <td>0.0</td>\n",
       "      <td>0.0</td>\n",
       "      <td>0.0</td>\n",
       "      <td>0.0</td>\n",
       "      <td>0.0</td>\n",
       "      <td>0.0</td>\n",
       "      <td>0.0</td>\n",
       "    </tr>\n",
       "    <tr>\n",
       "      <th>2</th>\n",
       "      <td>4.0</td>\n",
       "      <td>4.0</td>\n",
       "      <td>17.0</td>\n",
       "      <td>0.0</td>\n",
       "      <td>0.0</td>\n",
       "      <td>0.0</td>\n",
       "      <td>0.0</td>\n",
       "      <td>1.0</td>\n",
       "      <td>1.0</td>\n",
       "      <td>0.0</td>\n",
       "      <td>...</td>\n",
       "      <td>0.0</td>\n",
       "      <td>0</td>\n",
       "      <td>0.0</td>\n",
       "      <td>0.0</td>\n",
       "      <td>0.0</td>\n",
       "      <td>0.0</td>\n",
       "      <td>0.0</td>\n",
       "      <td>0.0</td>\n",
       "      <td>0.0</td>\n",
       "      <td>0.0</td>\n",
       "    </tr>\n",
       "    <tr>\n",
       "      <th>3</th>\n",
       "      <td>2.0</td>\n",
       "      <td>3.0</td>\n",
       "      <td>11.0</td>\n",
       "      <td>0.0</td>\n",
       "      <td>0.0</td>\n",
       "      <td>1.0</td>\n",
       "      <td>2.0</td>\n",
       "      <td>1.0</td>\n",
       "      <td>0.0</td>\n",
       "      <td>0.0</td>\n",
       "      <td>...</td>\n",
       "      <td>3.0</td>\n",
       "      <td>0</td>\n",
       "      <td>0.0</td>\n",
       "      <td>0.0</td>\n",
       "      <td>0.0</td>\n",
       "      <td>0.0</td>\n",
       "      <td>0.0</td>\n",
       "      <td>0.0</td>\n",
       "      <td>0.0</td>\n",
       "      <td>0.0</td>\n",
       "    </tr>\n",
       "    <tr>\n",
       "      <th>4</th>\n",
       "      <td>2.0</td>\n",
       "      <td>9.0</td>\n",
       "      <td>27.0</td>\n",
       "      <td>0.0</td>\n",
       "      <td>0.0</td>\n",
       "      <td>0.0</td>\n",
       "      <td>0.0</td>\n",
       "      <td>0.0</td>\n",
       "      <td>19.0</td>\n",
       "      <td>0.0</td>\n",
       "      <td>...</td>\n",
       "      <td>0.0</td>\n",
       "      <td>0</td>\n",
       "      <td>0.0</td>\n",
       "      <td>0.0</td>\n",
       "      <td>0.0</td>\n",
       "      <td>0.0</td>\n",
       "      <td>0.0</td>\n",
       "      <td>0.0</td>\n",
       "      <td>0.0</td>\n",
       "      <td>0.0</td>\n",
       "    </tr>\n",
       "  </tbody>\n",
       "</table>\n",
       "<p>5 rows × 196 columns</p>\n",
       "</div>"
      ],
      "text/plain": [
       "   Web Master  Web Server   ads  ads_ad-analytics  ads_ad-blocking  \\\n",
       "0         0.0         0.0   0.0               0.0              0.0   \n",
       "1         2.0         3.0   2.0               0.0              0.0   \n",
       "2         4.0         4.0  17.0               0.0              0.0   \n",
       "3         2.0         3.0  11.0               0.0              0.0   \n",
       "4         2.0         9.0  27.0               0.0              0.0   \n",
       "\n",
       "   ads_ad-exchange  ads_ad-network  ads_ad-server  ads_ads-txt  ads_adult  \\\n",
       "0              0.0             0.0            0.0          0.0        0.0   \n",
       "1              0.0             0.0            0.0          0.0        0.0   \n",
       "2              0.0             0.0            1.0          1.0        0.0   \n",
       "3              1.0             2.0            1.0          0.0        0.0   \n",
       "4              0.0             0.0            0.0         19.0        0.0   \n",
       "\n",
       "   ...  widgets_wordpress-plugins  phishing  ads_bitcoin  \\\n",
       "0  ...                        0.0         0          0.0   \n",
       "1  ...                        0.0         0          0.0   \n",
       "2  ...                        0.0         0          0.0   \n",
       "3  ...                        3.0         0          0.0   \n",
       "4  ...                        0.0         0          0.0   \n",
       "\n",
       "   hosting_french-hosting  hosting_italian-hosting  hosting_swiss-hosting  \\\n",
       "0                     0.0                      0.0                    0.0   \n",
       "1                     0.0                      0.0                    0.0   \n",
       "2                     0.0                      0.0                    0.0   \n",
       "3                     0.0                      0.0                    0.0   \n",
       "4                     0.0                      0.0                    0.0   \n",
       "\n",
       "   hosting_wordpress-hosting  shop_woocommerce-extension  \\\n",
       "0                        0.0                         0.0   \n",
       "1                        0.0                         0.0   \n",
       "2                        0.0                         0.0   \n",
       "3                        0.0                         0.0   \n",
       "4                        0.0                         0.0   \n",
       "\n",
       "   shop_wordpress-plugins  widgets_joomla-module  \n",
       "0                     0.0                    0.0  \n",
       "1                     0.0                    0.0  \n",
       "2                     0.0                    0.0  \n",
       "3                     0.0                    0.0  \n",
       "4                     0.0                    0.0  \n",
       "\n",
       "[5 rows x 196 columns]"
      ]
     },
     "execution_count": 10,
     "metadata": {},
     "output_type": "execute_result"
    }
   ],
   "source": [
    "df.head()"
   ]
  },
  {
   "cell_type": "code",
   "execution_count": 11,
   "id": "48aa9c95",
   "metadata": {
    "execution": {
     "iopub.execute_input": "2021-07-24T15:14:25.971360Z",
     "iopub.status.busy": "2021-07-24T15:14:25.970763Z",
     "iopub.status.idle": "2021-07-24T15:14:25.973651Z",
     "shell.execute_reply": "2021-07-24T15:14:25.974210Z",
     "shell.execute_reply.started": "2021-07-24T15:12:48.074845Z"
    },
    "papermill": {
     "duration": 0.053905,
     "end_time": "2021-07-24T15:14:25.974407",
     "exception": false,
     "start_time": "2021-07-24T15:14:25.920502",
     "status": "completed"
    },
    "tags": []
   },
   "outputs": [
    {
     "data": {
      "text/plain": [
       "0         True\n",
       "1        False\n",
       "2        False\n",
       "3        False\n",
       "4        False\n",
       "         ...  \n",
       "73633    False\n",
       "73634        0\n",
       "73635    False\n",
       "73636    False\n",
       "73637    False\n",
       "Name: copyright_presence, Length: 142518, dtype: object"
      ]
     },
     "execution_count": 11,
     "metadata": {},
     "output_type": "execute_result"
    }
   ],
   "source": [
    "df['copyright_presence']"
   ]
  },
  {
   "cell_type": "code",
   "execution_count": 12,
   "id": "4ce70584",
   "metadata": {
    "execution": {
     "iopub.execute_input": "2021-07-24T15:14:26.066116Z",
     "iopub.status.busy": "2021-07-24T15:14:26.065399Z",
     "iopub.status.idle": "2021-07-24T15:14:48.228218Z",
     "shell.execute_reply": "2021-07-24T15:14:48.227547Z",
     "shell.execute_reply.started": "2021-07-24T15:12:48.085638Z"
    },
    "papermill": {
     "duration": 22.209591,
     "end_time": "2021-07-24T15:14:48.228398",
     "exception": false,
     "start_time": "2021-07-24T15:14:26.018807",
     "status": "completed"
    },
    "tags": []
   },
   "outputs": [],
   "source": [
    "df['privacy_policy'] = df['privacy_policy'].replace(to_replace =\"NA\", value =False)\n",
    "\n",
    "\n",
    "df = df.replace(to_replace =1.0, value =1)\n",
    "df = df.replace(to_replace =2.0, value =2)\n",
    "df = df.replace(to_replace =3.0, value =3)\n",
    "df = df.replace(to_replace =4.0, value =4)\n",
    "df = df.replace(to_replace =5.0, value =5)\n",
    "df = df.replace(to_replace =6.0, value =6)\n",
    "df = df.replace(to_replace =7.0, value =7)\n",
    "df = df.replace(to_replace =8.0, value =8)\n",
    "df = df.replace(to_replace =9.0, value =9)\n",
    "df = df.replace(to_replace =10.0, value =10)\n",
    "df = df.replace(to_replace =11.0, value =11)\n",
    "df = df.replace(to_replace =12.0, value =12)\n",
    "df = df.replace(to_replace =13.0, value =13)\n",
    "df = df.replace(to_replace =14.0, value =14)\n",
    "df = df.replace(to_replace =15.0, value =15)\n",
    "df = df.replace(to_replace =16.0, value =16)\n",
    "df = df.replace(to_replace =17.0, value =17)\n",
    "df = df.replace(to_replace =18.0, value =18)\n",
    "df = df.replace(to_replace =19.0, value =19)\n",
    "df = df.replace(to_replace =20.0, value =20)\n",
    "df = df.replace(to_replace =21.0, value =21)\n",
    "df = df.replace(to_replace =22.0, value =22)\n",
    "df = df.replace(to_replace =23.0, value =23)\n",
    "df = df.replace(to_replace =24.0, value =24)\n",
    "df = df.replace(to_replace =25.0, value =25)\n",
    "df = df.replace(to_replace =26.0, value =26)\n",
    "df = df.replace(to_replace =27.0, value =27)\n",
    "df = df.replace(to_replace =28.0, value =28)\n",
    "df = df.replace(to_replace =29.0, value =29)\n",
    "df = df.replace(to_replace =30.0, value =30)\n",
    "df = df.replace(to_replace =31.0, value =31)\n",
    "df = df.replace(to_replace =32.0, value =32)\n",
    "df = df.replace(to_replace =33.0, value =33)\n",
    "df = df.replace(to_replace =34.0, value =34)\n",
    "df = df.replace(to_replace =35.0, value =35)\n",
    "df = df.replace(to_replace =36.0, value =36)\n",
    "df = df.replace(to_replace =37.0, value =37)\n",
    "df = df.replace(to_replace =38.0, value =38)\n",
    "\n",
    "\n",
    "df = df.replace(to_replace =\"social-management-1.0\", value =\"social-management-1\")\n",
    "df = df.replace(to_replace =\"social-management-2.0\", value =\"social-management-2\")\n",
    "df = df.replace(to_replace =\"social-management-1.0\", value =\"social-management-1\")\n",
    "\n",
    "\n",
    "df = df.replace(to_replace =\"multi-channel-1.0\", value =\"multi-channel-1\")\n",
    "df = df.replace(to_replace =\"multi-channel-2.0\", value =\"multi-channel-2\")\n",
    "df = df.replace(to_replace =\"multi-channel-3.0\", value =\"multi-channel-3\")\n",
    "\n",
    "\n",
    "df = df.replace(to_replace =\"retargeting-/-remarketing-1.0\", value =\"retargeting-/-remarketing-1\")\n",
    "df = df.replace(to_replace =\"retargeting-/-remarketing-2.0\", value =\"retargeting-/-remarketing-2\")\n",
    "df = df.replace(to_replace =\"retargeting-/-remarketing-3.0\", value =\"retargeting-/-remarketing-3\")\n",
    "df = df.replace(to_replace =\"retargeting-/-remarketing-4.0\", value =\"retargeting-/-remarketing-4\")\n",
    "df = df.replace(to_replace =\"retargeting-/-remarketing-5.0\", value =\"retargeting-/-remarketing-5\")\n",
    "\n",
    "df = df.replace(to_replace =\"social-management-1.0\", value =\"social-management-1\")\n",
    "df = df.replace(to_replace =\"social-management-2.0\", value =\"social-management-2\")\n",
    "\n",
    "# hosting_australian-hosting- دانشگاه علوم پزشکی ایران\n",
    "# hosting_australian-hosting-Thai JobJob News\n",
    "#                 hosting_australian-hosting-سرمه دان(داروخانه اینترنتی دکتر طهماسبی)\n",
    "# hosting_australian-hosting-人生を変える方法 Soul Design 心羽\n",
    "#          hosting_canadian-hosting-https://core-zero.com\n",
    "#                 hosting_canadian-hosting-https://iums.ac.ir\n",
    "#                 hosting_canadian-hosting-https://sormedan.com\n",
    "#                 hosting_canadian-hosting-https://thaijobjob.com\n",
    "\n",
    "df['ads_retargeting-/-remarketing'] = df['ads_retargeting-/-remarketing'].replace(to_replace =\"true\", value =1)   \n",
    "df['cms_social-management'] = df['cms_social-management'].replace(to_replace =\"false\", value =0)   \n",
    "df['ads_multi-channel'] = df['ads_multi-channel'].replace(to_replace =\"false\", value =0)  \n",
    "df['hosting'] = df['hosting'].replace(to_replace =\"true\", value =1)\n",
    "                \n",
    "df['hosting_australian-hosting'] = df['hosting_australian-hosting'].replace(to_replace =\" دانشگاه علوم پزشکی ایران\", value =0) \n",
    "df['hosting_australian-hosting'] = df['hosting_australian-hosting'].replace(to_replace =\"Thai JobJob News\", value =0) \n",
    "df['hosting_australian-hosting'] = df['hosting_australian-hosting'].replace(to_replace =\"سرمه دان(داروخانه اینترنتی دکتر طهماسبی)\", value =0) \n",
    "df['hosting_australian-hosting'] = df['hosting_australian-hosting'].replace(to_replace =\"人生を変える方法 Soul Design 心羽\", value =0) \n",
    "                \n",
    "                \n",
    "df['hosting_canadian-hosting'] = df['hosting_canadian-hosting'].replace(to_replace =\"https://core-zero.com\", value =0) \n",
    "df['hosting_canadian-hosting'] = df['hosting_canadian-hosting'].replace(to_replace =\"https://iums.ac.ir\", value =0)\n",
    "df['hosting_canadian-hosting'] = df['hosting_canadian-hosting'].replace(to_replace =\"https://sormedan.com\", value =0) \n",
    "df['hosting_canadian-hosting'] = df['hosting_canadian-hosting'].replace(to_replace =\"https://thaijobjob.com\", value =0) \n",
    "\n",
    "df['hosting'] = df['hosting'].replace(to_replace =\"australian-hosting-1\", value =\"australian-hosting-1.0\")\n",
    "df['hosting'] = df['hosting'].replace(to_replace =\"australian-hosting-2\", value =\"australian-hosting-2.0\")\n",
    "df['hosting'] = df['hosting'].replace(to_replace =\"australian-hosting-3\", value =\"australian-hosting-3.0\")\n",
    "df['hosting'] = df['hosting'].replace(to_replace =\"australian-hosting-4\", value =\"australian-hosting-4.0\")\n",
    "df['hosting'] = df['hosting'].replace(to_replace =\"australian-hosting-5\", value =\"australian-hosting-5.0\")\n",
    "\n",
    "df['hosting'] = df['hosting'].replace(to_replace =\"canadian-hosting-1\", value =\"canadian-hosting-1.0\")\n",
    "df['hosting'] = df['hosting'].replace(to_replace =\"canadian-hosting-2\", value =\"canadian-hosting-2.0\")\n",
    "df['hosting'] = df['hosting'].replace(to_replace =\"canadian-hosting-3\", value =\"canadian-hosting-3.0\")"
   ]
  },
  {
   "cell_type": "code",
   "execution_count": 13,
   "id": "489c6c39",
   "metadata": {
    "execution": {
     "iopub.execute_input": "2021-07-24T15:14:48.354794Z",
     "iopub.status.busy": "2021-07-24T15:14:48.354038Z",
     "iopub.status.idle": "2021-07-24T15:14:48.364702Z",
     "shell.execute_reply": "2021-07-24T15:14:48.365152Z",
     "shell.execute_reply.started": "2021-07-24T15:13:10.553184Z"
    },
    "papermill": {
     "duration": 0.081543,
     "end_time": "2021-07-24T15:14:48.365326",
     "exception": false,
     "start_time": "2021-07-24T15:14:48.283783",
     "status": "completed"
    },
    "tags": []
   },
   "outputs": [],
   "source": [
    "#copyright_presence\n",
    "#current_year_match_copyright\n",
    "#http\n",
    "#https\n",
    "#privacy_policy\n",
    "\n",
    "df['copyright_presence'] = df[\"copyright_presence\"].astype(int)"
   ]
  },
  {
   "cell_type": "code",
   "execution_count": 14,
   "id": "2fc4888a",
   "metadata": {
    "execution": {
     "iopub.execute_input": "2021-07-24T15:14:48.457643Z",
     "iopub.status.busy": "2021-07-24T15:14:48.457018Z",
     "iopub.status.idle": "2021-07-24T15:14:48.480738Z",
     "shell.execute_reply": "2021-07-24T15:14:48.480150Z",
     "shell.execute_reply.started": "2021-07-24T15:13:10.578764Z"
    },
    "papermill": {
     "duration": 0.070794,
     "end_time": "2021-07-24T15:14:48.480901",
     "exception": false,
     "start_time": "2021-07-24T15:14:48.410107",
     "status": "completed"
    },
    "tags": []
   },
   "outputs": [],
   "source": [
    "df['current_year_match_copyright'] = df[\"current_year_match_copyright\"].astype(int)"
   ]
  },
  {
   "cell_type": "code",
   "execution_count": 15,
   "id": "d86b139b",
   "metadata": {
    "execution": {
     "iopub.execute_input": "2021-07-24T15:14:48.588662Z",
     "iopub.status.busy": "2021-07-24T15:14:48.587932Z",
     "iopub.status.idle": "2021-07-24T15:14:48.683343Z",
     "shell.execute_reply": "2021-07-24T15:14:48.682693Z",
     "shell.execute_reply.started": "2021-07-24T15:13:10.603918Z"
    },
    "papermill": {
     "duration": 0.157716,
     "end_time": "2021-07-24T15:14:48.683481",
     "exception": false,
     "start_time": "2021-07-24T15:14:48.525765",
     "status": "completed"
    },
    "tags": []
   },
   "outputs": [],
   "source": [
    "df['privacy_policy'] = df[\"privacy_policy\"].astype(int)\n",
    "df['hosting_australian-hosting'] = df[\"hosting_australian-hosting\"].astype(int)\n",
    "df['hosting_canadian-hosting'] = df[\"hosting_canadian-hosting\"].astype(int)\n",
    "df['ads_retargeting-/-remarketing'] = df[\"ads_retargeting-/-remarketing\"].astype(int)\n",
    "df['cms_social-management'] = df[\"cms_social-management\"].astype(int)\n",
    "df['ads_multi-channel'] = df[\"ads_multi-channel\"].astype(int)\n",
    "df['hosting'] = df[\"hosting\"].astype(int)\n",
    "# df['ads'] = df[\"ads\"].astype(int)\n",
    "# df['ads_retargeting-/-remarketing'] = df[\"ads_retargeting-/-remarketing\"].astype(int)\n",
    "# df['cms_social-management'] = df[\"cms_social-management\"].astype(int)\n",
    "# df['hosting'] = df[\"hosting\"].astype(int)\n",
    "# df['hosting_australian'] = df[\"hosting_australian\"].astype(int)\n",
    "# df['hosting_canadian'] = df[\"hosting_canadian\"].astype(int)"
   ]
  },
  {
   "cell_type": "code",
   "execution_count": 16,
   "id": "da5cfef2",
   "metadata": {
    "execution": {
     "iopub.execute_input": "2021-07-24T15:14:48.777516Z",
     "iopub.status.busy": "2021-07-24T15:14:48.776874Z",
     "iopub.status.idle": "2021-07-24T15:14:48.778795Z",
     "shell.execute_reply": "2021-07-24T15:14:48.779229Z",
     "shell.execute_reply.started": "2021-07-24T15:13:10.717855Z"
    },
    "papermill": {
     "duration": 0.051163,
     "end_time": "2021-07-24T15:14:48.779406",
     "exception": false,
     "start_time": "2021-07-24T15:14:48.728243",
     "status": "completed"
    },
    "tags": []
   },
   "outputs": [],
   "source": [
    "# encode_text_dummy(df, 'ads_multi-channel')\n",
    "# encode_text_dummy(df, 'ads_retargeting-/-remarketing')\n",
    "# encode_text_dummy(df, 'cms_social-management')\n",
    "# encode_text_dummy(df, 'hosting')\n",
    "# encode_text_dummy(df, 'hosting_australian-hosting')\n",
    "# encode_text_dummy(df, 'hosting_canadian-hosting')"
   ]
  },
  {
   "cell_type": "code",
   "execution_count": 17,
   "id": "6f9905f3",
   "metadata": {
    "execution": {
     "iopub.execute_input": "2021-07-24T15:14:48.872101Z",
     "iopub.status.busy": "2021-07-24T15:14:48.871453Z",
     "iopub.status.idle": "2021-07-24T15:14:48.874283Z",
     "shell.execute_reply": "2021-07-24T15:14:48.874823Z",
     "shell.execute_reply.started": "2021-07-24T15:13:10.723724Z"
    },
    "papermill": {
     "duration": 0.050762,
     "end_time": "2021-07-24T15:14:48.874986",
     "exception": false,
     "start_time": "2021-07-24T15:14:48.824224",
     "status": "completed"
    },
    "tags": []
   },
   "outputs": [],
   "source": [
    "# df['status'] = df[\"status\"].astype(int)"
   ]
  },
  {
   "cell_type": "code",
   "execution_count": 18,
   "id": "9346e5d3",
   "metadata": {
    "execution": {
     "iopub.execute_input": "2021-07-24T15:14:48.968375Z",
     "iopub.status.busy": "2021-07-24T15:14:48.967741Z",
     "iopub.status.idle": "2021-07-24T15:14:48.972691Z",
     "shell.execute_reply": "2021-07-24T15:14:48.973175Z",
     "shell.execute_reply.started": "2021-07-24T15:13:10.735788Z"
    },
    "papermill": {
     "duration": 0.053017,
     "end_time": "2021-07-24T15:14:48.973336",
     "exception": false,
     "start_time": "2021-07-24T15:14:48.920319",
     "status": "completed"
    },
    "tags": []
   },
   "outputs": [
    {
     "data": {
      "text/plain": [
       "Index(['Web Master', 'Web Server', 'ads', 'ads_ad-analytics',\n",
       "       'ads_ad-blocking', 'ads_ad-exchange', 'ads_ad-network', 'ads_ad-server',\n",
       "       'ads_ads-txt', 'ads_adult',\n",
       "       ...\n",
       "       'widgets_wordpress-plugins', 'phishing', 'ads_bitcoin',\n",
       "       'hosting_french-hosting', 'hosting_italian-hosting',\n",
       "       'hosting_swiss-hosting', 'hosting_wordpress-hosting',\n",
       "       'shop_woocommerce-extension', 'shop_wordpress-plugins',\n",
       "       'widgets_joomla-module'],\n",
       "      dtype='object', length=196)"
      ]
     },
     "execution_count": 18,
     "metadata": {},
     "output_type": "execute_result"
    }
   ],
   "source": [
    "df.columns"
   ]
  },
  {
   "cell_type": "code",
   "execution_count": 19,
   "id": "db001ea1",
   "metadata": {
    "execution": {
     "iopub.execute_input": "2021-07-24T15:14:49.066816Z",
     "iopub.status.busy": "2021-07-24T15:14:49.066215Z",
     "iopub.status.idle": "2021-07-24T15:14:49.072713Z",
     "shell.execute_reply": "2021-07-24T15:14:49.072014Z",
     "shell.execute_reply.started": "2021-07-24T15:13:10.750181Z"
    },
    "papermill": {
     "duration": 0.0541,
     "end_time": "2021-07-24T15:14:49.072894",
     "exception": false,
     "start_time": "2021-07-24T15:14:49.018794",
     "status": "completed"
    },
    "tags": []
   },
   "outputs": [
    {
     "name": "stdout",
     "output_type": "stream",
     "text": [
      "[dtype('float64') dtype('int64')]\n"
     ]
    }
   ],
   "source": [
    "print(df.dtypes.unique())"
   ]
  },
  {
   "cell_type": "code",
   "execution_count": 20,
   "id": "9036858b",
   "metadata": {
    "execution": {
     "iopub.execute_input": "2021-07-24T15:14:49.178698Z",
     "iopub.status.busy": "2021-07-24T15:14:49.177721Z",
     "iopub.status.idle": "2021-07-24T15:14:49.180904Z",
     "shell.execute_reply": "2021-07-24T15:14:49.180266Z",
     "shell.execute_reply.started": "2021-07-24T15:13:10.763833Z"
    },
    "papermill": {
     "duration": 0.061238,
     "end_time": "2021-07-24T15:14:49.181041",
     "exception": false,
     "start_time": "2021-07-24T15:14:49.119803",
     "status": "completed"
    },
    "tags": []
   },
   "outputs": [],
   "source": [
    "x = {}\n",
    "x['columns'] = df.columns\n",
    "feature_names = []\n",
    "for p in df.columns:\n",
    "    if p!=\"phishing\":\n",
    "        feature_names.append(p)\n",
    "x['dtype'] = []\n",
    "for t in df.columns:\n",
    "    x['dtype'].append(df[t].dtype)"
   ]
  },
  {
   "cell_type": "code",
   "execution_count": 21,
   "id": "8054bc0d",
   "metadata": {
    "execution": {
     "iopub.execute_input": "2021-07-24T15:14:49.277079Z",
     "iopub.status.busy": "2021-07-24T15:14:49.276251Z",
     "iopub.status.idle": "2021-07-24T15:14:49.284646Z",
     "shell.execute_reply": "2021-07-24T15:14:49.283969Z",
     "shell.execute_reply.started": "2021-07-24T15:13:10.784172Z"
    },
    "papermill": {
     "duration": 0.058453,
     "end_time": "2021-07-24T15:14:49.284789",
     "exception": false,
     "start_time": "2021-07-24T15:14:49.226336",
     "status": "completed"
    },
    "tags": []
   },
   "outputs": [],
   "source": [
    "df_col = pd.DataFrame(x)\n",
    "df_col.to_csv('out.csv')"
   ]
  },
  {
   "cell_type": "code",
   "execution_count": 22,
   "id": "b343462e",
   "metadata": {
    "execution": {
     "iopub.execute_input": "2021-07-24T15:14:49.380670Z",
     "iopub.status.busy": "2021-07-24T15:14:49.379738Z",
     "iopub.status.idle": "2021-07-24T15:14:49.555041Z",
     "shell.execute_reply": "2021-07-24T15:14:49.555526Z",
     "shell.execute_reply.started": "2021-07-24T15:13:10.801914Z"
    },
    "papermill": {
     "duration": 0.225128,
     "end_time": "2021-07-24T15:14:49.555708",
     "exception": false,
     "start_time": "2021-07-24T15:14:49.330580",
     "status": "completed"
    },
    "tags": []
   },
   "outputs": [
    {
     "data": {
      "text/html": [
       "<div>\n",
       "<style scoped>\n",
       "    .dataframe tbody tr th:only-of-type {\n",
       "        vertical-align: middle;\n",
       "    }\n",
       "\n",
       "    .dataframe tbody tr th {\n",
       "        vertical-align: top;\n",
       "    }\n",
       "\n",
       "    .dataframe thead th {\n",
       "        text-align: right;\n",
       "    }\n",
       "</style>\n",
       "<table border=\"1\" class=\"dataframe\">\n",
       "  <thead>\n",
       "    <tr style=\"text-align: right;\">\n",
       "      <th></th>\n",
       "      <th>Web Master</th>\n",
       "      <th>Web Server</th>\n",
       "      <th>ads</th>\n",
       "      <th>ads_ad-analytics</th>\n",
       "      <th>ads_ad-blocking</th>\n",
       "      <th>ads_ad-exchange</th>\n",
       "      <th>ads_ad-network</th>\n",
       "      <th>ads_ad-server</th>\n",
       "      <th>ads_ads-txt</th>\n",
       "      <th>ads_adult</th>\n",
       "      <th>...</th>\n",
       "      <th>widgets_wordpress-plugins</th>\n",
       "      <th>phishing</th>\n",
       "      <th>ads_bitcoin</th>\n",
       "      <th>hosting_french-hosting</th>\n",
       "      <th>hosting_italian-hosting</th>\n",
       "      <th>hosting_swiss-hosting</th>\n",
       "      <th>hosting_wordpress-hosting</th>\n",
       "      <th>shop_woocommerce-extension</th>\n",
       "      <th>shop_wordpress-plugins</th>\n",
       "      <th>widgets_joomla-module</th>\n",
       "    </tr>\n",
       "  </thead>\n",
       "  <tbody>\n",
       "    <tr>\n",
       "      <th>0</th>\n",
       "      <td>0.0</td>\n",
       "      <td>0.0</td>\n",
       "      <td>0.0</td>\n",
       "      <td>0.0</td>\n",
       "      <td>0.0</td>\n",
       "      <td>0.0</td>\n",
       "      <td>0.0</td>\n",
       "      <td>0.0</td>\n",
       "      <td>0.0</td>\n",
       "      <td>0.0</td>\n",
       "      <td>...</td>\n",
       "      <td>0.0</td>\n",
       "      <td>0</td>\n",
       "      <td>0.0</td>\n",
       "      <td>0.0</td>\n",
       "      <td>0.0</td>\n",
       "      <td>0.0</td>\n",
       "      <td>0.0</td>\n",
       "      <td>0.0</td>\n",
       "      <td>0.0</td>\n",
       "      <td>0.0</td>\n",
       "    </tr>\n",
       "    <tr>\n",
       "      <th>1</th>\n",
       "      <td>2.0</td>\n",
       "      <td>3.0</td>\n",
       "      <td>2.0</td>\n",
       "      <td>0.0</td>\n",
       "      <td>0.0</td>\n",
       "      <td>0.0</td>\n",
       "      <td>0.0</td>\n",
       "      <td>0.0</td>\n",
       "      <td>0.0</td>\n",
       "      <td>0.0</td>\n",
       "      <td>...</td>\n",
       "      <td>0.0</td>\n",
       "      <td>0</td>\n",
       "      <td>0.0</td>\n",
       "      <td>0.0</td>\n",
       "      <td>0.0</td>\n",
       "      <td>0.0</td>\n",
       "      <td>0.0</td>\n",
       "      <td>0.0</td>\n",
       "      <td>0.0</td>\n",
       "      <td>0.0</td>\n",
       "    </tr>\n",
       "    <tr>\n",
       "      <th>2</th>\n",
       "      <td>4.0</td>\n",
       "      <td>4.0</td>\n",
       "      <td>17.0</td>\n",
       "      <td>0.0</td>\n",
       "      <td>0.0</td>\n",
       "      <td>0.0</td>\n",
       "      <td>0.0</td>\n",
       "      <td>1.0</td>\n",
       "      <td>1.0</td>\n",
       "      <td>0.0</td>\n",
       "      <td>...</td>\n",
       "      <td>0.0</td>\n",
       "      <td>0</td>\n",
       "      <td>0.0</td>\n",
       "      <td>0.0</td>\n",
       "      <td>0.0</td>\n",
       "      <td>0.0</td>\n",
       "      <td>0.0</td>\n",
       "      <td>0.0</td>\n",
       "      <td>0.0</td>\n",
       "      <td>0.0</td>\n",
       "    </tr>\n",
       "    <tr>\n",
       "      <th>3</th>\n",
       "      <td>2.0</td>\n",
       "      <td>3.0</td>\n",
       "      <td>11.0</td>\n",
       "      <td>0.0</td>\n",
       "      <td>0.0</td>\n",
       "      <td>1.0</td>\n",
       "      <td>2.0</td>\n",
       "      <td>1.0</td>\n",
       "      <td>0.0</td>\n",
       "      <td>0.0</td>\n",
       "      <td>...</td>\n",
       "      <td>3.0</td>\n",
       "      <td>0</td>\n",
       "      <td>0.0</td>\n",
       "      <td>0.0</td>\n",
       "      <td>0.0</td>\n",
       "      <td>0.0</td>\n",
       "      <td>0.0</td>\n",
       "      <td>0.0</td>\n",
       "      <td>0.0</td>\n",
       "      <td>0.0</td>\n",
       "    </tr>\n",
       "    <tr>\n",
       "      <th>4</th>\n",
       "      <td>2.0</td>\n",
       "      <td>9.0</td>\n",
       "      <td>27.0</td>\n",
       "      <td>0.0</td>\n",
       "      <td>0.0</td>\n",
       "      <td>0.0</td>\n",
       "      <td>0.0</td>\n",
       "      <td>0.0</td>\n",
       "      <td>19.0</td>\n",
       "      <td>0.0</td>\n",
       "      <td>...</td>\n",
       "      <td>0.0</td>\n",
       "      <td>0</td>\n",
       "      <td>0.0</td>\n",
       "      <td>0.0</td>\n",
       "      <td>0.0</td>\n",
       "      <td>0.0</td>\n",
       "      <td>0.0</td>\n",
       "      <td>0.0</td>\n",
       "      <td>0.0</td>\n",
       "      <td>0.0</td>\n",
       "    </tr>\n",
       "    <tr>\n",
       "      <th>...</th>\n",
       "      <td>...</td>\n",
       "      <td>...</td>\n",
       "      <td>...</td>\n",
       "      <td>...</td>\n",
       "      <td>...</td>\n",
       "      <td>...</td>\n",
       "      <td>...</td>\n",
       "      <td>...</td>\n",
       "      <td>...</td>\n",
       "      <td>...</td>\n",
       "      <td>...</td>\n",
       "      <td>...</td>\n",
       "      <td>...</td>\n",
       "      <td>...</td>\n",
       "      <td>...</td>\n",
       "      <td>...</td>\n",
       "      <td>...</td>\n",
       "      <td>...</td>\n",
       "      <td>...</td>\n",
       "      <td>...</td>\n",
       "      <td>...</td>\n",
       "    </tr>\n",
       "    <tr>\n",
       "      <th>73633</th>\n",
       "      <td>0.0</td>\n",
       "      <td>0.0</td>\n",
       "      <td>3.0</td>\n",
       "      <td>0.0</td>\n",
       "      <td>0.0</td>\n",
       "      <td>0.0</td>\n",
       "      <td>0.0</td>\n",
       "      <td>0.0</td>\n",
       "      <td>0.0</td>\n",
       "      <td>0.0</td>\n",
       "      <td>...</td>\n",
       "      <td>4.0</td>\n",
       "      <td>1</td>\n",
       "      <td>0.0</td>\n",
       "      <td>0.0</td>\n",
       "      <td>0.0</td>\n",
       "      <td>0.0</td>\n",
       "      <td>0.0</td>\n",
       "      <td>0.0</td>\n",
       "      <td>0.0</td>\n",
       "      <td>0.0</td>\n",
       "    </tr>\n",
       "    <tr>\n",
       "      <th>73634</th>\n",
       "      <td>0.0</td>\n",
       "      <td>0.0</td>\n",
       "      <td>0.0</td>\n",
       "      <td>0.0</td>\n",
       "      <td>0.0</td>\n",
       "      <td>0.0</td>\n",
       "      <td>0.0</td>\n",
       "      <td>0.0</td>\n",
       "      <td>0.0</td>\n",
       "      <td>0.0</td>\n",
       "      <td>...</td>\n",
       "      <td>0.0</td>\n",
       "      <td>1</td>\n",
       "      <td>0.0</td>\n",
       "      <td>0.0</td>\n",
       "      <td>0.0</td>\n",
       "      <td>0.0</td>\n",
       "      <td>0.0</td>\n",
       "      <td>0.0</td>\n",
       "      <td>0.0</td>\n",
       "      <td>0.0</td>\n",
       "    </tr>\n",
       "    <tr>\n",
       "      <th>73635</th>\n",
       "      <td>0.0</td>\n",
       "      <td>0.0</td>\n",
       "      <td>0.0</td>\n",
       "      <td>0.0</td>\n",
       "      <td>0.0</td>\n",
       "      <td>0.0</td>\n",
       "      <td>0.0</td>\n",
       "      <td>0.0</td>\n",
       "      <td>0.0</td>\n",
       "      <td>0.0</td>\n",
       "      <td>...</td>\n",
       "      <td>0.0</td>\n",
       "      <td>1</td>\n",
       "      <td>0.0</td>\n",
       "      <td>0.0</td>\n",
       "      <td>0.0</td>\n",
       "      <td>0.0</td>\n",
       "      <td>0.0</td>\n",
       "      <td>0.0</td>\n",
       "      <td>0.0</td>\n",
       "      <td>0.0</td>\n",
       "    </tr>\n",
       "    <tr>\n",
       "      <th>73636</th>\n",
       "      <td>0.0</td>\n",
       "      <td>0.0</td>\n",
       "      <td>0.0</td>\n",
       "      <td>0.0</td>\n",
       "      <td>0.0</td>\n",
       "      <td>0.0</td>\n",
       "      <td>0.0</td>\n",
       "      <td>0.0</td>\n",
       "      <td>0.0</td>\n",
       "      <td>0.0</td>\n",
       "      <td>...</td>\n",
       "      <td>0.0</td>\n",
       "      <td>1</td>\n",
       "      <td>0.0</td>\n",
       "      <td>0.0</td>\n",
       "      <td>0.0</td>\n",
       "      <td>0.0</td>\n",
       "      <td>0.0</td>\n",
       "      <td>0.0</td>\n",
       "      <td>0.0</td>\n",
       "      <td>0.0</td>\n",
       "    </tr>\n",
       "    <tr>\n",
       "      <th>73637</th>\n",
       "      <td>0.0</td>\n",
       "      <td>1.0</td>\n",
       "      <td>0.0</td>\n",
       "      <td>0.0</td>\n",
       "      <td>0.0</td>\n",
       "      <td>0.0</td>\n",
       "      <td>0.0</td>\n",
       "      <td>0.0</td>\n",
       "      <td>0.0</td>\n",
       "      <td>0.0</td>\n",
       "      <td>...</td>\n",
       "      <td>0.0</td>\n",
       "      <td>1</td>\n",
       "      <td>0.0</td>\n",
       "      <td>0.0</td>\n",
       "      <td>0.0</td>\n",
       "      <td>0.0</td>\n",
       "      <td>0.0</td>\n",
       "      <td>0.0</td>\n",
       "      <td>0.0</td>\n",
       "      <td>0.0</td>\n",
       "    </tr>\n",
       "  </tbody>\n",
       "</table>\n",
       "<p>142518 rows × 196 columns</p>\n",
       "</div>"
      ],
      "text/plain": [
       "       Web Master  Web Server   ads  ads_ad-analytics  ads_ad-blocking  \\\n",
       "0             0.0         0.0   0.0               0.0              0.0   \n",
       "1             2.0         3.0   2.0               0.0              0.0   \n",
       "2             4.0         4.0  17.0               0.0              0.0   \n",
       "3             2.0         3.0  11.0               0.0              0.0   \n",
       "4             2.0         9.0  27.0               0.0              0.0   \n",
       "...           ...         ...   ...               ...              ...   \n",
       "73633         0.0         0.0   3.0               0.0              0.0   \n",
       "73634         0.0         0.0   0.0               0.0              0.0   \n",
       "73635         0.0         0.0   0.0               0.0              0.0   \n",
       "73636         0.0         0.0   0.0               0.0              0.0   \n",
       "73637         0.0         1.0   0.0               0.0              0.0   \n",
       "\n",
       "       ads_ad-exchange  ads_ad-network  ads_ad-server  ads_ads-txt  ads_adult  \\\n",
       "0                  0.0             0.0            0.0          0.0        0.0   \n",
       "1                  0.0             0.0            0.0          0.0        0.0   \n",
       "2                  0.0             0.0            1.0          1.0        0.0   \n",
       "3                  1.0             2.0            1.0          0.0        0.0   \n",
       "4                  0.0             0.0            0.0         19.0        0.0   \n",
       "...                ...             ...            ...          ...        ...   \n",
       "73633              0.0             0.0            0.0          0.0        0.0   \n",
       "73634              0.0             0.0            0.0          0.0        0.0   \n",
       "73635              0.0             0.0            0.0          0.0        0.0   \n",
       "73636              0.0             0.0            0.0          0.0        0.0   \n",
       "73637              0.0             0.0            0.0          0.0        0.0   \n",
       "\n",
       "       ...  widgets_wordpress-plugins  phishing  ads_bitcoin  \\\n",
       "0      ...                        0.0         0          0.0   \n",
       "1      ...                        0.0         0          0.0   \n",
       "2      ...                        0.0         0          0.0   \n",
       "3      ...                        3.0         0          0.0   \n",
       "4      ...                        0.0         0          0.0   \n",
       "...    ...                        ...       ...          ...   \n",
       "73633  ...                        4.0         1          0.0   \n",
       "73634  ...                        0.0         1          0.0   \n",
       "73635  ...                        0.0         1          0.0   \n",
       "73636  ...                        0.0         1          0.0   \n",
       "73637  ...                        0.0         1          0.0   \n",
       "\n",
       "       hosting_french-hosting  hosting_italian-hosting  hosting_swiss-hosting  \\\n",
       "0                         0.0                      0.0                    0.0   \n",
       "1                         0.0                      0.0                    0.0   \n",
       "2                         0.0                      0.0                    0.0   \n",
       "3                         0.0                      0.0                    0.0   \n",
       "4                         0.0                      0.0                    0.0   \n",
       "...                       ...                      ...                    ...   \n",
       "73633                     0.0                      0.0                    0.0   \n",
       "73634                     0.0                      0.0                    0.0   \n",
       "73635                     0.0                      0.0                    0.0   \n",
       "73636                     0.0                      0.0                    0.0   \n",
       "73637                     0.0                      0.0                    0.0   \n",
       "\n",
       "       hosting_wordpress-hosting  shop_woocommerce-extension  \\\n",
       "0                            0.0                         0.0   \n",
       "1                            0.0                         0.0   \n",
       "2                            0.0                         0.0   \n",
       "3                            0.0                         0.0   \n",
       "4                            0.0                         0.0   \n",
       "...                          ...                         ...   \n",
       "73633                        0.0                         0.0   \n",
       "73634                        0.0                         0.0   \n",
       "73635                        0.0                         0.0   \n",
       "73636                        0.0                         0.0   \n",
       "73637                        0.0                         0.0   \n",
       "\n",
       "       shop_wordpress-plugins  widgets_joomla-module  \n",
       "0                         0.0                    0.0  \n",
       "1                         0.0                    0.0  \n",
       "2                         0.0                    0.0  \n",
       "3                         0.0                    0.0  \n",
       "4                         0.0                    0.0  \n",
       "...                       ...                    ...  \n",
       "73633                     0.0                    0.0  \n",
       "73634                     0.0                    0.0  \n",
       "73635                     0.0                    0.0  \n",
       "73636                     0.0                    0.0  \n",
       "73637                     0.0                    0.0  \n",
       "\n",
       "[142518 rows x 196 columns]"
      ]
     },
     "execution_count": 22,
     "metadata": {},
     "output_type": "execute_result"
    }
   ],
   "source": [
    "df.apply(pd.to_numeric)"
   ]
  },
  {
   "cell_type": "code",
   "execution_count": 23,
   "id": "4bd8c57d",
   "metadata": {
    "execution": {
     "iopub.execute_input": "2021-07-24T15:14:49.654870Z",
     "iopub.status.busy": "2021-07-24T15:14:49.654060Z",
     "iopub.status.idle": "2021-07-24T15:14:49.657830Z",
     "shell.execute_reply": "2021-07-24T15:14:49.657329Z",
     "shell.execute_reply.started": "2021-07-24T15:13:10.986137Z"
    },
    "papermill": {
     "duration": 0.055976,
     "end_time": "2021-07-24T15:14:49.657968",
     "exception": false,
     "start_time": "2021-07-24T15:14:49.601992",
     "status": "completed"
    },
    "tags": []
   },
   "outputs": [
    {
     "data": {
      "text/plain": [
       "array([dtype('float64'), dtype('int64')], dtype=object)"
      ]
     },
     "execution_count": 23,
     "metadata": {},
     "output_type": "execute_result"
    }
   ],
   "source": [
    "df.dtypes.unique()"
   ]
  },
  {
   "cell_type": "code",
   "execution_count": 24,
   "id": "ce5ab5f9",
   "metadata": {
    "execution": {
     "iopub.execute_input": "2021-07-24T15:14:49.754818Z",
     "iopub.status.busy": "2021-07-24T15:14:49.754227Z",
     "iopub.status.idle": "2021-07-24T15:14:49.756773Z",
     "shell.execute_reply": "2021-07-24T15:14:49.756126Z",
     "shell.execute_reply.started": "2021-07-24T15:13:10.994641Z"
    },
    "papermill": {
     "duration": 0.052403,
     "end_time": "2021-07-24T15:14:49.756903",
     "exception": false,
     "start_time": "2021-07-24T15:14:49.704500",
     "status": "completed"
    },
    "tags": []
   },
   "outputs": [],
   "source": [
    "# df.to_csv('preprocessed.csv')"
   ]
  },
  {
   "cell_type": "code",
   "execution_count": 25,
   "id": "6d5e1aa3",
   "metadata": {
    "_cell_guid": "ad78123a-51e4-4d81-9d75-d32bd5bfffcf",
    "_uuid": "62294685-fc22-452d-aae9-771189472a2e",
    "collapsed": false,
    "execution": {
     "iopub.execute_input": "2021-07-24T15:14:49.855441Z",
     "iopub.status.busy": "2021-07-24T15:14:49.854834Z",
     "iopub.status.idle": "2021-07-24T15:14:50.028110Z",
     "shell.execute_reply": "2021-07-24T15:14:50.027486Z",
     "shell.execute_reply.started": "2021-07-24T15:13:11.008673Z"
    },
    "jupyter": {
     "outputs_hidden": false
    },
    "papermill": {
     "duration": 0.22502,
     "end_time": "2021-07-24T15:14:50.028248",
     "exception": false,
     "start_time": "2021-07-24T15:14:49.803228",
     "status": "completed"
    },
    "tags": []
   },
   "outputs": [],
   "source": [
    "X = df.loc[:,df.columns != \"phishing\"].values\n",
    "y = df[\"phishing\"].values"
   ]
  },
  {
   "cell_type": "code",
   "execution_count": 26,
   "id": "38a9a1c9",
   "metadata": {
    "_cell_guid": "a3d5edad-1f97-435d-8681-4db712ea9a72",
    "_uuid": "bf95a4ee-ae20-41e2-9a9d-98c56b16a180",
    "collapsed": false,
    "execution": {
     "iopub.execute_input": "2021-07-24T15:14:50.126662Z",
     "iopub.status.busy": "2021-07-24T15:14:50.125991Z",
     "iopub.status.idle": "2021-07-24T15:14:50.465971Z",
     "shell.execute_reply": "2021-07-24T15:14:50.465377Z",
     "shell.execute_reply.started": "2021-07-24T15:13:11.200000Z"
    },
    "jupyter": {
     "outputs_hidden": false
    },
    "papermill": {
     "duration": 0.391417,
     "end_time": "2021-07-24T15:14:50.466120",
     "exception": false,
     "start_time": "2021-07-24T15:14:50.074703",
     "status": "completed"
    },
    "tags": []
   },
   "outputs": [],
   "source": [
    "X_train, X_test, y_train, y_test = train_test_split(X, y, train_size=0.8, random_state = 0)"
   ]
  },
  {
   "cell_type": "code",
   "execution_count": 27,
   "id": "e696907a",
   "metadata": {
    "_cell_guid": "1361365c-4971-4b02-8cb9-20f21a0039d5",
    "_uuid": "a810ea0b-357b-446f-af11-ae212cc722cc",
    "collapsed": false,
    "execution": {
     "iopub.execute_input": "2021-07-24T15:14:50.562597Z",
     "iopub.status.busy": "2021-07-24T15:14:50.561989Z",
     "iopub.status.idle": "2021-07-24T15:14:50.564981Z",
     "shell.execute_reply": "2021-07-24T15:14:50.564512Z",
     "shell.execute_reply.started": "2021-07-24T15:13:11.549026Z"
    },
    "jupyter": {
     "outputs_hidden": false
    },
    "papermill": {
     "duration": 0.05244,
     "end_time": "2021-07-24T15:14:50.565107",
     "exception": false,
     "start_time": "2021-07-24T15:14:50.512667",
     "status": "completed"
    },
    "tags": []
   },
   "outputs": [],
   "source": [
    "# scaler = StandardScaler()\n",
    "# X_train = scaler.fit_transform(X_train1)\n",
    "# X_test = scaler.transform(X_test)"
   ]
  },
  {
   "cell_type": "code",
   "execution_count": 28,
   "id": "32bafe96",
   "metadata": {
    "_cell_guid": "48563aa9-e8e7-49ba-abd9-51c56f089af5",
    "_uuid": "ca1945ce-b28c-4de5-b254-a8853a21b5ee",
    "collapsed": false,
    "execution": {
     "iopub.execute_input": "2021-07-24T15:14:50.662259Z",
     "iopub.status.busy": "2021-07-24T15:14:50.661360Z",
     "iopub.status.idle": "2021-07-24T15:14:50.664319Z",
     "shell.execute_reply": "2021-07-24T15:14:50.663836Z",
     "shell.execute_reply.started": "2021-07-24T15:13:11.554131Z"
    },
    "jupyter": {
     "outputs_hidden": false
    },
    "papermill": {
     "duration": 0.053034,
     "end_time": "2021-07-24T15:14:50.664454",
     "exception": false,
     "start_time": "2021-07-24T15:14:50.611420",
     "status": "completed"
    },
    "tags": []
   },
   "outputs": [],
   "source": [
    "# Counter(y_train1)"
   ]
  },
  {
   "cell_type": "code",
   "execution_count": 29,
   "id": "5a35a68c",
   "metadata": {
    "_cell_guid": "b2e3b07a-5f2c-4c6c-b7e4-180b647ebd9a",
    "_uuid": "f57316ab-d30d-498f-b62d-16c1addcc311",
    "collapsed": false,
    "execution": {
     "iopub.execute_input": "2021-07-24T15:14:50.762410Z",
     "iopub.status.busy": "2021-07-24T15:14:50.761813Z",
     "iopub.status.idle": "2021-07-24T15:14:50.764634Z",
     "shell.execute_reply": "2021-07-24T15:14:50.764114Z",
     "shell.execute_reply.started": "2021-07-24T15:13:11.567330Z"
    },
    "jupyter": {
     "outputs_hidden": false
    },
    "papermill": {
     "duration": 0.053073,
     "end_time": "2021-07-24T15:14:50.764775",
     "exception": false,
     "start_time": "2021-07-24T15:14:50.711702",
     "status": "completed"
    },
    "tags": []
   },
   "outputs": [],
   "source": [
    "# over_sampler = RandomOverSampler(random_state=42)\n",
    "# X_train, y_train = over_sampler.fit_resample(X_train1, y_train1)"
   ]
  },
  {
   "cell_type": "code",
   "execution_count": 30,
   "id": "eee9769e",
   "metadata": {
    "_cell_guid": "52d9ad0c-fac1-4250-bbcb-37ce3ca41834",
    "_uuid": "aef8e1d0-5c9e-4e96-89a2-e034bf0d6168",
    "collapsed": false,
    "execution": {
     "iopub.execute_input": "2021-07-24T15:14:50.861849Z",
     "iopub.status.busy": "2021-07-24T15:14:50.860866Z",
     "iopub.status.idle": "2021-07-24T15:14:50.863421Z",
     "shell.execute_reply": "2021-07-24T15:14:50.863887Z",
     "shell.execute_reply.started": "2021-07-24T15:13:11.580763Z"
    },
    "jupyter": {
     "outputs_hidden": false
    },
    "papermill": {
     "duration": 0.053272,
     "end_time": "2021-07-24T15:14:50.864054",
     "exception": false,
     "start_time": "2021-07-24T15:14:50.810782",
     "status": "completed"
    },
    "tags": []
   },
   "outputs": [],
   "source": [
    "# foobarish"
   ]
  },
  {
   "cell_type": "code",
   "execution_count": 31,
   "id": "1eed9ed1",
   "metadata": {
    "_cell_guid": "254daeeb-ff6f-4fea-87d5-4a694bf91067",
    "_uuid": "d0d1747d-1d05-477d-a416-039bff83d099",
    "collapsed": false,
    "execution": {
     "iopub.execute_input": "2021-07-24T15:14:50.964348Z",
     "iopub.status.busy": "2021-07-24T15:14:50.963062Z",
     "iopub.status.idle": "2021-07-24T15:14:52.676668Z",
     "shell.execute_reply": "2021-07-24T15:14:52.676097Z",
     "shell.execute_reply.started": "2021-07-24T15:13:11.592904Z"
    },
    "jupyter": {
     "outputs_hidden": false
    },
    "papermill": {
     "duration": 1.765917,
     "end_time": "2021-07-24T15:14:52.676841",
     "exception": false,
     "start_time": "2021-07-24T15:14:50.910924",
     "status": "completed"
    },
    "tags": []
   },
   "outputs": [
    {
     "name": "stdout",
     "output_type": "stream",
     "text": [
      "Confusion Matrix : \n",
      "[[11642  2087]\n",
      " [  880 13895]]\n",
      "Classification Report:\n",
      "              precision    recall  f1-score   support\n",
      "\n",
      "           0       0.93      0.85      0.89     13729\n",
      "           1       0.87      0.94      0.90     14775\n",
      "\n",
      "    accuracy                           0.90     28504\n",
      "   macro avg       0.90      0.89      0.90     28504\n",
      "weighted avg       0.90      0.90      0.90     28504\n",
      "\n",
      "Accuracy: 89.59%\n"
     ]
    }
   ],
   "source": [
    "#Decision Tree\n",
    "dtree_model = DecisionTreeClassifier(max_depth = 5).fit(X_train, y_train)\n",
    "dtree_predictions = dtree_model.predict(X_test)\n",
    "result = confusion_matrix(y_test, dtree_predictions)\n",
    "print('Confusion Matrix : ')\n",
    "print(result)\n",
    "result1 = classification_report(y_test, dtree_predictions)\n",
    "print('Classification Report:')\n",
    "print (result1)\n",
    "result2=accuracy_score(y_test,dtree_predictions)\n",
    "print(\"Accuracy: %.2f%%\" % (result2 * 100.0))"
   ]
  },
  {
   "cell_type": "code",
   "execution_count": 32,
   "id": "d88a015e",
   "metadata": {
    "_cell_guid": "10016c39-2a41-4357-a4d9-80befcc98d4b",
    "_uuid": "c776a177-2dca-4542-926e-3bbded3c4745",
    "collapsed": false,
    "execution": {
     "iopub.execute_input": "2021-07-24T15:14:52.778404Z",
     "iopub.status.busy": "2021-07-24T15:14:52.777777Z",
     "iopub.status.idle": "2021-07-24T15:16:23.935999Z",
     "shell.execute_reply": "2021-07-24T15:16:23.936485Z"
    },
    "jupyter": {
     "outputs_hidden": false
    },
    "papermill": {
     "duration": 91.21204,
     "end_time": "2021-07-24T15:16:23.936677",
     "exception": false,
     "start_time": "2021-07-24T15:14:52.724637",
     "status": "completed"
    },
    "tags": []
   },
   "outputs": [
    {
     "name": "stdout",
     "output_type": "stream",
     "text": [
      "Confusion Matrix : \n",
      "[[12050  1679]\n",
      " [  292 14483]]\n",
      "Classification Report:\n",
      "              precision    recall  f1-score   support\n",
      "\n",
      "           0       0.98      0.88      0.92     13729\n",
      "           1       0.90      0.98      0.94     14775\n",
      "\n",
      "    accuracy                           0.93     28504\n",
      "   macro avg       0.94      0.93      0.93     28504\n",
      "weighted avg       0.93      0.93      0.93     28504\n",
      "\n",
      "Accuracy: 93.09%\n"
     ]
    }
   ],
   "source": [
    "#Random Forest\n",
    "rnd_clf=RandomForestClassifier(n_estimators = 400, criterion = 'entropy', random_state = 42)\n",
    "rnd_clf.fit(X_train,y_train)\n",
    "y_pred=rnd_clf.predict(X_test)\n",
    "result = confusion_matrix(y_test, y_pred)\n",
    "print('Confusion Matrix : ')\n",
    "print(result)\n",
    "result1 = classification_report(y_test, y_pred)\n",
    "print('Classification Report:')\n",
    "print (result1)\n",
    "result2=accuracy_score(y_test,y_pred)\n",
    "print(\"Accuracy: %.2f%%\" % (result2 * 100.0))"
   ]
  },
  {
   "cell_type": "code",
   "execution_count": 33,
   "id": "394c7d2d",
   "metadata": {
    "execution": {
     "iopub.execute_input": "2021-07-24T15:16:24.051133Z",
     "iopub.status.busy": "2021-07-24T15:16:24.050442Z",
     "iopub.status.idle": "2021-07-24T15:16:24.334759Z",
     "shell.execute_reply": "2021-07-24T15:16:24.334139Z"
    },
    "papermill": {
     "duration": 0.350711,
     "end_time": "2021-07-24T15:16:24.334888",
     "exception": false,
     "start_time": "2021-07-24T15:16:23.984177",
     "status": "completed"
    },
    "tags": []
   },
   "outputs": [
    {
     "data": {
      "image/png": "[encoded data removed]",
      "text/plain": [
       "<Figure size 576x432 with 2 Axes>"
      ]
     },
     "metadata": {
      "needs_background": "light"
     },
     "output_type": "display_data"
    },
    {
     "data": {
      "text/plain": [
       "<Figure size 432x288 with 0 Axes>"
      ]
     },
     "metadata": {},
     "output_type": "display_data"
    }
   ],
   "source": [
    "plot_confusion_matrix(cm           = result, \n",
    "                      normalize    = False,\n",
    "                      target_names = ['Legitimate', 'Phishing'],\n",
    "                      title        = \"Confusion matrix of the Random Forest classifier\")\n"
   ]
  },
  {
   "cell_type": "code",
   "execution_count": 34,
   "id": "bb2bceff",
   "metadata": {
    "execution": {
     "iopub.execute_input": "2021-07-24T15:16:24.438171Z",
     "iopub.status.busy": "2021-07-24T15:16:24.437168Z",
     "iopub.status.idle": "2021-07-24T15:16:24.543395Z",
     "shell.execute_reply": "2021-07-24T15:16:24.542863Z"
    },
    "papermill": {
     "duration": 0.159993,
     "end_time": "2021-07-24T15:16:24.543526",
     "exception": false,
     "start_time": "2021-07-24T15:16:24.383533",
     "status": "completed"
    },
    "tags": []
   },
   "outputs": [
    {
     "name": "stdout",
     "output_type": "stream",
     "text": [
      "Elapsed time to compute the importances: 0.103 seconds\n"
     ]
    }
   ],
   "source": [
    "start_time = time.time()\n",
    "importances = rnd_clf.feature_importances_\n",
    "std = np.std([\n",
    "    tree.feature_importances_ for tree in rnd_clf.estimators_], axis=0)\n",
    "elapsed_time = time.time() - start_time\n",
    "\n",
    "print(f\"Elapsed time to compute the importances: \"\n",
    "      f\"{elapsed_time:.3f} seconds\")"
   ]
  },
  {
   "cell_type": "code",
   "execution_count": 35,
   "id": "5f780e88",
   "metadata": {
    "execution": {
     "iopub.execute_input": "2021-07-24T15:16:24.663161Z",
     "iopub.status.busy": "2021-07-24T15:16:24.659117Z",
     "iopub.status.idle": "2021-07-24T15:16:30.427026Z",
     "shell.execute_reply": "2021-07-24T15:16:30.427519Z"
    },
    "papermill": {
     "duration": 5.834728,
     "end_time": "2021-07-24T15:16:30.427705",
     "exception": false,
     "start_time": "2021-07-24T15:16:24.592977",
     "status": "completed"
    },
    "tags": []
   },
   "outputs": [
    {
     "data": {
      "image/png": "[encoded data removed]",
      "text/plain": [
       "<Figure size 432x288 with 1 Axes>"
      ]
     },
     "metadata": {
      "needs_background": "light"
     },
     "output_type": "display_data"
    }
   ],
   "source": [
    "forest_importances = pd.Series(importances, index=feature_names)\n",
    "\n",
    "fig, ax = plt.subplots()\n",
    "forest_importances.plot.bar(yerr=std, ax=ax)\n",
    "ax.set_title(\"Feature importances using MDI\")\n",
    "ax.set_ylabel(\"Mean decrease in impurity\")\n",
    "fig.tight_layout()\n",
    "fig.savefig('./forest_importance.png')"
   ]
  },
  {
   "cell_type": "code",
   "execution_count": 36,
   "id": "d4ac680c",
   "metadata": {
    "execution": {
     "iopub.execute_input": "2021-07-24T15:16:30.537428Z",
     "iopub.status.busy": "2021-07-24T15:16:30.536827Z",
     "iopub.status.idle": "2021-07-24T15:16:30.539119Z",
     "shell.execute_reply": "2021-07-24T15:16:30.539656Z"
    },
    "papermill": {
     "duration": 0.060771,
     "end_time": "2021-07-24T15:16:30.539824",
     "exception": false,
     "start_time": "2021-07-24T15:16:30.479053",
     "status": "completed"
    },
    "tags": []
   },
   "outputs": [],
   "source": [
    "forest_importances_20 = forest_importances.nlargest(20).to_dict()"
   ]
  },
  {
   "cell_type": "code",
   "execution_count": 37,
   "id": "92c8a6ca",
   "metadata": {
    "execution": {
     "iopub.execute_input": "2021-07-24T15:16:30.648255Z",
     "iopub.status.busy": "2021-07-24T15:16:30.647453Z",
     "iopub.status.idle": "2021-07-24T15:16:30.650750Z",
     "shell.execute_reply": "2021-07-24T15:16:30.651211Z"
    },
    "papermill": {
     "duration": 0.060493,
     "end_time": "2021-07-24T15:16:30.651400",
     "exception": false,
     "start_time": "2021-07-24T15:16:30.590907",
     "status": "completed"
    },
    "tags": []
   },
   "outputs": [
    {
     "data": {
      "text/plain": [
       "{'cdn': 0.07915327060865482,\n",
       " 'analytics': 0.06834619187581284,\n",
       " 'analytics_audience-measurement': 0.05375637444065884,\n",
       " 'Web Server': 0.04577728098429888,\n",
       " 'ssl': 0.043694996056003,\n",
       " 'analytics_visitor-count-tracking': 0.04328799188664458,\n",
       " 'analytics_application-performance': 0.0358122031658274,\n",
       " 'javascript': 0.035570153938831804,\n",
       " 'widgets': 0.03523250795701633,\n",
       " 'domains': 0.03190379498405403,\n",
       " 'links': 0.030213160184200775,\n",
       " 'javascript_javascript-library': 0.02897875305221895,\n",
       " 'ads': 0.024669463741476057,\n",
       " 'externalSites': 0.02352682533564039,\n",
       " 'hosting': 0.023015641303889136,\n",
       " 'framework': 0.022716297280444067,\n",
       " 'nDescription': 0.022168419922285822,\n",
       " 'mx': 0.02076910532941579,\n",
       " 'mobile': 0.020456379882765892,\n",
       " 'nTitle': 0.018591745915627504}"
      ]
     },
     "execution_count": 37,
     "metadata": {},
     "output_type": "execute_result"
    }
   ],
   "source": [
    "forest_importances_20"
   ]
  },
  {
   "cell_type": "code",
   "execution_count": 38,
   "id": "621ad903",
   "metadata": {
    "execution": {
     "iopub.execute_input": "2021-07-24T15:16:30.761040Z",
     "iopub.status.busy": "2021-07-24T15:16:30.760323Z",
     "iopub.status.idle": "2021-07-24T15:16:30.762639Z",
     "shell.execute_reply": "2021-07-24T15:16:30.763104Z"
    },
    "papermill": {
     "duration": 0.05923,
     "end_time": "2021-07-24T15:16:30.763255",
     "exception": false,
     "start_time": "2021-07-24T15:16:30.704025",
     "status": "completed"
    },
    "tags": []
   },
   "outputs": [],
   "source": [
    "# features_important = [\"cdn\", \"analytics\", \"analytics_audience-measurement\", \"Web Server\", \"ssl\", \"analytics_visitor-count-tracking\", \"analytics_application-performance\", \"javascript\", \"widgets\", \"domains\", \"links\", \"javascript_javascript-library\",\n",
    "# \"ads\", \"externalSites\", \"hosting\", \"framework\", \"nDescription\", \"mx\", \"mobile\", \"nTitle\"]\n",
    "\n",
    "# print(len(features_important))"
   ]
  },
  {
   "cell_type": "code",
   "execution_count": 39,
   "id": "223a5ef9",
   "metadata": {
    "execution": {
     "iopub.execute_input": "2021-07-24T15:16:30.870728Z",
     "iopub.status.busy": "2021-07-24T15:16:30.870134Z",
     "iopub.status.idle": "2021-07-24T15:16:30.873028Z",
     "shell.execute_reply": "2021-07-24T15:16:30.873467Z"
    },
    "papermill": {
     "duration": 0.057934,
     "end_time": "2021-07-24T15:16:30.873632",
     "exception": false,
     "start_time": "2021-07-24T15:16:30.815698",
     "status": "completed"
    },
    "tags": []
   },
   "outputs": [],
   "source": [
    "# plt.bar(range(len(forest_importances_20)), list(forest_importances_20.values()), align='center')\n",
    "# plt.xticks(range(len(forest_importances_20)), list(forest_importances_20.keys()), rotation=90)\n",
    "# # # for python 2.x:\n",
    "# # plt.bar(range(len(D)), D.values(), align='center')  # python 2.x\n",
    "# # plt.xticks(range(len(D)), D.keys())  # in python 2.x\n",
    "# plt.show()\n",
    "# plt.savefig('./important_features.png')"
   ]
  },
  {
   "cell_type": "code",
   "execution_count": 40,
   "id": "c0257ba7",
   "metadata": {
    "execution": {
     "iopub.execute_input": "2021-07-24T15:16:30.983290Z",
     "iopub.status.busy": "2021-07-24T15:16:30.982707Z",
     "iopub.status.idle": "2021-07-24T15:16:30.985582Z",
     "shell.execute_reply": "2021-07-24T15:16:30.986035Z"
    },
    "papermill": {
     "duration": 0.059093,
     "end_time": "2021-07-24T15:16:30.986178",
     "exception": false,
     "start_time": "2021-07-24T15:16:30.927085",
     "status": "completed"
    },
    "tags": []
   },
   "outputs": [],
   "source": [
    "# forest_importances2 = pd.Series(forest_importances_60.values(), index=features_important)\n",
    "\n",
    "# fig2, ax2 = plt.subplots()\n",
    "# forest_importances2.plot.bar(yerr=std, ax=ax2)\n",
    "# ax2.set_title(\"Feature importances using MDI\")\n",
    "# ax2.set_ylabel(\"Mean decrease in impurity\")\n",
    "# fig2.tight_layout()\n",
    "# fig2.savefig('./forest_importance.png')"
   ]
  },
  {
   "cell_type": "code",
   "execution_count": 41,
   "id": "46decca2",
   "metadata": {
    "execution": {
     "iopub.execute_input": "2021-07-24T15:16:31.093893Z",
     "iopub.status.busy": "2021-07-24T15:16:31.093293Z",
     "iopub.status.idle": "2021-07-24T15:53:32.444907Z",
     "shell.execute_reply": "2021-07-24T15:53:32.445404Z"
    },
    "papermill": {
     "duration": 2221.406709,
     "end_time": "2021-07-24T15:53:32.445627",
     "exception": false,
     "start_time": "2021-07-24T15:16:31.038918",
     "status": "completed"
    },
    "tags": []
   },
   "outputs": [
    {
     "name": "stdout",
     "output_type": "stream",
     "text": [
      "Elapsed time to compute the importances: 2217.395 seconds\n"
     ]
    },
    {
     "data": {
      "image/png": "[encoded data removed]",
      "text/plain": [
       "<Figure size 432x288 with 1 Axes>"
      ]
     },
     "metadata": {
      "needs_background": "light"
     },
     "output_type": "display_data"
    }
   ],
   "source": [
    "start_time = time.time()\n",
    "result = permutation_importance(\n",
    "    rnd_clf, X_test, y_test, n_repeats=10, random_state=42, n_jobs=2)\n",
    "elapsed_time = time.time() - start_time\n",
    "print(f\"Elapsed time to compute the importances: \"\n",
    "      f\"{elapsed_time:.3f} seconds\")\n",
    "\n",
    "forest_importances2 = pd.Series(result.importances_mean, index=feature_names)\n",
    "\n",
    "fig, ax = plt.subplots()\n",
    "forest_importances2.plot.bar(yerr=result.importances_std, ax=ax)\n",
    "ax.set_title(\"Feature importances using permutation on full model\")\n",
    "ax.set_ylabel(\"Mean accuracy decrease\")\n",
    "fig.tight_layout()\n",
    "plt.show()"
   ]
  },
  {
   "cell_type": "code",
   "execution_count": 42,
   "id": "b73a36b3",
   "metadata": {
    "execution": {
     "iopub.execute_input": "2021-07-24T15:53:32.563646Z",
     "iopub.status.busy": "2021-07-24T15:53:32.562992Z",
     "iopub.status.idle": "2021-07-24T15:53:32.565765Z",
     "shell.execute_reply": "2021-07-24T15:53:32.565234Z"
    },
    "papermill": {
     "duration": 0.065071,
     "end_time": "2021-07-24T15:53:32.565927",
     "exception": false,
     "start_time": "2021-07-24T15:53:32.500856",
     "status": "completed"
    },
    "tags": []
   },
   "outputs": [],
   "source": [
    "forest_importances2_20 = forest_importances2.nlargest(20).to_dict()"
   ]
  },
  {
   "cell_type": "code",
   "execution_count": 43,
   "id": "d9814809",
   "metadata": {
    "execution": {
     "iopub.execute_input": "2021-07-24T15:53:32.711055Z",
     "iopub.status.busy": "2021-07-24T15:53:32.707638Z",
     "iopub.status.idle": "2021-07-24T15:53:32.926281Z",
     "shell.execute_reply": "2021-07-24T15:53:32.925780Z"
    },
    "papermill": {
     "duration": 0.303619,
     "end_time": "2021-07-24T15:53:32.926405",
     "exception": false,
     "start_time": "2021-07-24T15:53:32.622786",
     "status": "completed"
    },
    "tags": []
   },
   "outputs": [
    {
     "data": {
      "image/png": "[encoded data removed]",
      "text/plain": [
       "<Figure size 432x288 with 1 Axes>"
      ]
     },
     "metadata": {
      "needs_background": "light"
     },
     "output_type": "display_data"
    },
    {
     "data": {
      "text/plain": [
       "<Figure size 432x288 with 0 Axes>"
      ]
     },
     "metadata": {},
     "output_type": "display_data"
    }
   ],
   "source": [
    "plt.bar(range(len(forest_importances2_20)), list(forest_importances2_20.values()), align='center')\n",
    "plt.xticks(range(len(forest_importances2_20)), list(forest_importances2_20.keys()), rotation=90)\n",
    "# # for python 2.x:\n",
    "# plt.bar(range(len(D)), D.values(), align='center')  # python 2.x\n",
    "# plt.xticks(range(len(D)), D.keys())  # in python 2.x\n",
    "plt.show()\n",
    "plt.savefig('./important_features.png')"
   ]
  },
  {
   "cell_type": "code",
   "execution_count": 44,
   "id": "065c06fa",
   "metadata": {
    "_cell_guid": "7fc88adc-b78b-46a3-83f3-042d92baf7d2",
    "_uuid": "858ddacb-5ad0-4ac4-bc00-e80bfc2a482a",
    "collapsed": false,
    "execution": {
     "iopub.execute_input": "2021-07-24T15:53:33.122865Z",
     "iopub.status.busy": "2021-07-24T15:53:33.122120Z",
     "iopub.status.idle": "2021-07-24T15:53:33.712999Z",
     "shell.execute_reply": "2021-07-24T15:53:33.712388Z"
    },
    "jupyter": {
     "outputs_hidden": false
    },
    "papermill": {
     "duration": 0.679221,
     "end_time": "2021-07-24T15:53:33.713154",
     "exception": false,
     "start_time": "2021-07-24T15:53:33.033933",
     "status": "completed"
    },
    "tags": []
   },
   "outputs": [
    {
     "name": "stdout",
     "output_type": "stream",
     "text": [
      "Confusion Matrix : \n",
      "[[ 8696  5033]\n",
      " [  547 14228]]\n",
      "Classification Report:\n",
      "              precision    recall  f1-score   support\n",
      "\n",
      "           0       0.94      0.63      0.76     13729\n",
      "           1       0.74      0.96      0.84     14775\n",
      "\n",
      "    accuracy                           0.80     28504\n",
      "   macro avg       0.84      0.80      0.80     28504\n",
      "weighted avg       0.84      0.80      0.80     28504\n",
      "\n",
      "Accuracy: 80.42%\n"
     ]
    }
   ],
   "source": [
    "#GNB\n",
    "gnb = GaussianNB().fit(X_train, y_train)\n",
    "y_pred = gnb.predict(X_test)\n",
    "result = confusion_matrix(y_test, y_pred)\n",
    "print('Confusion Matrix : ')\n",
    "print(result)\n",
    "result1 = classification_report(y_test, y_pred)\n",
    "print('Classification Report:')\n",
    "print (result1)\n",
    "result2=accuracy_score(y_test,y_pred)\n",
    "print(\"Accuracy: %.2f%%\" % (result2 * 100.0))"
   ]
  },
  {
   "cell_type": "code",
   "execution_count": 45,
   "id": "82b1ceb4",
   "metadata": {
    "_cell_guid": "24e31575-8e59-452b-b168-2a419603ca4b",
    "_uuid": "6a3f17aa-fd43-4a91-92e2-1c121ada52f4",
    "collapsed": false,
    "execution": {
     "iopub.execute_input": "2021-07-24T15:53:33.839413Z",
     "iopub.status.busy": "2021-07-24T15:53:33.838293Z",
     "iopub.status.idle": "2021-07-24T16:00:46.692025Z",
     "shell.execute_reply": "2021-07-24T16:00:46.692559Z"
    },
    "jupyter": {
     "outputs_hidden": false
    },
    "papermill": {
     "duration": 432.920959,
     "end_time": "2021-07-24T16:00:46.692763",
     "exception": false,
     "start_time": "2021-07-24T15:53:33.771804",
     "status": "completed"
    },
    "tags": []
   },
   "outputs": [
    {
     "name": "stdout",
     "output_type": "stream",
     "text": [
      "Confusion Matrix : \n",
      "[[11642  2087]\n",
      " [  466 14309]]\n",
      "Classification Report:\n",
      "              precision    recall  f1-score   support\n",
      "\n",
      "           0       0.96      0.85      0.90     13729\n",
      "           1       0.87      0.97      0.92     14775\n",
      "\n",
      "    accuracy                           0.91     28504\n",
      "   macro avg       0.92      0.91      0.91     28504\n",
      "weighted avg       0.92      0.91      0.91     28504\n",
      "\n",
      "Accuracy: 91.04%\n"
     ]
    }
   ],
   "source": [
    "#KNN\n",
    "#knn_clf=KNeighborsClassifier()\n",
    "knn_clf = KNeighborsClassifier(n_neighbors = 20).fit(X_train, y_train)\n",
    "ypred=knn_clf.predict(X_test) #These are the predicted output values\n",
    "\n",
    "# evaluate predictions\n",
    "result = confusion_matrix(y_test, ypred)\n",
    "print('Confusion Matrix : ')\n",
    "print(result)\n",
    "result1 = classification_report(y_test, ypred)\n",
    "print('Classification Report:')\n",
    "print (result1)\n",
    "result2 = accuracy_score(y_test,ypred)\n",
    "print(\"Accuracy: %.2f%%\" % (result2 * 100.0))"
   ]
  },
  {
   "cell_type": "code",
   "execution_count": 46,
   "id": "24384e2a",
   "metadata": {
    "_cell_guid": "0f54ff10-c262-43d2-84a9-76b6de33bbbb",
    "_uuid": "e846086e-e75d-4797-998c-2519b3b62e05",
    "collapsed": false,
    "execution": {
     "iopub.execute_input": "2021-07-24T16:00:46.817426Z",
     "iopub.status.busy": "2021-07-24T16:00:46.816842Z",
     "iopub.status.idle": "2021-07-24T17:30:13.073690Z",
     "shell.execute_reply": "2021-07-24T17:30:13.074311Z"
    },
    "jupyter": {
     "outputs_hidden": false
    },
    "papermill": {
     "duration": 5366.321664,
     "end_time": "2021-07-24T17:30:13.074500",
     "exception": false,
     "start_time": "2021-07-24T16:00:46.752836",
     "status": "completed"
    },
    "tags": []
   },
   "outputs": [
    {
     "name": "stdout",
     "output_type": "stream",
     "text": [
      "0.877315464496211\n"
     ]
    }
   ],
   "source": [
    "#SVM\n",
    "poly = svm.SVC(kernel=\"rbf\").fit(X_train, y_train)\n",
    "accuracy_poly = poly.score(X_test, y_test)\n",
    "print(accuracy_poly)"
   ]
  },
  {
   "cell_type": "code",
   "execution_count": 47,
   "id": "a988e778",
   "metadata": {
    "execution": {
     "iopub.execute_input": "2021-07-24T17:30:13.202650Z",
     "iopub.status.busy": "2021-07-24T17:30:13.201444Z",
     "iopub.status.idle": "2021-07-24T17:36:19.440542Z",
     "shell.execute_reply": "2021-07-24T17:36:19.439499Z"
    },
    "papermill": {
     "duration": 366.305134,
     "end_time": "2021-07-24T17:36:19.440761",
     "exception": false,
     "start_time": "2021-07-24T17:30:13.135627",
     "status": "completed"
    },
    "tags": []
   },
   "outputs": [],
   "source": [
    "pred_svm = poly.predict(X_test)"
   ]
  },
  {
   "cell_type": "code",
   "execution_count": 48,
   "id": "fd424bda",
   "metadata": {
    "execution": {
     "iopub.execute_input": "2021-07-24T17:36:19.570758Z",
     "iopub.status.busy": "2021-07-24T17:36:19.569809Z",
     "iopub.status.idle": "2021-07-24T17:36:19.616583Z",
     "shell.execute_reply": "2021-07-24T17:36:19.615829Z"
    },
    "papermill": {
     "duration": 0.111754,
     "end_time": "2021-07-24T17:36:19.616777",
     "exception": false,
     "start_time": "2021-07-24T17:36:19.505023",
     "status": "completed"
    },
    "tags": []
   },
   "outputs": [
    {
     "name": "stdout",
     "output_type": "stream",
     "text": [
      "Confusion Matrix : \n",
      "[[11013  2716]\n",
      " [  781 13994]]\n"
     ]
    }
   ],
   "source": [
    "result = confusion_matrix(y_test, pred_svm)\n",
    "print('Confusion Matrix : ')\n",
    "print(result)"
   ]
  },
  {
   "cell_type": "code",
   "execution_count": 49,
   "id": "0f72d1b1",
   "metadata": {
    "_cell_guid": "b3308f70-5401-437d-aa6b-e9d05e5531c7",
    "_uuid": "79acd407-b3d4-4319-b1f5-3bb8b7450581",
    "collapsed": false,
    "execution": {
     "iopub.execute_input": "2021-07-24T17:36:19.750815Z",
     "iopub.status.busy": "2021-07-24T17:36:19.749814Z",
     "iopub.status.idle": "2021-07-24T17:36:19.752806Z",
     "shell.execute_reply": "2021-07-24T17:36:19.752313Z"
    },
    "jupyter": {
     "outputs_hidden": false
    },
    "papermill": {
     "duration": 0.068578,
     "end_time": "2021-07-24T17:36:19.752941",
     "exception": false,
     "start_time": "2021-07-24T17:36:19.684363",
     "status": "completed"
    },
    "tags": []
   },
   "outputs": [],
   "source": [
    "#data for XGBoost and CatBoost\n",
    "# X_train,X_test,y_train,y_test = train_test_split(X,y,test_size = 0.2)\n",
    "# X_val,X_test_main,y_val,y_test_main = train_test_split(X_test,y_test,test_size = 0.5)\n",
    "\n",
    "#label Encoding for XGBoost\n",
    "labelencoder = LabelEncoder()\n",
    "\n",
    "# Assigning numerical values and storing in another column\n",
    "# y_train = labelencoder.fit_transform(y_train)\n",
    "# y_test = labelencoder.fit_transform(y_test)"
   ]
  },
  {
   "cell_type": "code",
   "execution_count": 50,
   "id": "cd69c484",
   "metadata": {
    "_cell_guid": "e8f532a6-8f72-408f-928e-bacccf13ef75",
    "_uuid": "fb057735-baa6-4249-b9cb-848eaa13221e",
    "collapsed": false,
    "execution": {
     "iopub.execute_input": "2021-07-24T17:36:19.926064Z",
     "iopub.status.busy": "2021-07-24T17:36:19.925359Z",
     "iopub.status.idle": "2021-07-24T17:36:19.929181Z",
     "shell.execute_reply": "2021-07-24T17:36:19.929633Z"
    },
    "jupyter": {
     "outputs_hidden": false
    },
    "papermill": {
     "duration": 0.115752,
     "end_time": "2021-07-24T17:36:19.929820",
     "exception": false,
     "start_time": "2021-07-24T17:36:19.814068",
     "status": "completed"
    },
    "tags": []
   },
   "outputs": [
    {
     "data": {
      "text/plain": [
       "Counter({1: 58863, 0: 55151})"
      ]
     },
     "execution_count": 50,
     "metadata": {},
     "output_type": "execute_result"
    }
   ],
   "source": [
    "Counter(y_train)"
   ]
  },
  {
   "cell_type": "code",
   "execution_count": 51,
   "id": "1f4ce3f2",
   "metadata": {
    "_cell_guid": "d0b4c628-437d-457d-9646-49a46eac6f8b",
    "_uuid": "d927d62a-22ef-4747-ac8f-86e9553671d2",
    "collapsed": false,
    "execution": {
     "iopub.execute_input": "2021-07-24T17:36:20.067150Z",
     "iopub.status.busy": "2021-07-24T17:36:20.066461Z",
     "iopub.status.idle": "2021-07-24T17:36:20.070500Z",
     "shell.execute_reply": "2021-07-24T17:36:20.070049Z"
    },
    "jupyter": {
     "outputs_hidden": false
    },
    "papermill": {
     "duration": 0.079962,
     "end_time": "2021-07-24T17:36:20.070658",
     "exception": false,
     "start_time": "2021-07-24T17:36:19.990696",
     "status": "completed"
    },
    "tags": []
   },
   "outputs": [
    {
     "data": {
      "text/plain": [
       "Counter({0: 13729, 1: 14775})"
      ]
     },
     "execution_count": 51,
     "metadata": {},
     "output_type": "execute_result"
    }
   ],
   "source": [
    "Counter(y_test)"
   ]
  },
  {
   "cell_type": "code",
   "execution_count": 52,
   "id": "f989a65d",
   "metadata": {
    "_cell_guid": "c1028936-3902-4d23-b688-3406a660b65c",
    "_uuid": "284eada6-c928-4ce2-b42c-0c30ac0cf7a9",
    "collapsed": false,
    "execution": {
     "iopub.execute_input": "2021-07-24T17:36:20.202932Z",
     "iopub.status.busy": "2021-07-24T17:36:20.201849Z",
     "iopub.status.idle": "2021-07-24T17:36:57.293476Z",
     "shell.execute_reply": "2021-07-24T17:36:57.294053Z"
    },
    "jupyter": {
     "outputs_hidden": false
    },
    "papermill": {
     "duration": 37.161837,
     "end_time": "2021-07-24T17:36:57.294228",
     "exception": false,
     "start_time": "2021-07-24T17:36:20.132391",
     "status": "completed"
    },
    "tags": []
   },
   "outputs": [
    {
     "name": "stdout",
     "output_type": "stream",
     "text": [
      "[17:36:21] WARNING: ../src/learner.cc:1095: Starting in XGBoost 1.3.0, the default evaluation metric used with the objective 'binary:logistic' was changed from 'error' to 'logloss'. Explicitly set eval_metric if you'd like to restore the old behavior.\n",
      "Confusion Matrix : \n",
      "[[11955  1774]\n",
      " [  252 14523]]\n",
      "Classification Report:\n",
      "              precision    recall  f1-score   support\n",
      "\n",
      "           0       0.98      0.87      0.92     13729\n",
      "           1       0.89      0.98      0.93     14775\n",
      "\n",
      "    accuracy                           0.93     28504\n",
      "   macro avg       0.94      0.93      0.93     28504\n",
      "weighted avg       0.93      0.93      0.93     28504\n",
      "\n",
      "Accuracy: 92.89%\n"
     ]
    }
   ],
   "source": [
    "#XGBoost\n",
    "model = XGBClassifier(learning_rate = 0.335)\n",
    "model.fit(X_train, y_train)\n",
    "\n",
    "# make predictions for test data\n",
    "y_pred = model.predict(X_test)\n",
    "predictions = [value for value in y_pred]\n",
    "\n",
    "# evaluate predictions\n",
    "result = confusion_matrix(y_test, predictions)\n",
    "print('Confusion Matrix : ')\n",
    "print(result)\n",
    "result1 = classification_report(y_test, predictions)\n",
    "print('Classification Report:')\n",
    "print (result1)\n",
    "result2 = accuracy_score(y_test,predictions)\n",
    "print(\"Accuracy: %.2f%%\" % (result2 * 100.0))"
   ]
  },
  {
   "cell_type": "code",
   "execution_count": 53,
   "id": "56420673",
   "metadata": {
    "_cell_guid": "1a62eebb-0879-44a5-983f-97f674174af5",
    "_uuid": "6c9f6c30-b50d-4498-a849-a1d5c5a2c910",
    "collapsed": false,
    "execution": {
     "iopub.execute_input": "2021-07-24T17:36:57.428906Z",
     "iopub.status.busy": "2021-07-24T17:36:57.428168Z",
     "iopub.status.idle": "2021-07-24T17:37:57.510981Z",
     "shell.execute_reply": "2021-07-24T17:37:57.510034Z"
    },
    "jupyter": {
     "outputs_hidden": false
    },
    "papermill": {
     "duration": 60.15578,
     "end_time": "2021-07-24T17:37:57.511158",
     "exception": false,
     "start_time": "2021-07-24T17:36:57.355378",
     "status": "completed"
    },
    "tags": []
   },
   "outputs": [
    {
     "name": "stdout",
     "output_type": "stream",
     "text": [
      "0:\tlearn: 0.5959027\ttotal: 298ms\tremaining: 59.3s\n",
      "1:\tlearn: 0.5250413\ttotal: 523ms\tremaining: 51.8s\n",
      "2:\tlearn: 0.4680455\ttotal: 751ms\tremaining: 49.3s\n",
      "3:\tlearn: 0.4263354\ttotal: 978ms\tremaining: 47.9s\n",
      "4:\tlearn: 0.3947184\ttotal: 1.2s\tremaining: 47s\n",
      "5:\tlearn: 0.3694688\ttotal: 1.43s\tremaining: 46.2s\n",
      "6:\tlearn: 0.3490253\ttotal: 1.66s\tremaining: 45.6s\n",
      "7:\tlearn: 0.3311695\ttotal: 1.88s\tremaining: 45.1s\n",
      "8:\tlearn: 0.3174404\ttotal: 2.1s\tremaining: 44.7s\n",
      "9:\tlearn: 0.3061494\ttotal: 2.33s\tremaining: 44.3s\n",
      "10:\tlearn: 0.2962610\ttotal: 2.56s\tremaining: 44s\n",
      "11:\tlearn: 0.2903236\ttotal: 2.79s\tremaining: 43.6s\n",
      "12:\tlearn: 0.2848929\ttotal: 3.01s\tremaining: 43.3s\n",
      "13:\tlearn: 0.2793594\ttotal: 3.24s\tremaining: 43s\n",
      "14:\tlearn: 0.2744115\ttotal: 3.48s\tremaining: 42.9s\n",
      "15:\tlearn: 0.2699969\ttotal: 3.71s\tremaining: 42.7s\n",
      "16:\tlearn: 0.2662172\ttotal: 3.94s\tremaining: 42.4s\n",
      "17:\tlearn: 0.2625422\ttotal: 4.17s\tremaining: 42.2s\n",
      "18:\tlearn: 0.2597746\ttotal: 4.4s\tremaining: 41.9s\n",
      "19:\tlearn: 0.2578521\ttotal: 4.62s\tremaining: 41.6s\n",
      "20:\tlearn: 0.2564501\ttotal: 4.84s\tremaining: 41.3s\n",
      "21:\tlearn: 0.2551141\ttotal: 5.07s\tremaining: 41s\n",
      "22:\tlearn: 0.2535844\ttotal: 5.29s\tremaining: 40.8s\n",
      "23:\tlearn: 0.2524195\ttotal: 5.56s\tremaining: 40.8s\n",
      "24:\tlearn: 0.2508883\ttotal: 5.8s\tremaining: 40.6s\n",
      "25:\tlearn: 0.2490708\ttotal: 6.03s\tremaining: 40.3s\n",
      "26:\tlearn: 0.2471771\ttotal: 6.26s\tremaining: 40.1s\n",
      "27:\tlearn: 0.2462074\ttotal: 6.48s\tremaining: 39.8s\n",
      "28:\tlearn: 0.2450827\ttotal: 6.71s\tremaining: 39.5s\n",
      "29:\tlearn: 0.2438408\ttotal: 6.93s\tremaining: 39.3s\n",
      "30:\tlearn: 0.2427219\ttotal: 7.16s\tremaining: 39s\n",
      "31:\tlearn: 0.2420380\ttotal: 7.38s\tremaining: 38.8s\n",
      "32:\tlearn: 0.2411830\ttotal: 7.61s\tremaining: 38.5s\n",
      "33:\tlearn: 0.2404821\ttotal: 7.83s\tremaining: 38.2s\n",
      "34:\tlearn: 0.2397507\ttotal: 8.05s\tremaining: 38s\n",
      "35:\tlearn: 0.2388765\ttotal: 8.28s\tremaining: 37.7s\n",
      "36:\tlearn: 0.2385030\ttotal: 8.5s\tremaining: 37.4s\n",
      "37:\tlearn: 0.2376912\ttotal: 8.72s\tremaining: 37.2s\n",
      "38:\tlearn: 0.2372060\ttotal: 8.95s\tremaining: 37s\n",
      "39:\tlearn: 0.2366512\ttotal: 9.17s\tremaining: 36.7s\n",
      "40:\tlearn: 0.2361575\ttotal: 9.4s\tremaining: 36.4s\n",
      "41:\tlearn: 0.2354087\ttotal: 9.62s\tremaining: 36.2s\n",
      "42:\tlearn: 0.2350169\ttotal: 9.84s\tremaining: 35.9s\n",
      "43:\tlearn: 0.2346224\ttotal: 10.1s\tremaining: 35.7s\n",
      "44:\tlearn: 0.2342716\ttotal: 10.3s\tremaining: 35.4s\n",
      "45:\tlearn: 0.2340443\ttotal: 10.5s\tremaining: 35.2s\n",
      "46:\tlearn: 0.2336476\ttotal: 10.7s\tremaining: 35s\n",
      "47:\tlearn: 0.2332941\ttotal: 11s\tremaining: 34.7s\n",
      "48:\tlearn: 0.2329720\ttotal: 11.2s\tremaining: 34.5s\n",
      "49:\tlearn: 0.2327573\ttotal: 11.4s\tremaining: 34.2s\n",
      "50:\tlearn: 0.2324506\ttotal: 11.6s\tremaining: 34s\n",
      "51:\tlearn: 0.2320084\ttotal: 11.9s\tremaining: 33.7s\n",
      "52:\tlearn: 0.2317806\ttotal: 12.1s\tremaining: 33.5s\n",
      "53:\tlearn: 0.2315295\ttotal: 12.3s\tremaining: 33.3s\n",
      "54:\tlearn: 0.2312730\ttotal: 12.5s\tremaining: 33s\n",
      "55:\tlearn: 0.2310710\ttotal: 12.7s\tremaining: 32.8s\n",
      "56:\tlearn: 0.2307605\ttotal: 13s\tremaining: 32.5s\n",
      "57:\tlearn: 0.2304354\ttotal: 13.2s\tremaining: 32.3s\n",
      "58:\tlearn: 0.2302287\ttotal: 13.4s\tremaining: 32.1s\n",
      "59:\tlearn: 0.2300186\ttotal: 13.6s\tremaining: 31.8s\n",
      "60:\tlearn: 0.2299276\ttotal: 13.9s\tremaining: 31.6s\n",
      "61:\tlearn: 0.2296349\ttotal: 14.1s\tremaining: 31.4s\n",
      "62:\tlearn: 0.2295411\ttotal: 14.3s\tremaining: 31.1s\n",
      "63:\tlearn: 0.2293470\ttotal: 14.5s\tremaining: 30.9s\n",
      "64:\tlearn: 0.2287667\ttotal: 14.8s\tremaining: 30.7s\n",
      "65:\tlearn: 0.2286689\ttotal: 15s\tremaining: 30.4s\n",
      "66:\tlearn: 0.2285558\ttotal: 15.3s\tremaining: 30.3s\n",
      "67:\tlearn: 0.2284393\ttotal: 15.6s\tremaining: 30.3s\n",
      "68:\tlearn: 0.2281817\ttotal: 15.9s\tremaining: 30.2s\n",
      "69:\tlearn: 0.2280212\ttotal: 16.2s\tremaining: 30.1s\n",
      "70:\tlearn: 0.2279267\ttotal: 16.5s\tremaining: 29.9s\n",
      "71:\tlearn: 0.2275636\ttotal: 16.7s\tremaining: 29.7s\n",
      "72:\tlearn: 0.2272008\ttotal: 16.9s\tremaining: 29.5s\n",
      "73:\tlearn: 0.2271104\ttotal: 17.1s\tremaining: 29.2s\n",
      "74:\tlearn: 0.2269635\ttotal: 17.4s\tremaining: 29s\n",
      "75:\tlearn: 0.2268014\ttotal: 17.6s\tremaining: 28.7s\n",
      "76:\tlearn: 0.2265622\ttotal: 17.8s\tremaining: 28.5s\n",
      "77:\tlearn: 0.2263519\ttotal: 18s\tremaining: 28.2s\n",
      "78:\tlearn: 0.2260156\ttotal: 18.3s\tremaining: 28s\n",
      "79:\tlearn: 0.2257180\ttotal: 18.5s\tremaining: 27.7s\n",
      "80:\tlearn: 0.2254785\ttotal: 18.7s\tremaining: 27.5s\n",
      "81:\tlearn: 0.2253881\ttotal: 19s\tremaining: 27.3s\n",
      "82:\tlearn: 0.2252264\ttotal: 19.2s\tremaining: 27s\n",
      "83:\tlearn: 0.2248409\ttotal: 19.4s\tremaining: 26.8s\n",
      "84:\tlearn: 0.2247491\ttotal: 19.6s\tremaining: 26.6s\n",
      "85:\tlearn: 0.2244484\ttotal: 19.9s\tremaining: 26.3s\n",
      "86:\tlearn: 0.2242206\ttotal: 20.1s\tremaining: 26.1s\n",
      "87:\tlearn: 0.2238254\ttotal: 20.3s\tremaining: 25.8s\n",
      "88:\tlearn: 0.2236779\ttotal: 20.5s\tremaining: 25.6s\n",
      "89:\tlearn: 0.2235436\ttotal: 20.7s\tremaining: 25.4s\n",
      "90:\tlearn: 0.2234154\ttotal: 21s\tremaining: 25.1s\n",
      "91:\tlearn: 0.2232867\ttotal: 21.2s\tremaining: 24.9s\n",
      "92:\tlearn: 0.2230978\ttotal: 21.4s\tremaining: 24.6s\n",
      "93:\tlearn: 0.2230358\ttotal: 21.6s\tremaining: 24.4s\n",
      "94:\tlearn: 0.2228428\ttotal: 21.8s\tremaining: 24.1s\n",
      "95:\tlearn: 0.2226627\ttotal: 22.1s\tremaining: 23.9s\n",
      "96:\tlearn: 0.2224984\ttotal: 22.3s\tremaining: 23.7s\n",
      "97:\tlearn: 0.2222412\ttotal: 22.5s\tremaining: 23.4s\n",
      "98:\tlearn: 0.2222262\ttotal: 22.7s\tremaining: 23.2s\n",
      "99:\tlearn: 0.2221344\ttotal: 23s\tremaining: 23s\n",
      "100:\tlearn: 0.2218384\ttotal: 23.2s\tremaining: 22.7s\n",
      "101:\tlearn: 0.2217284\ttotal: 23.4s\tremaining: 22.5s\n",
      "102:\tlearn: 0.2215515\ttotal: 23.6s\tremaining: 22.3s\n",
      "103:\tlearn: 0.2214972\ttotal: 23.9s\tremaining: 22s\n",
      "104:\tlearn: 0.2214465\ttotal: 24.1s\tremaining: 21.8s\n",
      "105:\tlearn: 0.2213549\ttotal: 24.3s\tremaining: 21.6s\n",
      "106:\tlearn: 0.2211080\ttotal: 24.5s\tremaining: 21.3s\n",
      "107:\tlearn: 0.2208824\ttotal: 24.8s\tremaining: 21.1s\n",
      "108:\tlearn: 0.2206944\ttotal: 25s\tremaining: 20.9s\n",
      "109:\tlearn: 0.2206084\ttotal: 25.2s\tremaining: 20.6s\n",
      "110:\tlearn: 0.2204772\ttotal: 25.4s\tremaining: 20.4s\n",
      "111:\tlearn: 0.2203280\ttotal: 25.7s\tremaining: 20.2s\n",
      "112:\tlearn: 0.2202646\ttotal: 25.9s\tremaining: 19.9s\n",
      "113:\tlearn: 0.2201966\ttotal: 26.1s\tremaining: 19.7s\n",
      "114:\tlearn: 0.2199312\ttotal: 26.3s\tremaining: 19.5s\n",
      "115:\tlearn: 0.2198701\ttotal: 26.6s\tremaining: 19.2s\n",
      "116:\tlearn: 0.2198019\ttotal: 26.8s\tremaining: 19s\n",
      "117:\tlearn: 0.2197992\ttotal: 27s\tremaining: 18.8s\n",
      "118:\tlearn: 0.2197129\ttotal: 27.2s\tremaining: 18.5s\n",
      "119:\tlearn: 0.2196385\ttotal: 27.5s\tremaining: 18.3s\n",
      "120:\tlearn: 0.2195951\ttotal: 27.8s\tremaining: 18.1s\n",
      "121:\tlearn: 0.2195519\ttotal: 28s\tremaining: 17.9s\n",
      "122:\tlearn: 0.2193834\ttotal: 28.2s\tremaining: 17.7s\n",
      "123:\tlearn: 0.2192083\ttotal: 28.4s\tremaining: 17.4s\n",
      "124:\tlearn: 0.2190073\ttotal: 28.7s\tremaining: 17.2s\n",
      "125:\tlearn: 0.2187398\ttotal: 28.9s\tremaining: 17s\n",
      "126:\tlearn: 0.2184580\ttotal: 29.1s\tremaining: 16.7s\n",
      "127:\tlearn: 0.2182742\ttotal: 29.3s\tremaining: 16.5s\n",
      "128:\tlearn: 0.2182316\ttotal: 29.6s\tremaining: 16.3s\n",
      "129:\tlearn: 0.2178068\ttotal: 29.8s\tremaining: 16s\n",
      "130:\tlearn: 0.2177053\ttotal: 30s\tremaining: 15.8s\n",
      "131:\tlearn: 0.2176741\ttotal: 30.2s\tremaining: 15.6s\n",
      "132:\tlearn: 0.2174383\ttotal: 30.5s\tremaining: 15.4s\n",
      "133:\tlearn: 0.2172153\ttotal: 30.7s\tremaining: 15.1s\n",
      "134:\tlearn: 0.2170991\ttotal: 30.9s\tremaining: 14.9s\n",
      "135:\tlearn: 0.2167482\ttotal: 31.2s\tremaining: 14.7s\n",
      "136:\tlearn: 0.2166575\ttotal: 31.4s\tremaining: 14.4s\n",
      "137:\tlearn: 0.2166150\ttotal: 31.6s\tremaining: 14.2s\n",
      "138:\tlearn: 0.2165162\ttotal: 31.8s\tremaining: 14s\n",
      "139:\tlearn: 0.2164580\ttotal: 32.1s\tremaining: 13.7s\n",
      "140:\tlearn: 0.2163722\ttotal: 32.3s\tremaining: 13.5s\n",
      "141:\tlearn: 0.2162701\ttotal: 32.5s\tremaining: 13.3s\n",
      "142:\tlearn: 0.2160175\ttotal: 32.7s\tremaining: 13s\n",
      "143:\tlearn: 0.2158405\ttotal: 33s\tremaining: 12.8s\n",
      "144:\tlearn: 0.2156909\ttotal: 33.2s\tremaining: 12.6s\n",
      "145:\tlearn: 0.2155353\ttotal: 33.4s\tremaining: 12.4s\n",
      "146:\tlearn: 0.2154018\ttotal: 33.6s\tremaining: 12.1s\n",
      "147:\tlearn: 0.2153544\ttotal: 33.9s\tremaining: 11.9s\n",
      "148:\tlearn: 0.2152695\ttotal: 34.1s\tremaining: 11.7s\n",
      "149:\tlearn: 0.2152685\ttotal: 34.3s\tremaining: 11.4s\n",
      "150:\tlearn: 0.2151256\ttotal: 34.6s\tremaining: 11.2s\n",
      "151:\tlearn: 0.2148996\ttotal: 34.8s\tremaining: 11s\n",
      "152:\tlearn: 0.2148139\ttotal: 35s\tremaining: 10.8s\n",
      "153:\tlearn: 0.2144802\ttotal: 35.2s\tremaining: 10.5s\n",
      "154:\tlearn: 0.2141856\ttotal: 35.5s\tremaining: 10.3s\n",
      "155:\tlearn: 0.2141250\ttotal: 35.7s\tremaining: 10.1s\n",
      "156:\tlearn: 0.2138577\ttotal: 35.9s\tremaining: 9.84s\n",
      "157:\tlearn: 0.2136300\ttotal: 36.1s\tremaining: 9.61s\n",
      "158:\tlearn: 0.2135904\ttotal: 36.4s\tremaining: 9.38s\n",
      "159:\tlearn: 0.2135726\ttotal: 36.6s\tremaining: 9.15s\n",
      "160:\tlearn: 0.2133625\ttotal: 36.8s\tremaining: 8.92s\n",
      "161:\tlearn: 0.2133171\ttotal: 37s\tremaining: 8.69s\n",
      "162:\tlearn: 0.2132937\ttotal: 37.3s\tremaining: 8.46s\n",
      "163:\tlearn: 0.2132722\ttotal: 37.5s\tremaining: 8.23s\n",
      "164:\tlearn: 0.2131419\ttotal: 37.7s\tremaining: 8s\n",
      "165:\tlearn: 0.2131242\ttotal: 37.9s\tremaining: 7.77s\n",
      "166:\tlearn: 0.2129215\ttotal: 38.2s\tremaining: 7.54s\n",
      "167:\tlearn: 0.2128454\ttotal: 38.4s\tremaining: 7.31s\n",
      "168:\tlearn: 0.2126397\ttotal: 38.7s\tremaining: 7.09s\n",
      "169:\tlearn: 0.2124309\ttotal: 38.9s\tremaining: 6.86s\n",
      "170:\tlearn: 0.2122187\ttotal: 39.1s\tremaining: 6.63s\n",
      "171:\tlearn: 0.2119650\ttotal: 39.3s\tremaining: 6.4s\n",
      "172:\tlearn: 0.2118777\ttotal: 39.6s\tremaining: 6.17s\n",
      "173:\tlearn: 0.2118030\ttotal: 39.8s\tremaining: 5.95s\n",
      "174:\tlearn: 0.2117795\ttotal: 40s\tremaining: 5.72s\n",
      "175:\tlearn: 0.2117563\ttotal: 40.2s\tremaining: 5.49s\n",
      "176:\tlearn: 0.2116535\ttotal: 40.5s\tremaining: 5.26s\n",
      "177:\tlearn: 0.2115703\ttotal: 40.7s\tremaining: 5.03s\n",
      "178:\tlearn: 0.2114441\ttotal: 40.9s\tremaining: 4.8s\n",
      "179:\tlearn: 0.2112417\ttotal: 41.1s\tremaining: 4.57s\n",
      "180:\tlearn: 0.2111278\ttotal: 41.4s\tremaining: 4.34s\n",
      "181:\tlearn: 0.2110152\ttotal: 41.6s\tremaining: 4.11s\n",
      "182:\tlearn: 0.2107271\ttotal: 41.8s\tremaining: 3.88s\n",
      "183:\tlearn: 0.2107253\ttotal: 42s\tremaining: 3.65s\n",
      "184:\tlearn: 0.2106036\ttotal: 42.3s\tremaining: 3.43s\n",
      "185:\tlearn: 0.2105065\ttotal: 42.5s\tremaining: 3.2s\n",
      "186:\tlearn: 0.2104907\ttotal: 42.7s\tremaining: 2.97s\n",
      "187:\tlearn: 0.2104904\ttotal: 42.9s\tremaining: 2.74s\n",
      "188:\tlearn: 0.2104611\ttotal: 43.2s\tremaining: 2.51s\n",
      "189:\tlearn: 0.2104022\ttotal: 43.4s\tremaining: 2.28s\n",
      "190:\tlearn: 0.2102329\ttotal: 43.6s\tremaining: 2.06s\n",
      "191:\tlearn: 0.2100495\ttotal: 43.8s\tremaining: 1.83s\n",
      "192:\tlearn: 0.2098069\ttotal: 44.1s\tremaining: 1.6s\n",
      "193:\tlearn: 0.2096658\ttotal: 44.3s\tremaining: 1.37s\n",
      "194:\tlearn: 0.2095002\ttotal: 44.5s\tremaining: 1.14s\n",
      "195:\tlearn: 0.2093794\ttotal: 44.7s\tremaining: 913ms\n",
      "196:\tlearn: 0.2093463\ttotal: 45s\tremaining: 685ms\n",
      "197:\tlearn: 0.2091649\ttotal: 45.2s\tremaining: 457ms\n",
      "198:\tlearn: 0.2090035\ttotal: 45.4s\tremaining: 228ms\n",
      "199:\tlearn: 0.2088638\ttotal: 45.6s\tremaining: 0us\n",
      "Confusion Matrix : \n",
      "[[11984  1745]\n",
      " [  295 14480]]\n",
      "Classification Report:\n",
      "              precision    recall  f1-score   support\n",
      "\n",
      "           0       0.98      0.87      0.92     13729\n",
      "           1       0.89      0.98      0.93     14775\n",
      "\n",
      "    accuracy                           0.93     28504\n",
      "   macro avg       0.93      0.93      0.93     28504\n",
      "weighted avg       0.93      0.93      0.93     28504\n",
      "\n",
      "Accuracy: 92.84%\n"
     ]
    }
   ],
   "source": [
    "#CatBoost\n",
    "clf = cb.CatBoostClassifier(depth=10, iterations= 200, l2_leaf_reg= 8, learning_rate= 0.085)\n",
    "clf.fit(X_train,y_train)\n",
    "y_pred_2 = clf.predict(X_test)\n",
    "predictions = [value for value in y_pred_2]\n",
    "# evaluate predictions\n",
    "result = confusion_matrix(y_test, predictions)\n",
    "print('Confusion Matrix : ')\n",
    "print(result)\n",
    "result1 = classification_report(y_test, predictions)\n",
    "print('Classification Report:')\n",
    "print (result1)\n",
    "result2 = accuracy_score(y_test,predictions)\n",
    "print(\"Accuracy: %.2f%%\" % (result2 * 100.0))"
   ]
  }
 ],
 "metadata": {
  "kernelspec": {
   "display_name": "Python 3",
   "language": "python",
   "name": "python3"
  },
  "language_info": {
   "codemirror_mode": {
    "name": "ipython",
    "version": 3
   },
   "file_extension": ".py",
   "mimetype": "text/x-python",
   "name": "python",
   "nbconvert_exporter": "python",
   "pygments_lexer": "ipython3",
   "version": "3.7.10"
  },
  "papermill": {
   "default_parameters": {},
   "duration": 8635.603456,
   "end_time": "2021-07-24T17:38:00.710942",
   "environment_variables": {},
   "exception": null,
   "input_path": "__notebook__.ipynb",
   "output_path": "__notebook__.ipynb",
   "parameters": {},
   "start_time": "2021-07-24T15:14:05.107486",
   "version": "2.3.3"
  }
 },
 "nbformat": 4,
 "nbformat_minor": 5
}
